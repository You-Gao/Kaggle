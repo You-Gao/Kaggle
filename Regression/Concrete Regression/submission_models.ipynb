{
 "cells": [
  {
   "attachments": {},
   "cell_type": "markdown",
   "metadata": {},
   "source": [
    "## Modelling"
   ]
  },
  {
   "cell_type": "markdown",
   "metadata": {},
   "source": [
    "### Model Imports / Data Splits"
   ]
  },
  {
   "cell_type": "code",
   "execution_count": null,
   "metadata": {},
   "outputs": [],
   "source": [
    "# Import Linear Regression Packages\n",
    "\n",
    "from sklearn.linear_model import LinearRegression, Ridge, Lasso\n",
    "\n",
    "# Import Decision Tree Packages\n",
    "\n",
    "from sklearn.tree import DecisionTreeRegressor\n",
    "\n",
    "# Import Random Forest Packages\n",
    "\n",
    "from sklearn.ensemble import RandomForestRegressor\n",
    "\n",
    "# Import XgBoost, LightGBM, and CatBoost Packages\n",
    "\n",
    "import xgboost as xgb\n",
    "import lightgbm as lgb\n",
    "import catboost as cb\n",
    "\n",
    "# Import Train Test Split and k-Fold Cross Validation\n",
    "\n",
    "from sklearn.model_selection import train_test_split, cross_val_score, GridSearchCV, KFold\n",
    "\n",
    "# Import Metrics\n",
    "\n",
    "from sklearn.metrics import mean_squared_error, r2_score, mean_absolute_error"
   ]
  },
  {
   "cell_type": "code",
   "execution_count": null,
   "metadata": {},
   "outputs": [],
   "source": [
    "# Create X and y\n",
    "x = ##\n",
    "y = ##\n",
    "\n",
    "# Create K-Fold Cross Validation\n",
    "kf = KFold(n_splits=5, shuffle=True, random_state=42)\n",
    "kf.get_n_splits(x)\n",
    "\n",
    "# Create Train Test Split\n",
    "\n",
    "X_train, X_test, y_train, y_test = train_test_split(x, y, test_size=0.2, random_state=42)"
   ]
  },
  {
   "cell_type": "code",
   "execution_count": null,
   "metadata": {},
   "outputs": [],
   "source": [
    "x.head()\n",
    "print(x.shape)"
   ]
  },
  {
   "cell_type": "code",
   "execution_count": null,
   "metadata": {},
   "outputs": [],
   "source": [
    "y.head()\n",
    "print(y.shape)"
   ]
  },
  {
   "cell_type": "markdown",
   "metadata": {},
   "source": [
    "### Linear Models"
   ]
  },
  {
   "cell_type": "code",
   "execution_count": null,
   "metadata": {},
   "outputs": [],
   "source": [
    "# Linear Regression\n",
    "\n",
    "for train_index, test_index in kf.split(x):\n",
    "    x_train, x_test = x.iloc[train_index], x.iloc[test_index]\n",
    "    y_train, y_test = y.iloc[train_index], y.iloc[test_index]\n",
    "    \n",
    "    model = LinearRegression()\n",
    "    model.fit(x_train, y_train)\n",
    "    \n",
    "    y_pred = model.predict(x_test)\n",
    "    \n",
    "    print('R2 Score: ', r2_score(y_test, y_pred))\n",
    "    print('MSE: ', mean_squared_error(y_test, y_pred))\n",
    "    print('MAE: ', mean_absolute_error(y_test, y_pred))\n",
    "    print('RMSE: ', np.sqrt(mean_squared_error(y_test, y_pred)))\n",
    "    print('')"
   ]
  },
  {
   "cell_type": "code",
   "execution_count": null,
   "metadata": {},
   "outputs": [],
   "source": [
    "# Lasso Regression\n",
    "\n",
    "for train_index, test_index in kf.split(x):\n",
    "    x_train, x_test = x.iloc[train_index], x.iloc[test_index]\n",
    "    y_train, y_test = y.iloc[train_index], y.iloc[test_index]\n",
    "    \n",
    "    model = Lasso()\n",
    "    model.fit(x_train, y_train)\n",
    "    \n",
    "    y_pred = model.predict(x_test)\n",
    "    \n",
    "    print('R2 Score: ', r2_score(y_test, y_pred))\n",
    "    print('MSE: ', mean_squared_error(y_test, y_pred))\n",
    "    print('MAE: ', mean_absolute_error(y_test, y_pred))\n",
    "    print('RMSE: ', np.sqrt(mean_squared_error(y_test, y_pred)))\n",
    "    print('')\n",
    "    \n",
    "print(y_pred)"
   ]
  },
  {
   "cell_type": "code",
   "execution_count": null,
   "metadata": {},
   "outputs": [],
   "source": [
    "# Ridge Regression\n",
    "\n",
    "for train_index, test_index in kf.split(x):\n",
    "    x_train, x_test = x.iloc[train_index], x.iloc[test_index]\n",
    "    y_train, y_test = y.iloc[train_index], y.iloc[test_index]\n",
    "    \n",
    "    model = Ridge()\n",
    "    model.fit(x_train, y_train)\n",
    "    \n",
    "    y_pred = model.predict(x_test)\n",
    "    print(y_pred)\n",
    "    \n",
    "    print('R2 Score: ', r2_score(y_test, y_pred))\n",
    "    print('MSE: ', mean_squared_error(y_test, y_pred))\n",
    "    print('MAE: ', mean_absolute_error(y_test, y_pred))\n",
    "    print('RMSE: ', np.sqrt(mean_squared_error(y_test, y_pred)))\n",
    "    print('')"
   ]
  },
  {
   "cell_type": "markdown",
   "metadata": {},
   "source": [
    "### Nonlinear Models"
   ]
  },
  {
   "cell_type": "code",
   "execution_count": null,
   "metadata": {},
   "outputs": [],
   "source": [
    "# Random Forest Regression\n",
    "\n",
    "for train_index, test_index in kf.split(x):\n",
    "    x_train, x_test = x.iloc[train_index], x.iloc[test_index]\n",
    "    y_train, y_test = y.iloc[train_index], y.iloc[test_index]\n",
    "    \n",
    "    model =  RandomForestRegressor()\n",
    "    model.fit(x_train, y_train)\n",
    "    \n",
    "    y_pred = model.predict(x_test)\n",
    "    \n",
    "    print('R2 Score: ', r2_score(y_test, y_pred))\n",
    "    print('MSE: ', mean_squared_error(y_test, y_pred))\n",
    "    print('MAE: ', mean_absolute_error(y_test, y_pred))\n",
    "    print('RMSE: ', np.sqrt(mean_squared_error(y_test, y_pred)))\n",
    "    print('')"
   ]
  },
  {
   "cell_type": "code",
   "execution_count": null,
   "metadata": {},
   "outputs": [],
   "source": [
    "# CatBoost Regression\n",
    "\n",
    "for train_index, test_index in kf.split(x):\n",
    "    x_train, x_test = x.iloc[train_index], x.iloc[test_index]\n",
    "    y_train, y_test = y.iloc[train_index], y.iloc[test_index]\n",
    "    \n",
    "    model = cb.CatBoostRegressor()  \n",
    "    model.fit(x_train, y_train)\n",
    "    \n",
    "    y_pred = model.predict(x_test)\n",
    "    \n",
    "    print('R2 Score: ', r2_score(y_test, y_pred))\n",
    "    print('MSE: ', mean_squared_error(y_test, y_pred))\n",
    "    print('MAE: ', mean_absolute_error(y_test, y_pred))\n",
    "    print('RMSE: ', np.sqrt(mean_squared_error(y_test, y_pred)))\n",
    "    print('')"
   ]
  },
  {
   "cell_type": "code",
   "execution_count": null,
   "metadata": {},
   "outputs": [],
   "source": [
    "# XGBoost Regression\n",
    "\n",
    "for train_index, test_index in kf.split(x):\n",
    "    x_train, x_test = x.iloc[train_index], x.iloc[test_index]\n",
    "    y_train, y_test = y.iloc[train_index], y.iloc[test_index]\n",
    "\n",
    "    \n",
    "    model = xgb.XGBRegressor()  \n",
    "    \n",
    "    model.fit(x_train, y_train)\n",
    "    \n",
    "    y_pred = model.predict(x_test)\n",
    "    \n",
    "    print('R2 Score: ', r2_score(y_test, y_pred))\n",
    "    print('MSE: ', mean_squared_error(y_test, y_pred))\n",
    "    print('MAE: ', mean_absolute_error(y_test, y_pred))\n",
    "    print('RMSE: ', np.sqrt(mean_squared_error(y_test, y_pred)))\n",
    "    print('')"
   ]
  },
  {
   "cell_type": "markdown",
   "metadata": {},
   "source": [
    "### Submission"
   ]
  },
  {
   "cell_type": "code",
   "execution_count": null,
   "metadata": {},
   "outputs": [],
   "source": [
    "# Load Test Data and Preprocess\n",
    "\n",
    "X_test = pd.read_csv('test.csv')"
   ]
  },
  {
   "cell_type": "code",
   "execution_count": null,
   "metadata": {},
   "outputs": [],
   "source": [
    "# Model Ensemble \n",
    "models = [LinearRegression(), Lasso(), Ridge()]\n",
    "preds = []\n",
    "\n",
    "for model in models:\n",
    "    model.fit(x, y)\n",
    "    preds.append(model.predict(X_test))\n",
    "    \n",
    "mean = np.mean(preds, axis=0)\n",
    "sample = pd.read_csv('sample_submission.csv')\n",
    "#sample['Strength'] = mean\n",
    "sample.to_csv('submission.csv', index=False)\n",
    "    \n",
    "    \n",
    "\n",
    "    "
   ]
  },
  {
   "cell_type": "code",
   "execution_count": null,
   "metadata": {},
   "outputs": [],
   "source": [
    "# Non-Linear Model Ensemble \n",
    "models = [cb.CatBoostRegressor(), xgb.XGBRegressor(), RandomForestRegressor()]    \n",
    "preds = []\n",
    "\n",
    "for model in models:\n",
    "    model.fit(x, y)\n",
    "    preds.append(model.predict(X_test))\n",
    "    \n",
    "mean = np.mean(preds, axis=0)\n",
    "sample = pd.read_csv('sample_submission.csv')\n",
    "#sample['Strength'] = mean\n",
    "sample.to_csv('submission.csv', index=False)"
   ]
  },
  {
   "cell_type": "code",
   "execution_count": null,
   "metadata": {},
   "outputs": [],
   "source": [
    "# Entire Ensemble\n",
    "\n",
    "models = [LinearRegression(), Lasso(), Ridge(), cb.CatBoostRegressor(), xgb.XGBRegressor(), RandomForestRegressor()]\n",
    "preds = []\n",
    "\n",
    "for model in models:\n",
    "    model.fit(x, y)\n",
    "    preds.append(model.predict(X_test))\n",
    "    \n",
    "mean = np.mean(preds, axis=0)\n",
    "sample = pd.read_csv('sample_submission.csv')\n",
    "#sample['Strength'] = mean\n",
    "sample.to_csv('submission.csv', index=False)"
   ]
  }
 ],
 "metadata": {
  "kernelspec": {
   "display_name": "Python 3",
   "language": "python",
   "name": "python3"
  },
  "language_info": {
   "codemirror_mode": {
    "name": "ipython",
    "version": 3
   },
   "file_extension": ".py",
   "mimetype": "text/x-python",
   "name": "python",
   "nbconvert_exporter": "python",
   "pygments_lexer": "ipython3",
   "version": "3.10.8"
  },
  "orig_nbformat": 4
 },
 "nbformat": 4,
 "nbformat_minor": 2
}
