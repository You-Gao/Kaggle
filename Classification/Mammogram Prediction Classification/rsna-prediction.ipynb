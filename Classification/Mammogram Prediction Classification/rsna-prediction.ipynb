{
 "cells": [
  {
   "cell_type": "code",
   "execution_count": 2,
   "metadata": {},
   "outputs": [],
   "source": [
    "import pandas as pd\n",
    "import numpy as np\n",
    "import cv2"
   ]
  },
  {
   "cell_type": "code",
   "execution_count": 5,
   "metadata": {},
   "outputs": [
    {
     "data": {
      "text/html": [
       "<div>\n",
       "<style scoped>\n",
       "    .dataframe tbody tr th:only-of-type {\n",
       "        vertical-align: middle;\n",
       "    }\n",
       "\n",
       "    .dataframe tbody tr th {\n",
       "        vertical-align: top;\n",
       "    }\n",
       "\n",
       "    .dataframe thead th {\n",
       "        text-align: right;\n",
       "    }\n",
       "</style>\n",
       "<table border=\"1\" class=\"dataframe\">\n",
       "  <thead>\n",
       "    <tr style=\"text-align: right;\">\n",
       "      <th></th>\n",
       "      <th>site_id</th>\n",
       "      <th>patient_id</th>\n",
       "      <th>image_id</th>\n",
       "      <th>laterality</th>\n",
       "      <th>view</th>\n",
       "      <th>age</th>\n",
       "      <th>implant</th>\n",
       "      <th>machine_id</th>\n",
       "      <th>prediction_id</th>\n",
       "    </tr>\n",
       "  </thead>\n",
       "  <tbody>\n",
       "    <tr>\n",
       "      <th>0</th>\n",
       "      <td>2</td>\n",
       "      <td>10008</td>\n",
       "      <td>736471439</td>\n",
       "      <td>L</td>\n",
       "      <td>MLO</td>\n",
       "      <td>81</td>\n",
       "      <td>0</td>\n",
       "      <td>21</td>\n",
       "      <td>10008_L</td>\n",
       "    </tr>\n",
       "    <tr>\n",
       "      <th>1</th>\n",
       "      <td>2</td>\n",
       "      <td>10008</td>\n",
       "      <td>1591370361</td>\n",
       "      <td>L</td>\n",
       "      <td>CC</td>\n",
       "      <td>81</td>\n",
       "      <td>0</td>\n",
       "      <td>21</td>\n",
       "      <td>10008_L</td>\n",
       "    </tr>\n",
       "    <tr>\n",
       "      <th>2</th>\n",
       "      <td>2</td>\n",
       "      <td>10008</td>\n",
       "      <td>68070693</td>\n",
       "      <td>R</td>\n",
       "      <td>MLO</td>\n",
       "      <td>81</td>\n",
       "      <td>0</td>\n",
       "      <td>21</td>\n",
       "      <td>10008_R</td>\n",
       "    </tr>\n",
       "    <tr>\n",
       "      <th>3</th>\n",
       "      <td>2</td>\n",
       "      <td>10008</td>\n",
       "      <td>361203119</td>\n",
       "      <td>R</td>\n",
       "      <td>CC</td>\n",
       "      <td>81</td>\n",
       "      <td>0</td>\n",
       "      <td>21</td>\n",
       "      <td>10008_R</td>\n",
       "    </tr>\n",
       "  </tbody>\n",
       "</table>\n",
       "</div>"
      ],
      "text/plain": [
       "   site_id  patient_id    image_id laterality view  age  implant  machine_id  \\\n",
       "0        2       10008   736471439          L  MLO   81        0          21   \n",
       "1        2       10008  1591370361          L   CC   81        0          21   \n",
       "2        2       10008    68070693          R  MLO   81        0          21   \n",
       "3        2       10008   361203119          R   CC   81        0          21   \n",
       "\n",
       "  prediction_id  \n",
       "0       10008_L  \n",
       "1       10008_L  \n",
       "2       10008_R  \n",
       "3       10008_R  "
      ]
     },
     "execution_count": 5,
     "metadata": {},
     "output_type": "execute_result"
    }
   ],
   "source": [
    "# Create predictions for the test set\n",
    "test = pd.read_csv(r'C:\\Users\\commo\\OneDrive - University of Virginia\\Work Documents\\Coding Projects\\Kaggle\\Mammogram Prediction\\test (2).csv')\n",
    "\n",
    "test.head()\n",
    "\n"
   ]
  },
  {
   "cell_type": "code",
   "execution_count": 8,
   "metadata": {},
   "outputs": [],
   "source": [
    "image_ids = test.groupby('patient_id')['image_id'].apply(list)"
   ]
  },
  {
   "cell_type": "code",
   "execution_count": null,
   "metadata": {},
   "outputs": [],
   "source": [
    "path = r'C:\\Users\\commo\\OneDrive - University of Virginia\\Work Documents\\Coding Projects\\Kaggle\\Mammogram Prediction\\images_as_pngs_cv2_vl_256\\train_images_processed_cv2_vl_256'\n",
    "\n",
    "# Load the images into the dataframe\n",
    "def load_images(image_ids, path):\n",
    "    loaded_images = []\n",
    "    images_loaded = 0\n",
    "    for patient_id, image_idslist in image_ids.items():\n",
    "\n",
    "        if images_loaded % 100 == 0:\n",
    "            print('Loaded {} images'.format(images_loaded))\n",
    "                                                \n",
    "        for image_id in image_idslist:\n",
    "            image = cv2.imread(path + '\\\\' + str(patient_id) + '\\\\' + str(image_id) + '.png')\n",
    "            loaded_images.append(image)\n",
    "            images_loaded += 1\n",
    "\n",
    "\n",
    "    if len(loaded_images) == 0:\n",
    "        print('No images found')\n",
    "    else:\n",
    "        print('Images loaded')\n",
    "\n",
    "    return loaded_images\n",
    "\n",
    "test_images = load_images(image_ids, path)"
   ]
  },
  {
   "cell_type": "code",
   "execution_count": null,
   "metadata": {},
   "outputs": [],
   "source": [
    "# Load the model\n",
    "\n",
    "import tensorflow as tf\n",
    "\n",
    "cnn_model = tf.keras.models.load_model(r'C:\\Users\\commo\\OneDrive - University of Virginia\\Work Documents\\Coding Projects\\Kaggle\\Mammogram Prediction\\cnn_model.h5')"
   ]
  },
  {
   "cell_type": "code",
   "execution_count": null,
   "metadata": {},
   "outputs": [],
   "source": [
    "# Create a list of predictions to be in the cancer probability column\n",
    "\n",
    "\n",
    "# Group predictions by prediction_id and taking the mean of the predictions, take the mode of the age, implant, and machine_id\n",
    "# Drop the columns except for age, implant, and machine_id\n",
    "# Feed through a LightGBM model\n",
    "# Submit"
   ]
  },
  {
   "cell_type": "code",
   "execution_count": 9,
   "metadata": {},
   "outputs": [
    {
     "data": {
      "text/plain": [
       "patient_id\n",
       "10008    [736471439, 1591370361, 68070693, 361203119]\n",
       "Name: image_id, dtype: object"
      ]
     },
     "execution_count": 9,
     "metadata": {},
     "output_type": "execute_result"
    }
   ],
   "source": [
    "image_ids.head()"
   ]
  }
 ],
 "metadata": {
  "kernelspec": {
   "display_name": "Python 3",
   "language": "python",
   "name": "python3"
  },
  "language_info": {
   "codemirror_mode": {
    "name": "ipython",
    "version": 3
   },
   "file_extension": ".py",
   "mimetype": "text/x-python",
   "name": "python",
   "nbconvert_exporter": "python",
   "pygments_lexer": "ipython3",
   "version": "3.10.8 (tags/v3.10.8:aaaf517, Oct 11 2022, 16:50:30) [MSC v.1933 64 bit (AMD64)]"
  },
  "orig_nbformat": 4,
  "vscode": {
   "interpreter": {
    "hash": "f26fb8f1cc4af4fdab25dcb6e8ce33ad2ab890528954ea2c4dba7f2d5f34f9bb"
   }
  }
 },
 "nbformat": 4,
 "nbformat_minor": 2
}
