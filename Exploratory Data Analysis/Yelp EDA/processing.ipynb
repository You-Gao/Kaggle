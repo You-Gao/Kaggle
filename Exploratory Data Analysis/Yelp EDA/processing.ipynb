{
 "cells": [
  {
   "cell_type": "code",
   "execution_count": 32,
   "metadata": {},
   "outputs": [
    {
     "name": "stdout",
     "output_type": "stream",
     "text": [
      "['', 'Bojangles', 'Bojangles', '3.0 star rating33 reviews', '$  Chicken Shop, Fast Food', '', '3/5 price, 3/5 taste (wings)', 'Mi Casita', 'Mi Casita', '4.5 star rating44 reviews', 'Latin American', '', '4/5 price, 4/5 taste (papusa & baleadas)', 'Little Manila', 'Little Manila', '4.5 star rating29 reviews', '$  Filipino, Food Trucks', '', '2/5 price, 4.5/5 taste (lumpia)', 'Vu Noodles', 'Vu Noodles', '4.5 star rating72 reviews', '$  Noodles', '', '3/5 price, 4.5/5 taste (pho)', 'Marco & Luca', 'Marco & Luca', '4.0 star rating281 reviews', '$  Chinese, Noodles', '', '4.5/5 price, 3/5 taste (dumplings)', 'Iron Paffles & Coffee', 'Iron Paffles & Coffee', '4.0 star rating288 reviews', '$$  Waffles, Sandwiches', '', '4/5 price, 4/5 taste (paffles)', 'BurgerFi', 'BurgerFi', '3.0 star rating46 reviews', 'Burgers, Hot Dogs', '', '3/5 price, 3/5 taste (burgers)', 'Mochiko Hawaiian BBQ and Deli', 'Mochiko Hawaiian BBQ and Deli', '4.5 star rating142 reviews', 'Hawaiian, Japanese Curry', '', '4.5/5 price, 4/5 taste (katsu)', 'MarieBette Cafe and Bakery', 'MarieBette Cafe and Bakery', '4.5 star rating581 reviews', '$$  Breakfast & Brunch, Bakeries', '', '4/5 price, 4/5 taste (cafe)', 'Kung Fu Tea', 'Kung Fu Tea', '4.0 star rating81 reviews', '$  Bubble Tea, Coffee & Tea', '', '3/5 price 3.5/5 taste (boba)', 'Mellow Mushroom Charlottesville', 'Mellow Mushroom Charlottesville', '4.0 star rating310 reviews', '$$  Pizza, Bars', '', '2/5 price, 4/5 taste (pizza)', 'Roots Natural Kitchen', 'Roots Natural Kitchen', '4.5 star rating319 reviews', '$$  Salad, Live/Raw Food', '', '3/5 price, 3.5/5 taste (bowls)', 'Got Dumplings', 'Got Dumplings', '4.0 star rating133 reviews', '$  Chinese', '', '3/5 price, 3/5 taste (dumplings)', 'Beijing Station', 'Beijing Station', '4.0 star rating29 reviews', '$  Chinese', '', '4/5 price, 4/5 taste (combo)', 'Lemongrass', 'Lemongrass', '3.5 star rating168 reviews', '$$  Thai, Japanese', '', '4/5 price, 4.5/5 taste (poke)', 'MÃ¶ge Tee', 'MÃ¶ge Tee', '4.5 star rating43 reviews', 'Bubble Tea', '', '3/5 price, 4.5/5 taste (boba)', 'Inka Peruvian Grill', 'Inka Peruvian Grill', '4.5 star rating57 reviews', 'Peruvian', '', '2/5 price 4.5/5 taste (?)', 'Kuma Sushi-Noodles & Bar', 'Kuma Sushi-Noodles & Bar', '3.5 star rating144 reviews', '$$  Sushi Bars, Noodles', '', '2/5 price, 4/5 taste (ramen)', 'Seoul Korean', 'Seoul Korean', '4.0 star rating36 reviews', '$$$  Korean', '', '3/5 price 5/5 taste (meat)', 'Duck Donuts - Charlottesville', 'Duck Donuts - Charlottesville', '4.5 star rating237 reviews', '$  Donuts, Coffee & Tea', '', '3/5 price, 4/5 taste (donuts)', \"Bodo's Bagels\", 'Bodoâ€™s Bagels', '4.5 star rating605 reviews', '$  Bagels, Breakfast & Brunch', '', '4.5/5 price, 4/5 taste (bagels)', 'Mezeh - Charlottesville', 'Mezeh - Charlottesville', '4.0 star rating210 reviews', '$$  Mediterranean, Halal', '', '2/5 price, 4/5 taste (med bowl)', 'Popeyes Louisiana Kitchen', 'Popeyes Louisiana Kitchen', '2.0 star rating33 reviews', '$  Fast Food, Chicken Wings', '', '3/5 price, 3/5 taste (wings)', 'Cook Out', 'Cook Out', '3.5 star rating121 reviews', '$  Burgers, Hot Dogs', '', '4.5/5 price, 3/5 taste (burgers)', 'Afghan Kabob Cville', 'Afghan Kabob Cville', '4.0 star rating216 reviews', '$$  Afghan, Seafood', '', '2/5 price, 4/5 taste (med bowls)', 'Mashumen', 'Mashumen', '4.0 star rating115 reviews', 'Ramen, Sushi Bars', '', '2/5 price, 4/5 taste (ramen)', 'Playa Bowls', 'Playa Bowls', 'Coffee & Tea, Acai Bowls', '', '2/5 price, 4.5/5 taste (acai)']\n"
     ]
    }
   ],
   "source": [
    "import re \n",
    "with open(\"cville.txt\") as f:\n",
    "    lines = f.readlines()\n",
    "    lines = [line.strip() for line in lines]\n",
    "print(lines)\n"
   ]
  },
  {
   "cell_type": "code",
   "execution_count": 38,
   "metadata": {},
   "outputs": [
    {
     "name": "stdout",
     "output_type": "stream",
     "text": [
      "Bojangles [0.6, 0.6]\n",
      "Mi Casita [0.8, 0.8]\n",
      "Little Manila [0.4, 0.9]\n",
      "Vu Noodles [0.6, 0.9]\n",
      "Marco & Luca [0.9, 0.6]\n",
      "Iron Paffles & Coffee [0.8, 0.8]\n",
      "BurgerFi [0.6, 0.6]\n",
      "Mochiko Hawaiian BBQ and Deli [0.9, 0.8]\n",
      "MarieBette Cafe and Bakery [0.8, 0.8]\n",
      "Kung Fu Tea [0.6]\n",
      "Mellow Mushroom Charlottesville [0.4, 0.8]\n",
      "Roots Natural Kitchen [0.6, 0.7]\n",
      "Got Dumplings [0.6, 0.6]\n",
      "Beijing Station [0.8, 0.8]\n",
      "Lemongrass [0.8, 0.9]\n",
      "MÃ¶ge Tee [0.6, 0.9]\n",
      "Inka Peruvian Grill [0.4]\n",
      "Kuma Sushi-Noodles & Bar [0.4, 0.8]\n",
      "Seoul Korean [0.6]\n",
      "Duck Donuts - Charlottesville [0.6, 0.8]\n",
      "Bodo's Bagels [0.9, 0.8]\n",
      "Mezeh - Charlottesville [0.4, 0.8]\n",
      "Popeyes Louisiana Kitchen [0.6, 0.6]\n",
      "Cook Out [0.9, 0.6]\n",
      "Afghan Kabob Cville [0.4, 0.8]\n",
      "Mashumen [0.4, 0.8]\n"
     ]
    }
   ],
   "source": [
    "food_rating_dict = {}\n",
    "for i in range(6, len(lines),6):\n",
    "    ratings_list = lines[i].split(\",\")\n",
    "    # use this to string match -?\\d+/-?\\d+\n",
    "    for j,rating in enumerate(ratings_list):\n",
    "        match = re.search(r\"-?\\d+(\\.\\d+)?/-?\\d+(\\.\\d+)?\", rating)\n",
    "        if match:\n",
    "            ratings_list[j] = float(match.group(0).split(\"/\")[0]) / float(match.group(0).split(\"/\")[1])\n",
    "    print(lines[i-5],ratings_list)\n",
    "    food_rating_dict[lines[i-5]] = ratings_list"
   ]
  },
  {
   "cell_type": "code",
   "execution_count": 41,
   "metadata": {},
   "outputs": [],
   "source": [
    "import pandas as pd\n",
    "# df from dict\n",
    "df = pd.DataFrame.from_dict(food_rating_dict, orient='index')"
   ]
  },
  {
   "cell_type": "code",
   "execution_count": 45,
   "metadata": {},
   "outputs": [],
   "source": [
    "# manual impute\n",
    "df.loc[\"Kung Fu Tea\"][1] = .8\n",
    "df.loc[\"Inka Peruvian Grill\"][1] = .8\n",
    "df.loc[\"Seoul Korean\"][1] = 1"
   ]
  },
  {
   "cell_type": "code",
   "execution_count": 46,
   "metadata": {},
   "outputs": [],
   "source": [
    "df.sort_values(by=1, ascending=False, inplace=True)"
   ]
  },
  {
   "cell_type": "code",
   "execution_count": 49,
   "metadata": {},
   "outputs": [
    {
     "data": {
      "text/html": [
       "<div>\n",
       "<style scoped>\n",
       "    .dataframe tbody tr th:only-of-type {\n",
       "        vertical-align: middle;\n",
       "    }\n",
       "\n",
       "    .dataframe tbody tr th {\n",
       "        vertical-align: top;\n",
       "    }\n",
       "\n",
       "    .dataframe thead th {\n",
       "        text-align: right;\n",
       "    }\n",
       "</style>\n",
       "<table border=\"1\" class=\"dataframe\">\n",
       "  <thead>\n",
       "    <tr style=\"text-align: right;\">\n",
       "      <th></th>\n",
       "      <th>0</th>\n",
       "      <th>1</th>\n",
       "      <th>Mean Score</th>\n",
       "    </tr>\n",
       "  </thead>\n",
       "  <tbody>\n",
       "    <tr>\n",
       "      <th>Lemongrass</th>\n",
       "      <td>0.8</td>\n",
       "      <td>0.9</td>\n",
       "      <td>0.85</td>\n",
       "    </tr>\n",
       "    <tr>\n",
       "      <th>Bodo's Bagels</th>\n",
       "      <td>0.9</td>\n",
       "      <td>0.8</td>\n",
       "      <td>0.85</td>\n",
       "    </tr>\n",
       "    <tr>\n",
       "      <th>Mochiko Hawaiian BBQ and Deli</th>\n",
       "      <td>0.9</td>\n",
       "      <td>0.8</td>\n",
       "      <td>0.85</td>\n",
       "    </tr>\n",
       "    <tr>\n",
       "      <th>Seoul Korean</th>\n",
       "      <td>0.6</td>\n",
       "      <td>1.0</td>\n",
       "      <td>0.80</td>\n",
       "    </tr>\n",
       "    <tr>\n",
       "      <th>MarieBette Cafe and Bakery</th>\n",
       "      <td>0.8</td>\n",
       "      <td>0.8</td>\n",
       "      <td>0.80</td>\n",
       "    </tr>\n",
       "  </tbody>\n",
       "</table>\n",
       "</div>"
      ],
      "text/plain": [
       "                                 0    1  Mean Score\n",
       "Lemongrass                     0.8  0.9        0.85\n",
       "Bodo's Bagels                  0.9  0.8        0.85\n",
       "Mochiko Hawaiian BBQ and Deli  0.9  0.8        0.85\n",
       "Seoul Korean                   0.6  1.0        0.80\n",
       "MarieBette Cafe and Bakery     0.8  0.8        0.80"
      ]
     },
     "execution_count": 49,
     "metadata": {},
     "output_type": "execute_result"
    }
   ],
   "source": [
    "df[\"Mean Score\"] = df.mean(axis=1)\n",
    "df.sort_values(by=\"Mean Score\", ascending=False, inplace=True)"
   ]
  },
  {
   "cell_type": "code",
   "execution_count": 50,
   "metadata": {},
   "outputs": [
    {
     "name": "stdout",
     "output_type": "stream",
     "text": [
      "                                   0    1  Mean Score\n",
      "Lemongrass                       0.8  0.9        0.85\n",
      "Bodo's Bagels                    0.9  0.8        0.85\n",
      "Mochiko Hawaiian BBQ and Deli    0.9  0.8        0.85\n",
      "Seoul Korean                     0.6  1.0        0.80\n",
      "MarieBette Cafe and Bakery       0.8  0.8        0.80\n",
      "Beijing Station                  0.8  0.8        0.80\n",
      "Mi Casita                        0.8  0.8        0.80\n",
      "Iron Paffles & Coffee            0.8  0.8        0.80\n",
      "Vu Noodles                       0.6  0.9        0.75\n",
      "MÃ¶ge Tee                        0.6  0.9        0.75\n",
      "Marco & Luca                     0.9  0.6        0.75\n",
      "Cook Out                         0.9  0.6        0.75\n",
      "Duck Donuts - Charlottesville    0.6  0.8        0.70\n",
      "Kung Fu Tea                      0.6  0.8        0.70\n",
      "Little Manila                    0.4  0.9        0.65\n",
      "Roots Natural Kitchen            0.6  0.7        0.65\n",
      "Mashumen                         0.4  0.8        0.60\n",
      "Mellow Mushroom Charlottesville  0.4  0.8        0.60\n",
      "Inka Peruvian Grill              0.4  0.8        0.60\n",
      "Kuma Sushi-Noodles & Bar         0.4  0.8        0.60\n",
      "Mezeh - Charlottesville          0.4  0.8        0.60\n",
      "Afghan Kabob Cville              0.4  0.8        0.60\n",
      "Got Dumplings                    0.6  0.6        0.60\n",
      "BurgerFi                         0.6  0.6        0.60\n",
      "Popeyes Louisiana Kitchen        0.6  0.6        0.60\n",
      "Bojangles                        0.6  0.6        0.60\n"
     ]
    }
   ],
   "source": [
    "print(df)"
   ]
  }
 ],
 "metadata": {
  "kernelspec": {
   "display_name": "Python 3",
   "language": "python",
   "name": "python3"
  },
  "language_info": {
   "codemirror_mode": {
    "name": "ipython",
    "version": 3
   },
   "file_extension": ".py",
   "mimetype": "text/x-python",
   "name": "python",
   "nbconvert_exporter": "python",
   "pygments_lexer": "ipython3",
   "version": "3.11.3"
  }
 },
 "nbformat": 4,
 "nbformat_minor": 2
}
