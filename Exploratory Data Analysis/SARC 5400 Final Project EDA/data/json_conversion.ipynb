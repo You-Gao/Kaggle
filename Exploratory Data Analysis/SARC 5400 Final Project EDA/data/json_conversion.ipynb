{
 "cells": [
  {
   "cell_type": "code",
   "execution_count": 285,
   "metadata": {},
   "outputs": [],
   "source": [
    "import json\n",
    "import pandas"
   ]
  },
  {
   "cell_type": "code",
   "execution_count": 286,
   "metadata": {},
   "outputs": [],
   "source": [
    "world_json = json.load(open('world.json'))"
   ]
  },
  {
   "cell_type": "code",
   "execution_count": 287,
   "metadata": {},
   "outputs": [],
   "source": [
    "indices = pandas.read_csv(\"indices.csv\")\n",
    "indices = indices.drop(columns=[\"Imports\",\"Exports\"])"
   ]
  },
  {
   "cell_type": "code",
   "execution_count": 288,
   "metadata": {},
   "outputs": [],
   "source": [
    "normalized = pandas.read_csv(\"normalized_indices.csv\")"
   ]
  },
  {
   "cell_type": "code",
   "execution_count": 289,
   "metadata": {},
   "outputs": [],
   "source": [
    "indices = pandas.concat([indices, normalized], axis=1)"
   ]
  },
  {
   "cell_type": "code",
   "execution_count": 290,
   "metadata": {},
   "outputs": [
    {
     "data": {
      "text/plain": [
       "['State Legitimacy',\n",
       " 'External Intervention',\n",
       " 'Economic Inequality',\n",
       " 'Human Rights',\n",
       " 'Immobility',\n",
       " 'Quality of Life',\n",
       " 'Health Care',\n",
       " 'Happiness',\n",
       " 'Imports',\n",
       " 'Exports',\n",
       " 'Country']"
      ]
     },
     "execution_count": 290,
     "metadata": {},
     "output_type": "execute_result"
    }
   ],
   "source": [
    "list(normalized.columns) + [\"Country\"]"
   ]
  },
  {
   "cell_type": "code",
   "execution_count": 291,
   "metadata": {},
   "outputs": [],
   "source": [
    "indices = indices[list(normalized.columns) + [\"Country\"]]"
   ]
  },
  {
   "cell_type": "code",
   "execution_count": 292,
   "metadata": {},
   "outputs": [],
   "source": [
    "poorness_indexes = [\"State Legitimacy\", \"External Intervention\", \"Economic Inequality\",  \"Human Rights\",\"Immobility\"]"
   ]
  },
  {
   "cell_type": "code",
   "execution_count": 293,
   "metadata": {},
   "outputs": [],
   "source": [
    "indices[\"Fill\"] = indices[poorness_indexes].mean(axis=1)"
   ]
  },
  {
   "cell_type": "code",
   "execution_count": 294,
   "metadata": {},
   "outputs": [],
   "source": [
    "# fill is 0 set it to indices[\"Export\"] - 1\n",
    "indices.loc[indices[\"Fill\"] == 0, \"Fill\"] = 1 - indices.loc[indices[\"Fill\"] == 0, \"Exports\"] \n",
    "\n",
    "indices.loc[indices[\"Fill\"] == 0, \"Fill\"] = 1"
   ]
  },
  {
   "cell_type": "code",
   "execution_count": 295,
   "metadata": {},
   "outputs": [],
   "source": [
    "# get all of properties.name into a list\n",
    "world_names = [str.lower(feature['properties']['name']) for feature in world_json['features']]"
   ]
  },
  {
   "cell_type": "code",
   "execution_count": 296,
   "metadata": {},
   "outputs": [
    {
     "name": "stdout",
     "output_type": "stream",
     "text": [
      "antarctica\n",
      "french southern and antarctic lands\n",
      "northern cyprus\n",
      "falkland islands\n",
      "kyrgyzstan\n",
      "western sahara\n",
      "somaliland\n",
      "somalia\n",
      "swaziland\n",
      "east timor\n",
      "taiwan\n"
     ]
    }
   ],
   "source": [
    "# get all of indices.name into a list\n",
    "index_names = [str.lower(name) for name in indices['Country']]\n",
    "\n",
    "# match between the two\n",
    "for name in world_names:\n",
    "    if name not in index_names:\n",
    "        print(name)"
   ]
  },
  {
   "cell_type": "code",
   "execution_count": 297,
   "metadata": {},
   "outputs": [],
   "source": [
    "# ALL CAP the countries\n",
    "indices['Country'] = indices['Country'].apply(lambda x: x.upper())"
   ]
  },
  {
   "cell_type": "code",
   "execution_count": 298,
   "metadata": {},
   "outputs": [],
   "source": [
    "# add the valus to a new json object\n",
    "for feature in world_json['features']:\n",
    "    name = str.lower(feature['properties']['name'])\n",
    "    if name in index_names:\n",
    "        feature['properties']['index'] = indices[indices['Country'] == str.upper(name)].to_dict('records')[0]\n",
    "        # set name to all caps as well\n",
    "        feature['properties']['name'] = feature['properties']['name'].upper()\n",
    "    else:\n",
    "        feature['properties']['index'] = None"
   ]
  },
  {
   "cell_type": "code",
   "execution_count": 299,
   "metadata": {},
   "outputs": [],
   "source": [
    "# save\n",
    "json.dump(world_json, open('world1.json', 'w'))"
   ]
  },
  {
   "cell_type": "code",
   "execution_count": 300,
   "metadata": {},
   "outputs": [],
   "source": [
    "# read\n",
    "world_json1 = json.load(open('world1.json'))"
   ]
  },
  {
   "cell_type": "code",
   "execution_count": 301,
   "metadata": {},
   "outputs": [
    {
     "data": {
      "text/plain": [
       "0.0544554455445544"
      ]
     },
     "execution_count": 301,
     "metadata": {},
     "output_type": "execute_result"
    }
   ],
   "source": [
    "world_json1['features'][0]['properties']['index'][\"Imports\"]"
   ]
  }
 ],
 "metadata": {
  "kernelspec": {
   "display_name": "Python 3",
   "language": "python",
   "name": "python3"
  },
  "language_info": {
   "codemirror_mode": {
    "name": "ipython",
    "version": 3
   },
   "file_extension": ".py",
   "mimetype": "text/x-python",
   "name": "python",
   "nbconvert_exporter": "python",
   "pygments_lexer": "ipython3",
   "version": "3.11.3"
  }
 },
 "nbformat": 4,
 "nbformat_minor": 2
}
