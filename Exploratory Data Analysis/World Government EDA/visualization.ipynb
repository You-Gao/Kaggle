{
 "cells": [
  {
   "cell_type": "code",
   "execution_count": 14,
   "metadata": {},
   "outputs": [],
   "source": [
    "import pandas as pd\n",
    "import matplotlib.pyplot as plt\n",
    "import seaborn as sns\n",
    "import circlify as circlify\n",
    "import plotly.express as px\n",
    "import numpy as np\n",
    "import plotly.graph_objects as go\n",
    "\n",
    "import kaleido"
   ]
  },
  {
   "cell_type": "markdown",
   "metadata": {},
   "source": [
    "# Dimensions:\n",
    "* Country\n",
    "* Country (Location)\n",
    "* Sector\n",
    "* Sector (Spending)\n",
    "* Total Spending\n",
    "* Time"
   ]
  },
  {
   "cell_type": "code",
   "execution_count": 15,
   "metadata": {},
   "outputs": [],
   "source": [
    "# Non-Major European Countries\n",
    "non_major_european_countries = [\n",
    "    \"Latvia\", \"Lithuania\", \"Estonia\",\n",
    "    \"Albania\", \"Bosnia and Herzegovina\", \"Croatia\", \"Montenegro\", \"North Macedonia\", \"Serbia\",\n",
    "    \"Czech Republic\", \"Hungary\", \"Slovakia\", \"Slovenia\",\n",
    "    \"Denmark\", \"Finland\", \"Norway\", \"Sweden\",\n",
    "    \"Bulgaria\", \"Romania\"\n",
    "]\n",
    "\n",
    "# Non-Major South American Countries\n",
    "non_major_south_american_countries = [\n",
    "    \"Bolivia\", \"Ecuador\", \"Peru\",\n",
    "    \"Guyana\", \"Suriname\",\n",
    "    \"Paraguay\", \"Uruguay\"\n",
    "]\n",
    "\n",
    "# African Countries\n",
    "african_countries = [\n",
    "    \"Algeria\", \"Egypt\", \"Libya\", \"Morocco\", \"Tunisia\",\n",
    "    \"Ethiopia\", \"Kenya\", \"Tanzania\", \"Uganda\",\n",
    "    \"Ghana\", \"Nigeria\", \"Senegal\",\n",
    "    \"Angola\", \"Mozambique\", \"Zambia\", \"Zimbabwe\"\n",
    "]\n",
    "\n",
    "# South Asian Countries\n",
    "south_asian_countries = [\n",
    "    \"Bangladesh\", \"Nepal\", \"Sri Lanka\",\n",
    "    \"Bhutan\", \"Maldives\"\n",
    "]\n",
    "\n",
    "# Country Abbreviations\n",
    "abbreviations = {\n",
    "    'Australia': 'AUS',\n",
    "    'Austria': 'AUT',\n",
    "    'Belgium': 'BEL',\n",
    "    'Brazil': 'BRA',\n",
    "    'France': 'FRA',\n",
    "    'Germany': 'GER',\n",
    "    'Italy': 'ITA',\n",
    "    'Korea': 'KOR',\n",
    "    'Netherlands': 'NLD',\n",
    "    'Poland': 'POL',\n",
    "    'Russian': 'RUS',\n",
    "    'Spain': 'ESP',\n",
    "    'Switzerland': 'SUI',\n",
    "    'United Kingdom': 'UK',\n",
    "    'United States of America': 'USA',\n",
    "    'China': 'CHN',\n",
    "    'Japan': 'JPN',\n",
    "    'Canada': 'CAN',\n",
    "    'India': 'IND',\n",
    "    'Non-Major European': 'NME',\n",
    "    'Other': 'OTH'\n",
    "}\n"
   ]
  },
  {
   "cell_type": "code",
   "execution_count": 27,
   "metadata": {},
   "outputs": [
    {
     "name": "stderr",
     "output_type": "stream",
     "text": [
      "C:\\Users\\commo\\AppData\\Local\\Temp\\ipykernel_13404\\835560237.py:2: FutureWarning: The default value of numeric_only in DataFrameGroupBy.sum is deprecated. In a future version, numeric_only will default to False. Either specify numeric_only or select only columns which should be valid for the function.\n",
      "  non_top_20 = world_df.groupby(\"Country\").sum().sort_values(\"Expenditure(million USD)\", ascending=False).iloc[20:].index.tolist()\n"
     ]
    },
    {
     "data": {
      "text/html": [
       "<div>\n",
       "<style scoped>\n",
       "    .dataframe tbody tr th:only-of-type {\n",
       "        vertical-align: middle;\n",
       "    }\n",
       "\n",
       "    .dataframe tbody tr th {\n",
       "        vertical-align: top;\n",
       "    }\n",
       "\n",
       "    .dataframe thead th {\n",
       "        text-align: right;\n",
       "    }\n",
       "</style>\n",
       "<table border=\"1\" class=\"dataframe\">\n",
       "  <thead>\n",
       "    <tr style=\"text-align: right;\">\n",
       "      <th></th>\n",
       "      <th>Year</th>\n",
       "      <th>Country</th>\n",
       "      <th>Sector</th>\n",
       "      <th>Expenditure(million USD)</th>\n",
       "      <th>GDP(%)</th>\n",
       "    </tr>\n",
       "  </thead>\n",
       "  <tbody>\n",
       "    <tr>\n",
       "      <th>0</th>\n",
       "      <td>2000</td>\n",
       "      <td>Australia</td>\n",
       "      <td>Total function</td>\n",
       "      <td>153122.633</td>\n",
       "      <td>37.36193</td>\n",
       "    </tr>\n",
       "  </tbody>\n",
       "</table>\n",
       "</div>"
      ],
      "text/plain": [
       "   Year    Country          Sector  Expenditure(million USD)    GDP(%)\n",
       "0  2000  Australia  Total function                153122.633  37.36193"
      ]
     },
     "execution_count": 27,
     "metadata": {},
     "output_type": "execute_result"
    }
   ],
   "source": [
    "world_df = pd.read_csv(\"WorldExpenditures.csv\", index_col=0)\n",
    "non_top_20 = world_df.groupby(\"Country\").sum().sort_values(\"Expenditure(million USD)\", ascending=False).iloc[20:].index.tolist()\n",
    "non_top_20 = [country for country in non_top_20 if country not in non_major_european_countries + non_major_south_american_countries + african_countries + south_asian_countries]\n",
    "\n",
    "# non_major_european_df = world_df[world_df[\"Country\"].isin(non_major_european_countries)]\n",
    "# non_major_south_american_df = world_df[world_df[\"Country\"].isin(non_major_south_american_countries)]\n",
    "# non_major_african_df = world_df[world_df[\"Country\"].isin(african_countries)]\n",
    "# non_major_south_asian_df = world_df[world_df[\"Country\"].isin(south_asian_countries)]\n",
    "# non_top_20_df = world_df[world_df[\"Country\"].isin(non_top_20)]\n",
    "# world_df = world_df[~world_df[\"Country\"].isin(non_major_european_countries + non_major_south_american_countries + african_countries + south_asian_countries + non_top_20)]\n",
    "\n",
    "\n",
    "# non_major_european_df = non_major_european_df[non_major_european_df[\"Sector\"] == \"Total function\"]\n",
    "# non_major_south_american_df = non_major_south_american_df[non_major_south_american_df[\"Sector\"] == \"Total function\"]\n",
    "# non_major_african_df = non_major_african_df[non_major_african_df[\"Sector\"] == \"Total function\"]\n",
    "# non_major_south_asian_df = non_major_south_asian_df[non_major_south_asian_df[\"Sector\"] == \"Total function\"]\n",
    "# non_top_20_df = non_top_20_df[non_top_20_df[\"Sector\"] == \"Total function\"]\n",
    "\n",
    "# non_major_european_df = non_major_european_df.groupby([\"Year\",\"Sector\"]).sum().reset_index()\n",
    "# non_major_south_american_df = non_major_south_american_df.groupby([\"Year\",\"Sector\"]).sum().reset_index()\n",
    "# non_major_african_df = non_major_african_df.groupby([\"Year\",\"Sector\"]).sum().reset_index()\n",
    "# non_major_south_asian_df = non_major_south_asian_df.groupby([\"Year\",\"Sector\"]).sum().reset_index()\n",
    "# non_top_20_df = non_top_20_df.groupby([\"Year\",\"Sector\"]).sum().reset_index()\n",
    "\n",
    "# non_major_european_df[\"Country\"] = \"Non-Major European\"\n",
    "# non_major_south_american_df[\"Country\"] = \"Non-Major South American\"\n",
    "# non_major_african_df[\"Country\"] = \"African\"\n",
    "# non_major_south_asian_df[\"Country\"] = \"South Asian\"\n",
    "# non_top_20_df[\"Country\"] = \"Other\"\n",
    "\n",
    "# world_df = pd.concat([world_df, non_major_european_df, non_top_20_df], ignore_index=True)\n",
    "\n",
    "\n",
    "\n",
    "\n",
    "world_df.head(1)"
   ]
  },
  {
   "cell_type": "code",
   "execution_count": 28,
   "metadata": {},
   "outputs": [
    {
     "name": "stderr",
     "output_type": "stream",
     "text": [
      "C:\\Users\\commo\\AppData\\Local\\Temp\\ipykernel_13404\\481683935.py:2: SettingWithCopyWarning: \n",
      "A value is trying to be set on a copy of a slice from a DataFrame\n",
      "\n",
      "See the caveats in the documentation: https://pandas.pydata.org/pandas-docs/stable/user_guide/indexing.html#returning-a-view-versus-a-copy\n",
      "  sectors.drop(sectors.index[0], inplace=True)\n",
      "C:\\Users\\commo\\AppData\\Local\\Temp\\ipykernel_13404\\481683935.py:3: SettingWithCopyWarning: \n",
      "A value is trying to be set on a copy of a slice from a DataFrame\n",
      "\n",
      "See the caveats in the documentation: https://pandas.pydata.org/pandas-docs/stable/user_guide/indexing.html#returning-a-view-versus-a-copy\n",
      "  sectors.drop(sectors.index[8], inplace=True)\n"
     ]
    }
   ],
   "source": [
    "sectors = world_df[(world_df[\"Country\"] == \"United States of America\") & (world_df[\"Year\"] == 2020)][\"Sector\"]\n",
    "sectors.drop(sectors.index[0], inplace=True)\n",
    "sectors.drop(sectors.index[8], inplace=True)"
   ]
  },
  {
   "cell_type": "code",
   "execution_count": 29,
   "metadata": {},
   "outputs": [
    {
     "data": {
      "text/plain": [
       "array(['Australia', 'Austria', 'Belgium',\n",
       "       'Bolivia (Plurinational State of)', 'Brazil', 'Bulgaria',\n",
       "       'Macao SAR', 'Croatia', 'Cyprus', 'Czechia', 'Denmark', 'Estonia',\n",
       "       'Finland', 'France', 'Georgia', 'Germany', 'Greece', 'Hungary',\n",
       "       'Iceland', 'Indonesia', 'Ireland', 'Israel', 'Italy', 'Kazakhstan',\n",
       "       'Korea', 'Latvia', 'Lithuania', 'Luxembourg', 'Malaysia',\n",
       "       'Maldives', 'Malta', 'Mongolia', 'Netherlands', 'Norway', 'Panama',\n",
       "       'Peru', 'Philippines', 'Poland', 'Portugal', 'Romania', 'Russian',\n",
       "       'Serbia', 'Seychelles', 'Singapore', 'Slovakia', 'Slovenia',\n",
       "       'South Africa', 'Spain', 'Sri Lanka', 'Sweden', 'Switzerland',\n",
       "       'Thailand', 'Timor-Leste', 'United Kingdom',\n",
       "       'United States of America', 'Iran (Islamic Republic of)', 'Kuwait',\n",
       "       'Ukraine', 'Hong Kong SAR', 'Egypt', 'El Salvador', 'Mauritius',\n",
       "       'Moldova', 'San Marino', 'Yemen', 'Belarus', 'Paraguay', 'Armenia',\n",
       "       'Albania', 'China', 'Fiji', 'Japan', 'Afghanistan',\n",
       "       'Serbia and Montenegro', 'Azerbaijan', 'Canada', 'Türkiye',\n",
       "       'Colombia', 'Cook Islands', 'New Zealand', 'Marshall Islands',\n",
       "       'Samoa', 'India', 'Kiribati', 'Vanuatu', 'Costa Rica', 'Myanmar',\n",
       "       'Tuvalu', 'Chile', 'Uzbekistan', 'Guatemala', 'Kenya',\n",
       "       'Kyrgyzstan', 'Nauru', 'Somalia', 'Nepal'], dtype=object)"
      ]
     },
     "execution_count": 29,
     "metadata": {},
     "output_type": "execute_result"
    }
   ],
   "source": [
    "world_df[\"Country\"].unique()"
   ]
  },
  {
   "cell_type": "code",
   "execution_count": null,
   "metadata": {},
   "outputs": [],
   "source": [
    "world_df.to_csv(\"WorldExpenditures.csv\")"
   ]
  },
  {
   "cell_type": "markdown",
   "metadata": {},
   "source": [
    "# 2020 Circular Packing Plot (Top 3 Largest Industries)\n",
    "* Which country spends the most\n",
    "* How is the spending foucsed across different industries"
   ]
  },
  {
   "cell_type": "code",
   "execution_count": 19,
   "metadata": {},
   "outputs": [
    {
     "data": {
      "text/html": [
       "<div>\n",
       "<style scoped>\n",
       "    .dataframe tbody tr th:only-of-type {\n",
       "        vertical-align: middle;\n",
       "    }\n",
       "\n",
       "    .dataframe tbody tr th {\n",
       "        vertical-align: top;\n",
       "    }\n",
       "\n",
       "    .dataframe thead th {\n",
       "        text-align: right;\n",
       "    }\n",
       "</style>\n",
       "<table border=\"1\" class=\"dataframe\">\n",
       "  <thead>\n",
       "    <tr style=\"text-align: right;\">\n",
       "      <th></th>\n",
       "      <th>Year</th>\n",
       "      <th>Country</th>\n",
       "      <th>Sector</th>\n",
       "      <th>Expenditure(million USD)</th>\n",
       "      <th>GDP(%)</th>\n",
       "    </tr>\n",
       "  </thead>\n",
       "  <tbody>\n",
       "    <tr>\n",
       "      <th>23318</th>\n",
       "      <td>2020</td>\n",
       "      <td>Albania</td>\n",
       "      <td>Environment protection</td>\n",
       "      <td>48.758</td>\n",
       "      <td>0.32222</td>\n",
       "    </tr>\n",
       "  </tbody>\n",
       "</table>\n",
       "</div>"
      ],
      "text/plain": [
       "       Year  Country                  Sector  Expenditure(million USD)  \\\n",
       "23318  2020  Albania  Environment protection                    48.758   \n",
       "\n",
       "        GDP(%)  \n",
       "23318  0.32222  "
      ]
     },
     "execution_count": 19,
     "metadata": {},
     "output_type": "execute_result"
    }
   ],
   "source": [
    "current_world_df = world_df[world_df['Year'] == 2020]\n",
    "current_world_df = current_world_df[current_world_df['Sector'].isin(sectors)]\n",
    "current_world_df.head(1)"
   ]
  },
  {
   "cell_type": "code",
   "execution_count": 20,
   "metadata": {},
   "outputs": [
    {
     "data": {
      "text/html": [
       "<div>\n",
       "<style scoped>\n",
       "    .dataframe tbody tr th:only-of-type {\n",
       "        vertical-align: middle;\n",
       "    }\n",
       "\n",
       "    .dataframe tbody tr th {\n",
       "        vertical-align: top;\n",
       "    }\n",
       "\n",
       "    .dataframe thead th {\n",
       "        text-align: right;\n",
       "    }\n",
       "</style>\n",
       "<table border=\"1\" class=\"dataframe\">\n",
       "  <thead>\n",
       "    <tr style=\"text-align: right;\">\n",
       "      <th>Sector</th>\n",
       "      <th>Defence</th>\n",
       "      <th>Education</th>\n",
       "      <th>Environment protection</th>\n",
       "      <th>General public services</th>\n",
       "      <th>Health</th>\n",
       "      <th>Housing and community amenities</th>\n",
       "      <th>Public order and safety</th>\n",
       "      <th>Social protection</th>\n",
       "    </tr>\n",
       "    <tr>\n",
       "      <th>Country</th>\n",
       "      <th></th>\n",
       "      <th></th>\n",
       "      <th></th>\n",
       "      <th></th>\n",
       "      <th></th>\n",
       "      <th></th>\n",
       "      <th></th>\n",
       "      <th></th>\n",
       "    </tr>\n",
       "  </thead>\n",
       "  <tbody>\n",
       "    <tr>\n",
       "      <th>Albania</th>\n",
       "      <td>116.059</td>\n",
       "      <td>498.392</td>\n",
       "      <td>48.758</td>\n",
       "      <td>767.053</td>\n",
       "      <td>474.830</td>\n",
       "      <td>475.990</td>\n",
       "      <td>297.621</td>\n",
       "      <td>1636.088</td>\n",
       "    </tr>\n",
       "    <tr>\n",
       "      <th>Armenia</th>\n",
       "      <td>793.168</td>\n",
       "      <td>376.783</td>\n",
       "      <td>43.329</td>\n",
       "      <td>625.999</td>\n",
       "      <td>300.923</td>\n",
       "      <td>45.782</td>\n",
       "      <td>309.733</td>\n",
       "      <td>1073.222</td>\n",
       "    </tr>\n",
       "    <tr>\n",
       "      <th>Australia</th>\n",
       "      <td>35494.135</td>\n",
       "      <td>87142.177</td>\n",
       "      <td>13887.005</td>\n",
       "      <td>52395.417</td>\n",
       "      <td>117574.668</td>\n",
       "      <td>9703.492</td>\n",
       "      <td>30687.810</td>\n",
       "      <td>168762.997</td>\n",
       "    </tr>\n",
       "    <tr>\n",
       "      <th>Austria</th>\n",
       "      <td>2682.893</td>\n",
       "      <td>22129.364</td>\n",
       "      <td>1801.734</td>\n",
       "      <td>26749.490</td>\n",
       "      <td>39691.258</td>\n",
       "      <td>1244.468</td>\n",
       "      <td>6209.892</td>\n",
       "      <td>99082.074</td>\n",
       "    </tr>\n",
       "    <tr>\n",
       "      <th>Azerbaijan</th>\n",
       "      <td>2052.059</td>\n",
       "      <td>1697.653</td>\n",
       "      <td>141.000</td>\n",
       "      <td>2764.765</td>\n",
       "      <td>998.000</td>\n",
       "      <td>153.706</td>\n",
       "      <td>1273.176</td>\n",
       "      <td>4112.018</td>\n",
       "    </tr>\n",
       "  </tbody>\n",
       "</table>\n",
       "</div>"
      ],
      "text/plain": [
       "Sector        Defence  Education  Environment protection  \\\n",
       "Country                                                    \n",
       "Albania       116.059    498.392                  48.758   \n",
       "Armenia       793.168    376.783                  43.329   \n",
       "Australia   35494.135  87142.177               13887.005   \n",
       "Austria      2682.893  22129.364                1801.734   \n",
       "Azerbaijan   2052.059   1697.653                 141.000   \n",
       "\n",
       "Sector      General public services      Health  \\\n",
       "Country                                           \n",
       "Albania                     767.053     474.830   \n",
       "Armenia                     625.999     300.923   \n",
       "Australia                 52395.417  117574.668   \n",
       "Austria                   26749.490   39691.258   \n",
       "Azerbaijan                 2764.765     998.000   \n",
       "\n",
       "Sector      Housing and community amenities  Public order and safety  \\\n",
       "Country                                                                \n",
       "Albania                             475.990                  297.621   \n",
       "Armenia                              45.782                  309.733   \n",
       "Australia                          9703.492                30687.810   \n",
       "Austria                            1244.468                 6209.892   \n",
       "Azerbaijan                          153.706                 1273.176   \n",
       "\n",
       "Sector      Social protection  \n",
       "Country                        \n",
       "Albania              1636.088  \n",
       "Armenia              1073.222  \n",
       "Australia          168762.997  \n",
       "Austria             99082.074  \n",
       "Azerbaijan           4112.018  "
      ]
     },
     "execution_count": 20,
     "metadata": {},
     "output_type": "execute_result"
    }
   ],
   "source": [
    "current_world_pivot_df = current_world_df.pivot(index='Country', columns='Sector', values='Expenditure(million USD)')\n",
    "totals = current_world_pivot_df.sum(axis=1)\n",
    "current_world_pivot_df.fillna(1, inplace=True)\n",
    "current_world_pivot_df.head()"
   ]
  },
  {
   "cell_type": "code",
   "execution_count": 21,
   "metadata": {},
   "outputs": [
    {
     "name": "stdout",
     "output_type": "stream",
     "text": [
      "min to max ratio is too low at 0.000000 and it could cause algorithm stability issues. Try to remove insignificant data\n"
     ]
    }
   ],
   "source": [
    "\n",
    "circlify_dict = {}\n",
    "circlify_dict[\"id\"] = \"World\"\n",
    "circlify_dict[\"datum\"] = totals.sum()\n",
    "circlify_dict[\"children\"] = []\n",
    "\n",
    "for country in current_world_pivot_df.index:\n",
    "    country_dict = {}\n",
    "    country_dict[\"id\"] = country\n",
    "    country_dict[\"datum\"] = totals[country]\n",
    "    country_dict[\"children\"] = []\n",
    "    top3sectors = current_world_pivot_df.loc[country].sort_values(ascending=False).index[:4]\n",
    "    for sector in top3sectors:\n",
    "        sector_dict = {}\n",
    "        sector_dict[\"id\"] = sector\n",
    "        sector_dict[\"datum\"] = current_world_pivot_df[sector][country]\n",
    "        country_dict[\"children\"].append(sector_dict)\n",
    "    circlify_dict[\"children\"].append(country_dict)\n",
    "    \n",
    "data = [circlify_dict]\n",
    "\n",
    "\n",
    "circles = circlify.circlify(\n",
    "    data, \n",
    "    show_enclosure=False, \n",
    "    target_enclosure=circlify.Circle(x=0, y=0, r=1)\n",
    ")"
   ]
  },
  {
   "cell_type": "code",
   "execution_count": 22,
   "metadata": {},
   "outputs": [
    {
     "name": "stdout",
     "output_type": "stream",
     "text": [
      "['Environment protection' 'Housing and community amenities' 'Health'\n",
      " 'Education' 'Social protection' 'General public services' 'Defence'\n",
      " 'Public order and safety']\n"
     ]
    }
   ],
   "source": [
    "print(sectors.values)"
   ]
  },
  {
   "cell_type": "code",
   "execution_count": 23,
   "metadata": {},
   "outputs": [
    {
     "data": {
      "image/png": "[encoded data removed]",
      "text/plain": [
       "<Figure size 1400x1400 with 1 Axes>"
      ]
     },
     "metadata": {},
     "output_type": "display_data"
    }
   ],
   "source": [
    "# Create just a figure and only one subplot\n",
    "fig, ax = plt.subplots(figsize=(14,14))\n",
    "\n",
    "# Title\n",
    "#ax.set_title('Repartition of the world population')\n",
    "\n",
    "# Remove axes\n",
    "ax.axis('off')\n",
    "\n",
    "# Find axis boundaries\n",
    "lim = max(\n",
    "    max(\n",
    "        abs(circle.x) + circle.r,\n",
    "        abs(circle.y) + circle.r,\n",
    "    )\n",
    "    for circle in circles\n",
    ")\n",
    "plt.xlim(-lim, lim)\n",
    "plt.ylim(-lim, lim)\n",
    "\n",
    "# Print circle the highest level (continents):\n",
    "for circle in circles:\n",
    "    if circle.level != 2:\n",
    "      continue\n",
    "    x, y, r = circle\n",
    "    ax.add_patch( plt.Circle((x, y), r, alpha=0.5, linewidth=2, color=\"#D2B48C\"))\n",
    "    \n",
    "# create a color dict based on\n",
    "# change color based on label ['Environment protection' 'Housing and community amenities' 'Health' 'Education' 'Social protection' 'General public services' 'Defence' 'Public order and safety']\n",
    "color_dict = {\n",
    "    'Environment protection': '#B7E5B4', \n",
    "    'Housing and community amenities': '#FFA447',  \n",
    "    'Health': '#F28585', \n",
    "    'Education': '#FFFC9B',  \n",
    "    'Social protection': '#6895D2',  # Crimson\n",
    "    'General public services': '#A459D1',  # Fire Brick\n",
    "    'Defence': '#8B0000',  # Dark Red\n",
    "    'Public order and safety': '#800000'  # Maroon\n",
    "}\n",
    "\n",
    "# Print circle and labels for the highest level:\n",
    "for circle in circles:\n",
    "    if circle.level != 3:\n",
    "      continue\n",
    "    x, y, r = circle\n",
    "    label = circle.ex[\"id\"]\n",
    "    color = color_dict[label]\n",
    "    ax.add_patch( plt.Circle((x, y), r, alpha=0.5, linewidth=2, color=color))\n",
    "    #plt.annotate(label, (x,y ), ha='center', color=\"white\")\n",
    " \n",
    "# Print labels for the continents\n",
    "for circle in circles:\n",
    "    if circle.level != 2:\n",
    "      continue\n",
    "    x, y, r = circle\n",
    "    label = circle.ex[\"id\"]\n",
    "    plt.annotate(label, (x,y) ,va='center', ha='center', bbox=dict(facecolor='none', edgecolor='none', boxstyle='round', pad=.5), family=[\"monospace\"])\n",
    "\n",
    "# Custom Legend w/ mptaches\n",
    "import matplotlib.patches as mpatches\n",
    "\n",
    "# Create a legend\n",
    "purple_patch = mpatches.Patch(color='#A459D1', label='Public Services')\n",
    "# green_patch = mpatches.Patch(color='#B7E5B4', label='Environment')\n",
    "orange_patch = mpatches.Patch(color='#FFA447', label='Housing')\n",
    "red_patch = mpatches.Patch(color='#F28585', label='Health')\n",
    "yellow_patch = mpatches.Patch(color='#FFFC9B', label='Education')\n",
    "blue_patch = mpatches.Patch(color='#6895D2', label='Defense')\n",
    "maroon_patch = mpatches.Patch(color='#800000', label='Safety')\n",
    "# no outline\n",
    "plt.legend(handles=[red_patch, blue_patch, purple_patch, yellow_patch, maroon_patch, orange_patch], loc='upper right', frameon=False, title=\"Sectors\",\n",
    "           prop={'size': 12,'family':'monospace'}, title_fontsize='12', labelspacing=.5, handletextpad=1)\n",
    "\"\"\" \n",
    "\"\"\"\n",
    "\n",
    "# save as svg\n",
    "plt.savefig('world_expenditure.svg', format='svg', bbox_inches='tight')"
   ]
  },
  {
   "cell_type": "markdown",
   "metadata": {},
   "source": [
    "# 2020 Treemap (Largest Economies & Happiness)\n",
    "*  Which country spends the most"
   ]
  },
  {
   "cell_type": "code",
   "execution_count": 24,
   "metadata": {},
   "outputs": [
    {
     "data": {
      "text/html": [
       "<div>\n",
       "<style scoped>\n",
       "    .dataframe tbody tr th:only-of-type {\n",
       "        vertical-align: middle;\n",
       "    }\n",
       "\n",
       "    .dataframe tbody tr th {\n",
       "        vertical-align: top;\n",
       "    }\n",
       "\n",
       "    .dataframe thead th {\n",
       "        text-align: right;\n",
       "    }\n",
       "</style>\n",
       "<table border=\"1\" class=\"dataframe\">\n",
       "  <thead>\n",
       "    <tr style=\"text-align: right;\">\n",
       "      <th></th>\n",
       "      <th>Year</th>\n",
       "      <th>Country</th>\n",
       "      <th>Sector</th>\n",
       "      <th>Expenditure(million USD)</th>\n",
       "      <th>GDP(%)</th>\n",
       "    </tr>\n",
       "  </thead>\n",
       "  <tbody>\n",
       "    <tr>\n",
       "      <th>23318</th>\n",
       "      <td>2020</td>\n",
       "      <td>NaN</td>\n",
       "      <td>Environment protection</td>\n",
       "      <td>48.758</td>\n",
       "      <td>0.32222</td>\n",
       "    </tr>\n",
       "  </tbody>\n",
       "</table>\n",
       "</div>"
      ],
      "text/plain": [
       "       Year Country                  Sector  Expenditure(million USD)   GDP(%)\n",
       "23318  2020     NaN  Environment protection                    48.758  0.32222"
      ]
     },
     "execution_count": 24,
     "metadata": {},
     "output_type": "execute_result"
    }
   ],
   "source": [
    "current_world_df = world_df[world_df['Year'] == 2020]\n",
    "current_world_df = current_world_df[current_world_df['Sector'] != \"Total function\"]\n",
    "current_world_df = current_world_df[current_world_df['Sector'].isin(sectors)]\n",
    "current_world_df[\"Country\"] = current_world_df[\"Country\"].map(abbreviations)\n",
    "current_world_df.head(1)\n"
   ]
  },
  {
   "cell_type": "code",
   "execution_count": 25,
   "metadata": {},
   "outputs": [
    {
     "data": {
      "text/html": [
       "<div>\n",
       "<style scoped>\n",
       "    .dataframe tbody tr th:only-of-type {\n",
       "        vertical-align: middle;\n",
       "    }\n",
       "\n",
       "    .dataframe tbody tr th {\n",
       "        vertical-align: top;\n",
       "    }\n",
       "\n",
       "    .dataframe thead th {\n",
       "        text-align: right;\n",
       "    }\n",
       "</style>\n",
       "<table border=\"1\" class=\"dataframe\">\n",
       "  <thead>\n",
       "    <tr style=\"text-align: right;\">\n",
       "      <th></th>\n",
       "      <th>Year</th>\n",
       "      <th>Country</th>\n",
       "      <th>Sector</th>\n",
       "      <th>Expenditure(million USD)</th>\n",
       "      <th>GDP(%)</th>\n",
       "    </tr>\n",
       "  </thead>\n",
       "  <tbody>\n",
       "    <tr>\n",
       "      <th>23318</th>\n",
       "      <td>2020</td>\n",
       "      <td>NaN</td>\n",
       "      <td>Environment protection</td>\n",
       "      <td>48.758</td>\n",
       "      <td>0.32222</td>\n",
       "    </tr>\n",
       "    <tr>\n",
       "      <th>23319</th>\n",
       "      <td>2020</td>\n",
       "      <td>NaN</td>\n",
       "      <td>Housing and community amenities</td>\n",
       "      <td>475.990</td>\n",
       "      <td>3.14562</td>\n",
       "    </tr>\n",
       "    <tr>\n",
       "      <th>23320</th>\n",
       "      <td>2020</td>\n",
       "      <td>NaN</td>\n",
       "      <td>Health</td>\n",
       "      <td>474.830</td>\n",
       "      <td>3.13795</td>\n",
       "    </tr>\n",
       "    <tr>\n",
       "      <th>23321</th>\n",
       "      <td>2020</td>\n",
       "      <td>NaN</td>\n",
       "      <td>Education</td>\n",
       "      <td>498.392</td>\n",
       "      <td>3.29366</td>\n",
       "    </tr>\n",
       "    <tr>\n",
       "      <th>23322</th>\n",
       "      <td>2020</td>\n",
       "      <td>NaN</td>\n",
       "      <td>Social protection</td>\n",
       "      <td>1636.088</td>\n",
       "      <td>10.81220</td>\n",
       "    </tr>\n",
       "    <tr>\n",
       "      <th>...</th>\n",
       "      <td>...</td>\n",
       "      <td>...</td>\n",
       "      <td>...</td>\n",
       "      <td>...</td>\n",
       "      <td>...</td>\n",
       "    </tr>\n",
       "    <tr>\n",
       "      <th>24630</th>\n",
       "      <td>2020</td>\n",
       "      <td>NaN</td>\n",
       "      <td>Housing and community amenities</td>\n",
       "      <td>421.780</td>\n",
       "      <td>0.70421</td>\n",
       "    </tr>\n",
       "    <tr>\n",
       "      <th>24631</th>\n",
       "      <td>2020</td>\n",
       "      <td>NaN</td>\n",
       "      <td>Health</td>\n",
       "      <td>1931.438</td>\n",
       "      <td>3.22474</td>\n",
       "    </tr>\n",
       "    <tr>\n",
       "      <th>24632</th>\n",
       "      <td>2020</td>\n",
       "      <td>NaN</td>\n",
       "      <td>Education</td>\n",
       "      <td>3662.164</td>\n",
       "      <td>6.11438</td>\n",
       "    </tr>\n",
       "    <tr>\n",
       "      <th>24633</th>\n",
       "      <td>2020</td>\n",
       "      <td>NaN</td>\n",
       "      <td>Social protection</td>\n",
       "      <td>5391.474</td>\n",
       "      <td>9.00165</td>\n",
       "    </tr>\n",
       "    <tr>\n",
       "      <th>24634</th>\n",
       "      <td>2020</td>\n",
       "      <td>NaN</td>\n",
       "      <td>General public services</td>\n",
       "      <td>184.785</td>\n",
       "      <td>0.30852</td>\n",
       "    </tr>\n",
       "  </tbody>\n",
       "</table>\n",
       "<p>626 rows × 5 columns</p>\n",
       "</div>"
      ],
      "text/plain": [
       "       Year Country                           Sector  \\\n",
       "23318  2020     NaN           Environment protection   \n",
       "23319  2020     NaN  Housing and community amenities   \n",
       "23320  2020     NaN                           Health   \n",
       "23321  2020     NaN                        Education   \n",
       "23322  2020     NaN                Social protection   \n",
       "...     ...     ...                              ...   \n",
       "24630  2020     NaN  Housing and community amenities   \n",
       "24631  2020     NaN                           Health   \n",
       "24632  2020     NaN                        Education   \n",
       "24633  2020     NaN                Social protection   \n",
       "24634  2020     NaN          General public services   \n",
       "\n",
       "       Expenditure(million USD)    GDP(%)  \n",
       "23318                    48.758   0.32222  \n",
       "23319                   475.990   3.14562  \n",
       "23320                   474.830   3.13795  \n",
       "23321                   498.392   3.29366  \n",
       "23322                  1636.088  10.81220  \n",
       "...                         ...       ...  \n",
       "24630                   421.780   0.70421  \n",
       "24631                  1931.438   3.22474  \n",
       "24632                  3662.164   6.11438  \n",
       "24633                  5391.474   9.00165  \n",
       "24634                   184.785   0.30852  \n",
       "\n",
       "[626 rows x 5 columns]"
      ]
     },
     "execution_count": 25,
     "metadata": {},
     "output_type": "execute_result"
    }
   ],
   "source": [
    "current_world_df"
   ]
  },
  {
   "cell_type": "code",
   "execution_count": 26,
   "metadata": {},
   "outputs": [],
   "source": [
    "current_world_df.to_csv(\"current_world_df.csv\")"
   ]
  },
  {
   "cell_type": "code",
   "execution_count": 12,
   "metadata": {},
   "outputs": [
    {
     "data": {
      "application/vnd.plotly.v1+json": {
       "config": {
        "plotlyServerURL": "https://plot.ly"
       },
       "data": [
        {
         "branchvalues": "total",
         "domain": {
          "x": [
           0,
           1
          ],
          "y": [
           0,
           1
          ]
         },
         "hovertemplate": "labels=%{label}<br>Expenditure(million USD)=%{value}<br>parent=%{parent}<br>id=%{id}<extra></extra>",
         "ids": [
          "AUS/Defence",
          "AUT/Defence",
          "BEL/Defence",
          "BRA/Defence",
          "CAN/Defence",
          "CHN/Defence",
          "ESP/Defence",
          "FRA/Defence",
          "GER/Defence",
          "IND/Defence",
          "ITA/Defence",
          "JPN/Defence",
          "KOR/Defence",
          "NLD/Defence",
          "NME/Defence",
          "OTH/Defence",
          "POL/Defence",
          "RUS/Defence",
          "SUI/Defence",
          "UK/Defence",
          "USA/Defence",
          "AUS/Education",
          "AUT/Education",
          "BEL/Education",
          "BRA/Education",
          "CAN/Education",
          "CHN/Education",
          "ESP/Education",
          "FRA/Education",
          "GER/Education",
          "IND/Education",
          "ITA/Education",
          "JPN/Education",
          "KOR/Education",
          "NLD/Education",
          "NME/Education",
          "OTH/Education",
          "POL/Education",
          "RUS/Education",
          "SUI/Education",
          "UK/Education",
          "USA/Education",
          "AUS/Environment protection",
          "AUT/Environment protection",
          "BEL/Environment protection",
          "BRA/Environment protection",
          "CAN/Environment protection",
          "CHN/Environment protection",
          "ESP/Environment protection",
          "FRA/Environment protection",
          "GER/Environment protection",
          "IND/Environment protection",
          "ITA/Environment protection",
          "JPN/Environment protection",
          "KOR/Environment protection",
          "NLD/Environment protection",
          "NME/Environment protection",
          "OTH/Environment protection",
          "POL/Environment protection",
          "RUS/Environment protection",
          "SUI/Environment protection",
          "UK/Environment protection",
          "USA/Environment protection",
          "AUS/General public services",
          "AUT/General public services",
          "BEL/General public services",
          "BRA/General public services",
          "CAN/General public services",
          "CHN/General public services",
          "ESP/General public services",
          "FRA/General public services",
          "GER/General public services",
          "IND/General public services",
          "ITA/General public services",
          "JPN/General public services",
          "KOR/General public services",
          "NLD/General public services",
          "NME/General public services",
          "OTH/General public services",
          "POL/General public services",
          "RUS/General public services",
          "SUI/General public services",
          "UK/General public services",
          "USA/General public services",
          "AUS/Health",
          "AUT/Health",
          "BEL/Health",
          "BRA/Health",
          "CAN/Health",
          "CHN/Health",
          "ESP/Health",
          "FRA/Health",
          "GER/Health",
          "IND/Health",
          "ITA/Health",
          "JPN/Health",
          "KOR/Health",
          "NLD/Health",
          "NME/Health",
          "OTH/Health",
          "POL/Health",
          "RUS/Health",
          "SUI/Health",
          "UK/Health",
          "USA/Health",
          "AUS/Housing and community amenities",
          "AUT/Housing and community amenities",
          "BEL/Housing and community amenities",
          "BRA/Housing and community amenities",
          "CAN/Housing and community amenities",
          "CHN/Housing and community amenities",
          "ESP/Housing and community amenities",
          "FRA/Housing and community amenities",
          "GER/Housing and community amenities",
          "IND/Housing and community amenities",
          "ITA/Housing and community amenities",
          "JPN/Housing and community amenities",
          "KOR/Housing and community amenities",
          "NLD/Housing and community amenities",
          "NME/Housing and community amenities",
          "OTH/Housing and community amenities",
          "POL/Housing and community amenities",
          "RUS/Housing and community amenities",
          "SUI/Housing and community amenities",
          "UK/Housing and community amenities",
          "USA/Housing and community amenities",
          "AUS/Public order and safety",
          "AUT/Public order and safety",
          "BEL/Public order and safety",
          "BRA/Public order and safety",
          "CAN/Public order and safety",
          "CHN/Public order and safety",
          "ESP/Public order and safety",
          "FRA/Public order and safety",
          "GER/Public order and safety",
          "IND/Public order and safety",
          "ITA/Public order and safety",
          "JPN/Public order and safety",
          "KOR/Public order and safety",
          "NLD/Public order and safety",
          "NME/Public order and safety",
          "OTH/Public order and safety",
          "POL/Public order and safety",
          "RUS/Public order and safety",
          "SUI/Public order and safety",
          "UK/Public order and safety",
          "USA/Public order and safety",
          "AUS/Social protection",
          "AUT/Social protection",
          "BEL/Social protection",
          "BRA/Social protection",
          "CAN/Social protection",
          "CHN/Social protection",
          "ESP/Social protection",
          "FRA/Social protection",
          "GER/Social protection",
          "IND/Social protection",
          "ITA/Social protection",
          "JPN/Social protection",
          "KOR/Social protection",
          "NLD/Social protection",
          "NME/Social protection",
          "OTH/Social protection",
          "POL/Social protection",
          "RUS/Social protection",
          "SUI/Social protection",
          "UK/Social protection",
          "USA/Social protection",
          "AUS",
          "AUT",
          "BEL",
          "BRA",
          "CAN",
          "CHN",
          "ESP",
          "FRA",
          "GER",
          "IND",
          "ITA",
          "JPN",
          "KOR",
          "NLD",
          "NME",
          "OTH",
          "POL",
          "RUS",
          "SUI",
          "UK",
          "USA"
         ],
         "labels": [
          "Defence",
          "Defence",
          "Defence",
          "Defence",
          "Defence",
          "Defence",
          "Defence",
          "Defence",
          "Defence",
          "Defence",
          "Defence",
          "Defence",
          "Defence",
          "Defence",
          "Defence",
          "Defence",
          "Defence",
          "Defence",
          "Defence",
          "Defence",
          "Defence",
          "Education",
          "Education",
          "Education",
          "Education",
          "Education",
          "Education",
          "Education",
          "Education",
          "Education",
          "Education",
          "Education",
          "Education",
          "Education",
          "Education",
          "Education",
          "Education",
          "Education",
          "Education",
          "Education",
          "Education",
          "Education",
          "Environment protection",
          "Environment protection",
          "Environment protection",
          "Environment protection",
          "Environment protection",
          "Environment protection",
          "Environment protection",
          "Environment protection",
          "Environment protection",
          "Environment protection",
          "Environment protection",
          "Environment protection",
          "Environment protection",
          "Environment protection",
          "Environment protection",
          "Environment protection",
          "Environment protection",
          "Environment protection",
          "Environment protection",
          "Environment protection",
          "Environment protection",
          "General public services",
          "General public services",
          "General public services",
          "General public services",
          "General public services",
          "General public services",
          "General public services",
          "General public services",
          "General public services",
          "General public services",
          "General public services",
          "General public services",
          "General public services",
          "General public services",
          "General public services",
          "General public services",
          "General public services",
          "General public services",
          "General public services",
          "General public services",
          "General public services",
          "Health",
          "Health",
          "Health",
          "Health",
          "Health",
          "Health",
          "Health",
          "Health",
          "Health",
          "Health",
          "Health",
          "Health",
          "Health",
          "Health",
          "Health",
          "Health",
          "Health",
          "Health",
          "Health",
          "Health",
          "Health",
          "Housing and community amenities",
          "Housing and community amenities",
          "Housing and community amenities",
          "Housing and community amenities",
          "Housing and community amenities",
          "Housing and community amenities",
          "Housing and community amenities",
          "Housing and community amenities",
          "Housing and community amenities",
          "Housing and community amenities",
          "Housing and community amenities",
          "Housing and community amenities",
          "Housing and community amenities",
          "Housing and community amenities",
          "Housing and community amenities",
          "Housing and community amenities",
          "Housing and community amenities",
          "Housing and community amenities",
          "Housing and community amenities",
          "Housing and community amenities",
          "Housing and community amenities",
          "Public order and safety",
          "Public order and safety",
          "Public order and safety",
          "Public order and safety",
          "Public order and safety",
          "Public order and safety",
          "Public order and safety",
          "Public order and safety",
          "Public order and safety",
          "Public order and safety",
          "Public order and safety",
          "Public order and safety",
          "Public order and safety",
          "Public order and safety",
          "Public order and safety",
          "Public order and safety",
          "Public order and safety",
          "Public order and safety",
          "Public order and safety",
          "Public order and safety",
          "Public order and safety",
          "Social protection",
          "Social protection",
          "Social protection",
          "Social protection",
          "Social protection",
          "Social protection",
          "Social protection",
          "Social protection",
          "Social protection",
          "Social protection",
          "Social protection",
          "Social protection",
          "Social protection",
          "Social protection",
          "Social protection",
          "Social protection",
          "Social protection",
          "Social protection",
          "Social protection",
          "Social protection",
          "Social protection",
          "AUS",
          "AUT",
          "BEL",
          "BRA",
          "CAN",
          "CHN",
          "ESP",
          "FRA",
          "GER",
          "IND",
          "ITA",
          "JPN",
          "KOR",
          "NLD",
          "NME",
          "OTH",
          "POL",
          "RUS",
          "SUI",
          "UK",
          "USA"
         ],
         "name": "",
         "parents": [
          "AUS",
          "AUT",
          "BEL",
          "BRA",
          "CAN",
          "CHN",
          "ESP",
          "FRA",
          "GER",
          "IND",
          "ITA",
          "JPN",
          "KOR",
          "NLD",
          "NME",
          "OTH",
          "POL",
          "RUS",
          "SUI",
          "UK",
          "USA",
          "AUS",
          "AUT",
          "BEL",
          "BRA",
          "CAN",
          "CHN",
          "ESP",
          "FRA",
          "GER",
          "IND",
          "ITA",
          "JPN",
          "KOR",
          "NLD",
          "NME",
          "OTH",
          "POL",
          "RUS",
          "SUI",
          "UK",
          "USA",
          "AUS",
          "AUT",
          "BEL",
          "BRA",
          "CAN",
          "CHN",
          "ESP",
          "FRA",
          "GER",
          "IND",
          "ITA",
          "JPN",
          "KOR",
          "NLD",
          "NME",
          "OTH",
          "POL",
          "RUS",
          "SUI",
          "UK",
          "USA",
          "AUS",
          "AUT",
          "BEL",
          "BRA",
          "CAN",
          "CHN",
          "ESP",
          "FRA",
          "GER",
          "IND",
          "ITA",
          "JPN",
          "KOR",
          "NLD",
          "NME",
          "OTH",
          "POL",
          "RUS",
          "SUI",
          "UK",
          "USA",
          "AUS",
          "AUT",
          "BEL",
          "BRA",
          "CAN",
          "CHN",
          "ESP",
          "FRA",
          "GER",
          "IND",
          "ITA",
          "JPN",
          "KOR",
          "NLD",
          "NME",
          "OTH",
          "POL",
          "RUS",
          "SUI",
          "UK",
          "USA",
          "AUS",
          "AUT",
          "BEL",
          "BRA",
          "CAN",
          "CHN",
          "ESP",
          "FRA",
          "GER",
          "IND",
          "ITA",
          "JPN",
          "KOR",
          "NLD",
          "NME",
          "OTH",
          "POL",
          "RUS",
          "SUI",
          "UK",
          "USA",
          "AUS",
          "AUT",
          "BEL",
          "BRA",
          "CAN",
          "CHN",
          "ESP",
          "FRA",
          "GER",
          "IND",
          "ITA",
          "JPN",
          "KOR",
          "NLD",
          "NME",
          "OTH",
          "POL",
          "RUS",
          "SUI",
          "UK",
          "USA",
          "AUS",
          "AUT",
          "BEL",
          "BRA",
          "CAN",
          "CHN",
          "ESP",
          "FRA",
          "GER",
          "IND",
          "ITA",
          "JPN",
          "KOR",
          "NLD",
          "NME",
          "OTH",
          "POL",
          "RUS",
          "SUI",
          "UK",
          "USA",
          "",
          "",
          "",
          "",
          "",
          "",
          "",
          "",
          "",
          "",
          "",
          "",
          "",
          "",
          "",
          "",
          "",
          "",
          "",
          "",
          ""
         ],
         "type": "treemap",
         "values": [
          35494.135,
          2682.893,
          4726.293,
          15897.218,
          16090.636,
          188189.219,
          12047.885,
          50575.302,
          43807.79,
          73508.743,
          25791.93,
          46282.551,
          45963.628,
          12242.058,
          36419.104,
          101981.119,
          10411.069,
          29050.866,
          6698.066,
          58414.134,
          745124.24,
          87142.177,
          22129.364,
          34496.721,
          71581.61,
          82696.774,
          531032.254,
          59391.913,
          143177.709,
          180188.289,
          131101.495,
          80755.549,
          181697.737,
          85456.257,
          47630.72,
          133425.858,
          315701.461,
          30669.721,
          55128.286,
          43293.605,
          152051.365,
          1263778.5,
          13887.005,
          1801.734,
          7594.005,
          6832.935,
          12396.053,
          108872.531,
          12589.286,
          27381.867,
          26392.725,
          562.27,
          18582.388,
          63854.148,
          18295.285,
          13521.318,
          14426.673999999999,
          33675.182,
          3364.095,
          3731.896,
          4481.062,
          19519.241,
          0,
          52395.417,
          26749.49,
          38573.447,
          107109.961,
          97560.108,
          459289.507,
          75405.503,
          151907.514,
          236509.979,
          130710.818,
          151201.637,
          194039.626,
          77746.807,
          37828.393,
          144265.675,
          372585.416,
          26351.099,
          148023.21,
          33817.586,
          144678.284,
          1216071.99,
          117574.668,
          39691.258,
          46319.936,
          90948.737,
          160176.395,
          425225.179,
          97661.194,
          235197.596,
          325455.075,
          42594.014,
          149262.188,
          432408.154,
          92016.558,
          75856.67,
          174351.3,
          314785.819,
          32150.95,
          32869.33,
          19154.196,
          267961.684,
          2221081.41,
          9703.492,
          1244.468,
          2005.582,
          17856.801,
          8284.665,
          327588.21,
          5883.452,
          31489.205,
          18634.93,
          64816.641,
          9491.992,
          34906.248,
          19775.545,
          4300.368,
          15615.367,
          68665.465,
          2902.649,
          19100.087,
          1617.345,
          20692.319,
          109364.1,
          30687.81,
          6209.892,
          9478.4,
          41124.859,
          30218.782,
          200889.256,
          26849.604,
          46740.949,
          66311.337,
          47179.534,
          37935.759,
          65225.261,
          22385.381,
          18333.39,
          36765.421,
          129381.049,
          13986.809,
          34612.346,
          12870.384,
          55417.979,
          433328.87,
          168762.997,
          99082.074,
          118675.661,
          301640.169,
          294121.623,
          1298786.012,
          283292.048,
          716871.975,
          841656.9,
          62045.909,
          475917.711,
          898263.407,
          152705.937,
          156693.315,
          450013.221,
          597542.103,
          108341.13,
          210573.737,
          122827.092,
          456711.786,
          2568403.21,
          515647.701,
          199591.17299999998,
          261870.04499999998,
          652992.2899999999,
          701545.036,
          3539872.168,
          573120.885,
          1403342.1169999999,
          1738957.025,
          552519.424,
          948939.154,
          1916677.132,
          514345.398,
          366406.232,
          1005282.62,
          1934317.614,
          228177.522,
          533089.7579999999,
          244759.336,
          1175446.7920000001,
          8557152.32
         ]
        }
       ],
       "layout": {
        "legend": {
         "tracegroupgap": 0
        },
        "margin": {
         "b": 20,
         "l": 20,
         "r": 20,
         "t": 20
        },
        "template": {
         "data": {
          "bar": [
           {
            "error_x": {
             "color": "#2a3f5f"
            },
            "error_y": {
             "color": "#2a3f5f"
            },
            "marker": {
             "line": {
              "color": "#E5ECF6",
              "width": 0.5
             },
             "pattern": {
              "fillmode": "overlay",
              "size": 10,
              "solidity": 0.2
             }
            },
            "type": "bar"
           }
          ],
          "barpolar": [
           {
            "marker": {
             "line": {
              "color": "#E5ECF6",
              "width": 0.5
             },
             "pattern": {
              "fillmode": "overlay",
              "size": 10,
              "solidity": 0.2
             }
            },
            "type": "barpolar"
           }
          ],
          "carpet": [
           {
            "aaxis": {
             "endlinecolor": "#2a3f5f",
             "gridcolor": "white",
             "linecolor": "white",
             "minorgridcolor": "white",
             "startlinecolor": "#2a3f5f"
            },
            "baxis": {
             "endlinecolor": "#2a3f5f",
             "gridcolor": "white",
             "linecolor": "white",
             "minorgridcolor": "white",
             "startlinecolor": "#2a3f5f"
            },
            "type": "carpet"
           }
          ],
          "choropleth": [
           {
            "colorbar": {
             "outlinewidth": 0,
             "ticks": ""
            },
            "type": "choropleth"
           }
          ],
          "contour": [
           {
            "colorbar": {
             "outlinewidth": 0,
             "ticks": ""
            },
            "colorscale": [
             [
              0,
              "#0d0887"
             ],
             [
              0.1111111111111111,
              "#46039f"
             ],
             [
              0.2222222222222222,
              "#7201a8"
             ],
             [
              0.3333333333333333,
              "#9c179e"
             ],
             [
              0.4444444444444444,
              "#bd3786"
             ],
             [
              0.5555555555555556,
              "#d8576b"
             ],
             [
              0.6666666666666666,
              "#ed7953"
             ],
             [
              0.7777777777777778,
              "#fb9f3a"
             ],
             [
              0.8888888888888888,
              "#fdca26"
             ],
             [
              1,
              "#f0f921"
             ]
            ],
            "type": "contour"
           }
          ],
          "contourcarpet": [
           {
            "colorbar": {
             "outlinewidth": 0,
             "ticks": ""
            },
            "type": "contourcarpet"
           }
          ],
          "heatmap": [
           {
            "colorbar": {
             "outlinewidth": 0,
             "ticks": ""
            },
            "colorscale": [
             [
              0,
              "#0d0887"
             ],
             [
              0.1111111111111111,
              "#46039f"
             ],
             [
              0.2222222222222222,
              "#7201a8"
             ],
             [
              0.3333333333333333,
              "#9c179e"
             ],
             [
              0.4444444444444444,
              "#bd3786"
             ],
             [
              0.5555555555555556,
              "#d8576b"
             ],
             [
              0.6666666666666666,
              "#ed7953"
             ],
             [
              0.7777777777777778,
              "#fb9f3a"
             ],
             [
              0.8888888888888888,
              "#fdca26"
             ],
             [
              1,
              "#f0f921"
             ]
            ],
            "type": "heatmap"
           }
          ],
          "heatmapgl": [
           {
            "colorbar": {
             "outlinewidth": 0,
             "ticks": ""
            },
            "colorscale": [
             [
              0,
              "#0d0887"
             ],
             [
              0.1111111111111111,
              "#46039f"
             ],
             [
              0.2222222222222222,
              "#7201a8"
             ],
             [
              0.3333333333333333,
              "#9c179e"
             ],
             [
              0.4444444444444444,
              "#bd3786"
             ],
             [
              0.5555555555555556,
              "#d8576b"
             ],
             [
              0.6666666666666666,
              "#ed7953"
             ],
             [
              0.7777777777777778,
              "#fb9f3a"
             ],
             [
              0.8888888888888888,
              "#fdca26"
             ],
             [
              1,
              "#f0f921"
             ]
            ],
            "type": "heatmapgl"
           }
          ],
          "histogram": [
           {
            "marker": {
             "pattern": {
              "fillmode": "overlay",
              "size": 10,
              "solidity": 0.2
             }
            },
            "type": "histogram"
           }
          ],
          "histogram2d": [
           {
            "colorbar": {
             "outlinewidth": 0,
             "ticks": ""
            },
            "colorscale": [
             [
              0,
              "#0d0887"
             ],
             [
              0.1111111111111111,
              "#46039f"
             ],
             [
              0.2222222222222222,
              "#7201a8"
             ],
             [
              0.3333333333333333,
              "#9c179e"
             ],
             [
              0.4444444444444444,
              "#bd3786"
             ],
             [
              0.5555555555555556,
              "#d8576b"
             ],
             [
              0.6666666666666666,
              "#ed7953"
             ],
             [
              0.7777777777777778,
              "#fb9f3a"
             ],
             [
              0.8888888888888888,
              "#fdca26"
             ],
             [
              1,
              "#f0f921"
             ]
            ],
            "type": "histogram2d"
           }
          ],
          "histogram2dcontour": [
           {
            "colorbar": {
             "outlinewidth": 0,
             "ticks": ""
            },
            "colorscale": [
             [
              0,
              "#0d0887"
             ],
             [
              0.1111111111111111,
              "#46039f"
             ],
             [
              0.2222222222222222,
              "#7201a8"
             ],
             [
              0.3333333333333333,
              "#9c179e"
             ],
             [
              0.4444444444444444,
              "#bd3786"
             ],
             [
              0.5555555555555556,
              "#d8576b"
             ],
             [
              0.6666666666666666,
              "#ed7953"
             ],
             [
              0.7777777777777778,
              "#fb9f3a"
             ],
             [
              0.8888888888888888,
              "#fdca26"
             ],
             [
              1,
              "#f0f921"
             ]
            ],
            "type": "histogram2dcontour"
           }
          ],
          "mesh3d": [
           {
            "colorbar": {
             "outlinewidth": 0,
             "ticks": ""
            },
            "type": "mesh3d"
           }
          ],
          "parcoords": [
           {
            "line": {
             "colorbar": {
              "outlinewidth": 0,
              "ticks": ""
             }
            },
            "type": "parcoords"
           }
          ],
          "pie": [
           {
            "automargin": true,
            "type": "pie"
           }
          ],
          "scatter": [
           {
            "fillpattern": {
             "fillmode": "overlay",
             "size": 10,
             "solidity": 0.2
            },
            "type": "scatter"
           }
          ],
          "scatter3d": [
           {
            "line": {
             "colorbar": {
              "outlinewidth": 0,
              "ticks": ""
             }
            },
            "marker": {
             "colorbar": {
              "outlinewidth": 0,
              "ticks": ""
             }
            },
            "type": "scatter3d"
           }
          ],
          "scattercarpet": [
           {
            "marker": {
             "colorbar": {
              "outlinewidth": 0,
              "ticks": ""
             }
            },
            "type": "scattercarpet"
           }
          ],
          "scattergeo": [
           {
            "marker": {
             "colorbar": {
              "outlinewidth": 0,
              "ticks": ""
             }
            },
            "type": "scattergeo"
           }
          ],
          "scattergl": [
           {
            "marker": {
             "colorbar": {
              "outlinewidth": 0,
              "ticks": ""
             }
            },
            "type": "scattergl"
           }
          ],
          "scattermapbox": [
           {
            "marker": {
             "colorbar": {
              "outlinewidth": 0,
              "ticks": ""
             }
            },
            "type": "scattermapbox"
           }
          ],
          "scatterpolar": [
           {
            "marker": {
             "colorbar": {
              "outlinewidth": 0,
              "ticks": ""
             }
            },
            "type": "scatterpolar"
           }
          ],
          "scatterpolargl": [
           {
            "marker": {
             "colorbar": {
              "outlinewidth": 0,
              "ticks": ""
             }
            },
            "type": "scatterpolargl"
           }
          ],
          "scatterternary": [
           {
            "marker": {
             "colorbar": {
              "outlinewidth": 0,
              "ticks": ""
             }
            },
            "type": "scatterternary"
           }
          ],
          "surface": [
           {
            "colorbar": {
             "outlinewidth": 0,
             "ticks": ""
            },
            "colorscale": [
             [
              0,
              "#0d0887"
             ],
             [
              0.1111111111111111,
              "#46039f"
             ],
             [
              0.2222222222222222,
              "#7201a8"
             ],
             [
              0.3333333333333333,
              "#9c179e"
             ],
             [
              0.4444444444444444,
              "#bd3786"
             ],
             [
              0.5555555555555556,
              "#d8576b"
             ],
             [
              0.6666666666666666,
              "#ed7953"
             ],
             [
              0.7777777777777778,
              "#fb9f3a"
             ],
             [
              0.8888888888888888,
              "#fdca26"
             ],
             [
              1,
              "#f0f921"
             ]
            ],
            "type": "surface"
           }
          ],
          "table": [
           {
            "cells": {
             "fill": {
              "color": "#EBF0F8"
             },
             "line": {
              "color": "white"
             }
            },
            "header": {
             "fill": {
              "color": "#C8D4E3"
             },
             "line": {
              "color": "white"
             }
            },
            "type": "table"
           }
          ]
         },
         "layout": {
          "annotationdefaults": {
           "arrowcolor": "#2a3f5f",
           "arrowhead": 0,
           "arrowwidth": 1
          },
          "autotypenumbers": "strict",
          "coloraxis": {
           "colorbar": {
            "outlinewidth": 0,
            "ticks": ""
           }
          },
          "colorscale": {
           "diverging": [
            [
             0,
             "#8e0152"
            ],
            [
             0.1,
             "#c51b7d"
            ],
            [
             0.2,
             "#de77ae"
            ],
            [
             0.3,
             "#f1b6da"
            ],
            [
             0.4,
             "#fde0ef"
            ],
            [
             0.5,
             "#f7f7f7"
            ],
            [
             0.6,
             "#e6f5d0"
            ],
            [
             0.7,
             "#b8e186"
            ],
            [
             0.8,
             "#7fbc41"
            ],
            [
             0.9,
             "#4d9221"
            ],
            [
             1,
             "#276419"
            ]
           ],
           "sequential": [
            [
             0,
             "#0d0887"
            ],
            [
             0.1111111111111111,
             "#46039f"
            ],
            [
             0.2222222222222222,
             "#7201a8"
            ],
            [
             0.3333333333333333,
             "#9c179e"
            ],
            [
             0.4444444444444444,
             "#bd3786"
            ],
            [
             0.5555555555555556,
             "#d8576b"
            ],
            [
             0.6666666666666666,
             "#ed7953"
            ],
            [
             0.7777777777777778,
             "#fb9f3a"
            ],
            [
             0.8888888888888888,
             "#fdca26"
            ],
            [
             1,
             "#f0f921"
            ]
           ],
           "sequentialminus": [
            [
             0,
             "#0d0887"
            ],
            [
             0.1111111111111111,
             "#46039f"
            ],
            [
             0.2222222222222222,
             "#7201a8"
            ],
            [
             0.3333333333333333,
             "#9c179e"
            ],
            [
             0.4444444444444444,
             "#bd3786"
            ],
            [
             0.5555555555555556,
             "#d8576b"
            ],
            [
             0.6666666666666666,
             "#ed7953"
            ],
            [
             0.7777777777777778,
             "#fb9f3a"
            ],
            [
             0.8888888888888888,
             "#fdca26"
            ],
            [
             1,
             "#f0f921"
            ]
           ]
          },
          "colorway": [
           "#636efa",
           "#EF553B",
           "#00cc96",
           "#ab63fa",
           "#FFA15A",
           "#19d3f3",
           "#FF6692",
           "#B6E880",
           "#FF97FF",
           "#FECB52"
          ],
          "font": {
           "color": "#2a3f5f"
          },
          "geo": {
           "bgcolor": "white",
           "lakecolor": "white",
           "landcolor": "#E5ECF6",
           "showlakes": true,
           "showland": true,
           "subunitcolor": "white"
          },
          "hoverlabel": {
           "align": "left"
          },
          "hovermode": "closest",
          "mapbox": {
           "style": "light"
          },
          "paper_bgcolor": "white",
          "plot_bgcolor": "#E5ECF6",
          "polar": {
           "angularaxis": {
            "gridcolor": "white",
            "linecolor": "white",
            "ticks": ""
           },
           "bgcolor": "#E5ECF6",
           "radialaxis": {
            "gridcolor": "white",
            "linecolor": "white",
            "ticks": ""
           }
          },
          "scene": {
           "xaxis": {
            "backgroundcolor": "#E5ECF6",
            "gridcolor": "white",
            "gridwidth": 2,
            "linecolor": "white",
            "showbackground": true,
            "ticks": "",
            "zerolinecolor": "white"
           },
           "yaxis": {
            "backgroundcolor": "#E5ECF6",
            "gridcolor": "white",
            "gridwidth": 2,
            "linecolor": "white",
            "showbackground": true,
            "ticks": "",
            "zerolinecolor": "white"
           },
           "zaxis": {
            "backgroundcolor": "#E5ECF6",
            "gridcolor": "white",
            "gridwidth": 2,
            "linecolor": "white",
            "showbackground": true,
            "ticks": "",
            "zerolinecolor": "white"
           }
          },
          "shapedefaults": {
           "line": {
            "color": "#2a3f5f"
           }
          },
          "ternary": {
           "aaxis": {
            "gridcolor": "white",
            "linecolor": "white",
            "ticks": ""
           },
           "baxis": {
            "gridcolor": "white",
            "linecolor": "white",
            "ticks": ""
           },
           "bgcolor": "#E5ECF6",
           "caxis": {
            "gridcolor": "white",
            "linecolor": "white",
            "ticks": ""
           }
          },
          "title": {
           "x": 0.05
          },
          "xaxis": {
           "automargin": true,
           "gridcolor": "white",
           "linecolor": "white",
           "ticks": "",
           "title": {
            "standoff": 15
           },
           "zerolinecolor": "white",
           "zerolinewidth": 2
          },
          "yaxis": {
           "automargin": true,
           "gridcolor": "white",
           "linecolor": "white",
           "ticks": "",
           "title": {
            "standoff": 15
           },
           "zerolinecolor": "white",
           "zerolinewidth": 2
          }
         }
        }
       }
      }
     },
     "metadata": {},
     "output_type": "display_data"
    }
   ],
   "source": [
    "fig = px.treemap(current_world_df, path=['Country', 'Sector'], values='Expenditure(million USD)')\n",
    "fig.update_layout(margin=dict(l=20, r=20, t=20, b=20))\n",
    "fig.show()"
   ]
  },
  {
   "cell_type": "markdown",
   "metadata": {},
   "source": [
    "# 2020 Treemap (Of Different Industries & Spending)\n",
    "* What is the most spent industry\n",
    "* Which countries make up those most spent industries"
   ]
  },
  {
   "cell_type": "code",
   "execution_count": 13,
   "metadata": {},
   "outputs": [
    {
     "data": {
      "text/html": [
       "<div>\n",
       "<style scoped>\n",
       "    .dataframe tbody tr th:only-of-type {\n",
       "        vertical-align: middle;\n",
       "    }\n",
       "\n",
       "    .dataframe tbody tr th {\n",
       "        vertical-align: top;\n",
       "    }\n",
       "\n",
       "    .dataframe thead th {\n",
       "        text-align: right;\n",
       "    }\n",
       "</style>\n",
       "<table border=\"1\" class=\"dataframe\">\n",
       "  <thead>\n",
       "    <tr style=\"text-align: right;\">\n",
       "      <th></th>\n",
       "      <th>Year</th>\n",
       "      <th>Country</th>\n",
       "      <th>Sector</th>\n",
       "      <th>Expenditure(million USD)</th>\n",
       "      <th>GDP(%)</th>\n",
       "    </tr>\n",
       "  </thead>\n",
       "  <tbody>\n",
       "    <tr>\n",
       "      <th>6001</th>\n",
       "      <td>2020</td>\n",
       "      <td>Australia</td>\n",
       "      <td>Agriculture, forestry, fishing and hunting</td>\n",
       "      <td>3896.537</td>\n",
       "      <td>0.27216</td>\n",
       "    </tr>\n",
       "  </tbody>\n",
       "</table>\n",
       "</div>"
      ],
      "text/plain": [
       "      Year    Country                                      Sector  \\\n",
       "6001  2020  Australia  Agriculture, forestry, fishing and hunting   \n",
       "\n",
       "      Expenditure(million USD)   GDP(%)  \n",
       "6001                  3896.537  0.27216  "
      ]
     },
     "execution_count": 13,
     "metadata": {},
     "output_type": "execute_result"
    }
   ],
   "source": [
    "current_world_df = world_df[world_df['Year'] == 2020]\n",
    "current_world_df = current_world_df[current_world_df['Sector'] != \"Total function\"]\n",
    "current_world_df.head(1)\n"
   ]
  },
  {
   "cell_type": "code",
   "execution_count": 14,
   "metadata": {},
   "outputs": [
    {
     "data": {
      "text/html": [
       "<div>\n",
       "<style scoped>\n",
       "    .dataframe tbody tr th:only-of-type {\n",
       "        vertical-align: middle;\n",
       "    }\n",
       "\n",
       "    .dataframe tbody tr th {\n",
       "        vertical-align: top;\n",
       "    }\n",
       "\n",
       "    .dataframe thead th {\n",
       "        text-align: right;\n",
       "    }\n",
       "</style>\n",
       "<table border=\"1\" class=\"dataframe\">\n",
       "  <thead>\n",
       "    <tr style=\"text-align: right;\">\n",
       "      <th>Country</th>\n",
       "      <th>Australia</th>\n",
       "      <th>Austria</th>\n",
       "      <th>Belgium</th>\n",
       "      <th>Brazil</th>\n",
       "      <th>Canada</th>\n",
       "      <th>China</th>\n",
       "      <th>France</th>\n",
       "      <th>Germany</th>\n",
       "      <th>India</th>\n",
       "      <th>Italy</th>\n",
       "      <th>...</th>\n",
       "      <th>Korea</th>\n",
       "      <th>Netherlands</th>\n",
       "      <th>Non-Major European</th>\n",
       "      <th>Other</th>\n",
       "      <th>Poland</th>\n",
       "      <th>Russian</th>\n",
       "      <th>Spain</th>\n",
       "      <th>Switzerland</th>\n",
       "      <th>United Kingdom</th>\n",
       "      <th>United States of America</th>\n",
       "    </tr>\n",
       "    <tr>\n",
       "      <th>Sector</th>\n",
       "      <th></th>\n",
       "      <th></th>\n",
       "      <th></th>\n",
       "      <th></th>\n",
       "      <th></th>\n",
       "      <th></th>\n",
       "      <th></th>\n",
       "      <th></th>\n",
       "      <th></th>\n",
       "      <th></th>\n",
       "      <th></th>\n",
       "      <th></th>\n",
       "      <th></th>\n",
       "      <th></th>\n",
       "      <th></th>\n",
       "      <th></th>\n",
       "      <th></th>\n",
       "      <th></th>\n",
       "      <th></th>\n",
       "      <th></th>\n",
       "      <th></th>\n",
       "    </tr>\n",
       "  </thead>\n",
       "  <tbody>\n",
       "    <tr>\n",
       "      <th>Environment protection</th>\n",
       "      <td>13887.005</td>\n",
       "      <td>1801.734</td>\n",
       "      <td>7594.005</td>\n",
       "      <td>6832.935</td>\n",
       "      <td>12396.053</td>\n",
       "      <td>108872.531</td>\n",
       "      <td>27381.867</td>\n",
       "      <td>26392.725</td>\n",
       "      <td>562.27</td>\n",
       "      <td>18582.388</td>\n",
       "      <td>...</td>\n",
       "      <td>18295.285</td>\n",
       "      <td>13521.318</td>\n",
       "      <td>14426.674</td>\n",
       "      <td>33675.182</td>\n",
       "      <td>3364.095</td>\n",
       "      <td>3731.896</td>\n",
       "      <td>12589.286</td>\n",
       "      <td>4481.062</td>\n",
       "      <td>19519.241</td>\n",
       "      <td>0.0</td>\n",
       "    </tr>\n",
       "  </tbody>\n",
       "</table>\n",
       "<p>1 rows × 21 columns</p>\n",
       "</div>"
      ],
      "text/plain": [
       "Country                 Australia   Austria   Belgium    Brazil     Canada  \\\n",
       "Sector                                                                       \n",
       "Environment protection  13887.005  1801.734  7594.005  6832.935  12396.053   \n",
       "\n",
       "Country                      China     France    Germany   India      Italy  \\\n",
       "Sector                                                                        \n",
       "Environment protection  108872.531  27381.867  26392.725  562.27  18582.388   \n",
       "\n",
       "Country                 ...      Korea  Netherlands  Non-Major European  \\\n",
       "Sector                  ...                                               \n",
       "Environment protection  ...  18295.285    13521.318           14426.674   \n",
       "\n",
       "Country                     Other    Poland   Russian      Spain  Switzerland  \\\n",
       "Sector                                                                          \n",
       "Environment protection  33675.182  3364.095  3731.896  12589.286     4481.062   \n",
       "\n",
       "Country                 United Kingdom  United States of America  \n",
       "Sector                                                            \n",
       "Environment protection       19519.241                       0.0  \n",
       "\n",
       "[1 rows x 21 columns]"
      ]
     },
     "execution_count": 14,
     "metadata": {},
     "output_type": "execute_result"
    }
   ],
   "source": [
    "sector_pivot_df = pd.pivot_table(current_world_df, index='Sector', columns='Country',values='Expenditure(million USD)')\n",
    "sector_pivot_df[\"Sector Sum\"] = sector_pivot_df.sum(axis=1)\n",
    "# for country in sector_pivot_df.columns:\n",
    "#     sector_pivot_df[country] = sector_pivot_df[country] / sector_pivot_df[\"Sector Sum\"]\n",
    "sector_pivot_df = sector_pivot_df.drop(columns=['Sector Sum'])\n",
    "sector_pivot_df = sector_pivot_df.loc[sectors]\n",
    "sector_rows_df = sector_pivot_df.unstack().reset_index()\n",
    "sector_rows_df[\"Country\"] = sector_rows_df[\"Country\"].map(abbreviations)\n",
    "sector_pivot_df.head(1)"
   ]
  },
  {
   "cell_type": "code",
   "execution_count": 15,
   "metadata": {},
   "outputs": [
    {
     "data": {
      "application/vnd.plotly.v1+json": {
       "config": {
        "plotlyServerURL": "https://plot.ly"
       },
       "data": [
        {
         "branchvalues": "total",
         "domain": {
          "x": [
           0,
           1
          ],
          "y": [
           0,
           1
          ]
         },
         "hovertemplate": "labels=%{label}<br>0=%{value}<br>parent=%{parent}<br>id=%{id}<extra></extra>",
         "ids": [
          "Defence/AUS",
          "Education/AUS",
          "Environment protection/AUS",
          "General public services/AUS",
          "Health/AUS",
          "Housing and community amenities/AUS",
          "Public order and safety/AUS",
          "Social protection/AUS",
          "Defence/AUT",
          "Education/AUT",
          "Environment protection/AUT",
          "General public services/AUT",
          "Health/AUT",
          "Housing and community amenities/AUT",
          "Public order and safety/AUT",
          "Social protection/AUT",
          "Defence/BEL",
          "Education/BEL",
          "Environment protection/BEL",
          "General public services/BEL",
          "Health/BEL",
          "Housing and community amenities/BEL",
          "Public order and safety/BEL",
          "Social protection/BEL",
          "Defence/BRA",
          "Education/BRA",
          "Environment protection/BRA",
          "General public services/BRA",
          "Health/BRA",
          "Housing and community amenities/BRA",
          "Public order and safety/BRA",
          "Social protection/BRA",
          "Defence/CAN",
          "Education/CAN",
          "Environment protection/CAN",
          "General public services/CAN",
          "Health/CAN",
          "Housing and community amenities/CAN",
          "Public order and safety/CAN",
          "Social protection/CAN",
          "Defence/CHN",
          "Education/CHN",
          "Environment protection/CHN",
          "General public services/CHN",
          "Health/CHN",
          "Housing and community amenities/CHN",
          "Public order and safety/CHN",
          "Social protection/CHN",
          "Defence/ESP",
          "Education/ESP",
          "Environment protection/ESP",
          "General public services/ESP",
          "Health/ESP",
          "Housing and community amenities/ESP",
          "Public order and safety/ESP",
          "Social protection/ESP",
          "Defence/FRA",
          "Education/FRA",
          "Environment protection/FRA",
          "General public services/FRA",
          "Health/FRA",
          "Housing and community amenities/FRA",
          "Public order and safety/FRA",
          "Social protection/FRA",
          "Defence/GER",
          "Education/GER",
          "Environment protection/GER",
          "General public services/GER",
          "Health/GER",
          "Housing and community amenities/GER",
          "Public order and safety/GER",
          "Social protection/GER",
          "Defence/IND",
          "Education/IND",
          "Environment protection/IND",
          "General public services/IND",
          "Health/IND",
          "Housing and community amenities/IND",
          "Public order and safety/IND",
          "Social protection/IND",
          "Defence/ITA",
          "Education/ITA",
          "Environment protection/ITA",
          "General public services/ITA",
          "Health/ITA",
          "Housing and community amenities/ITA",
          "Public order and safety/ITA",
          "Social protection/ITA",
          "Defence/JPN",
          "Education/JPN",
          "Environment protection/JPN",
          "General public services/JPN",
          "Health/JPN",
          "Housing and community amenities/JPN",
          "Public order and safety/JPN",
          "Social protection/JPN",
          "Defence/KOR",
          "Education/KOR",
          "Environment protection/KOR",
          "General public services/KOR",
          "Health/KOR",
          "Housing and community amenities/KOR",
          "Public order and safety/KOR",
          "Social protection/KOR",
          "Defence/NLD",
          "Education/NLD",
          "Environment protection/NLD",
          "General public services/NLD",
          "Health/NLD",
          "Housing and community amenities/NLD",
          "Public order and safety/NLD",
          "Social protection/NLD",
          "Defence/NME",
          "Education/NME",
          "Environment protection/NME",
          "General public services/NME",
          "Health/NME",
          "Housing and community amenities/NME",
          "Public order and safety/NME",
          "Social protection/NME",
          "Defence/OTH",
          "Education/OTH",
          "Environment protection/OTH",
          "General public services/OTH",
          "Health/OTH",
          "Housing and community amenities/OTH",
          "Public order and safety/OTH",
          "Social protection/OTH",
          "Defence/POL",
          "Education/POL",
          "Environment protection/POL",
          "General public services/POL",
          "Health/POL",
          "Housing and community amenities/POL",
          "Public order and safety/POL",
          "Social protection/POL",
          "Defence/RUS",
          "Education/RUS",
          "Environment protection/RUS",
          "General public services/RUS",
          "Health/RUS",
          "Housing and community amenities/RUS",
          "Public order and safety/RUS",
          "Social protection/RUS",
          "Defence/SUI",
          "Education/SUI",
          "Environment protection/SUI",
          "General public services/SUI",
          "Health/SUI",
          "Housing and community amenities/SUI",
          "Public order and safety/SUI",
          "Social protection/SUI",
          "Defence/UK",
          "Education/UK",
          "Environment protection/UK",
          "General public services/UK",
          "Health/UK",
          "Housing and community amenities/UK",
          "Public order and safety/UK",
          "Social protection/UK",
          "Defence/USA",
          "Education/USA",
          "Environment protection/USA",
          "General public services/USA",
          "Health/USA",
          "Housing and community amenities/USA",
          "Public order and safety/USA",
          "Social protection/USA",
          "Defence",
          "Education",
          "Environment protection",
          "General public services",
          "Health",
          "Housing and community amenities",
          "Public order and safety",
          "Social protection"
         ],
         "labels": [
          "AUS",
          "AUS",
          "AUS",
          "AUS",
          "AUS",
          "AUS",
          "AUS",
          "AUS",
          "AUT",
          "AUT",
          "AUT",
          "AUT",
          "AUT",
          "AUT",
          "AUT",
          "AUT",
          "BEL",
          "BEL",
          "BEL",
          "BEL",
          "BEL",
          "BEL",
          "BEL",
          "BEL",
          "BRA",
          "BRA",
          "BRA",
          "BRA",
          "BRA",
          "BRA",
          "BRA",
          "BRA",
          "CAN",
          "CAN",
          "CAN",
          "CAN",
          "CAN",
          "CAN",
          "CAN",
          "CAN",
          "CHN",
          "CHN",
          "CHN",
          "CHN",
          "CHN",
          "CHN",
          "CHN",
          "CHN",
          "ESP",
          "ESP",
          "ESP",
          "ESP",
          "ESP",
          "ESP",
          "ESP",
          "ESP",
          "FRA",
          "FRA",
          "FRA",
          "FRA",
          "FRA",
          "FRA",
          "FRA",
          "FRA",
          "GER",
          "GER",
          "GER",
          "GER",
          "GER",
          "GER",
          "GER",
          "GER",
          "IND",
          "IND",
          "IND",
          "IND",
          "IND",
          "IND",
          "IND",
          "IND",
          "ITA",
          "ITA",
          "ITA",
          "ITA",
          "ITA",
          "ITA",
          "ITA",
          "ITA",
          "JPN",
          "JPN",
          "JPN",
          "JPN",
          "JPN",
          "JPN",
          "JPN",
          "JPN",
          "KOR",
          "KOR",
          "KOR",
          "KOR",
          "KOR",
          "KOR",
          "KOR",
          "KOR",
          "NLD",
          "NLD",
          "NLD",
          "NLD",
          "NLD",
          "NLD",
          "NLD",
          "NLD",
          "NME",
          "NME",
          "NME",
          "NME",
          "NME",
          "NME",
          "NME",
          "NME",
          "OTH",
          "OTH",
          "OTH",
          "OTH",
          "OTH",
          "OTH",
          "OTH",
          "OTH",
          "POL",
          "POL",
          "POL",
          "POL",
          "POL",
          "POL",
          "POL",
          "POL",
          "RUS",
          "RUS",
          "RUS",
          "RUS",
          "RUS",
          "RUS",
          "RUS",
          "RUS",
          "SUI",
          "SUI",
          "SUI",
          "SUI",
          "SUI",
          "SUI",
          "SUI",
          "SUI",
          "UK",
          "UK",
          "UK",
          "UK",
          "UK",
          "UK",
          "UK",
          "UK",
          "USA",
          "USA",
          "USA",
          "USA",
          "USA",
          "USA",
          "USA",
          "USA",
          "Defence",
          "Education",
          "Environment protection",
          "General public services",
          "Health",
          "Housing and community amenities",
          "Public order and safety",
          "Social protection"
         ],
         "name": "",
         "parents": [
          "Defence",
          "Education",
          "Environment protection",
          "General public services",
          "Health",
          "Housing and community amenities",
          "Public order and safety",
          "Social protection",
          "Defence",
          "Education",
          "Environment protection",
          "General public services",
          "Health",
          "Housing and community amenities",
          "Public order and safety",
          "Social protection",
          "Defence",
          "Education",
          "Environment protection",
          "General public services",
          "Health",
          "Housing and community amenities",
          "Public order and safety",
          "Social protection",
          "Defence",
          "Education",
          "Environment protection",
          "General public services",
          "Health",
          "Housing and community amenities",
          "Public order and safety",
          "Social protection",
          "Defence",
          "Education",
          "Environment protection",
          "General public services",
          "Health",
          "Housing and community amenities",
          "Public order and safety",
          "Social protection",
          "Defence",
          "Education",
          "Environment protection",
          "General public services",
          "Health",
          "Housing and community amenities",
          "Public order and safety",
          "Social protection",
          "Defence",
          "Education",
          "Environment protection",
          "General public services",
          "Health",
          "Housing and community amenities",
          "Public order and safety",
          "Social protection",
          "Defence",
          "Education",
          "Environment protection",
          "General public services",
          "Health",
          "Housing and community amenities",
          "Public order and safety",
          "Social protection",
          "Defence",
          "Education",
          "Environment protection",
          "General public services",
          "Health",
          "Housing and community amenities",
          "Public order and safety",
          "Social protection",
          "Defence",
          "Education",
          "Environment protection",
          "General public services",
          "Health",
          "Housing and community amenities",
          "Public order and safety",
          "Social protection",
          "Defence",
          "Education",
          "Environment protection",
          "General public services",
          "Health",
          "Housing and community amenities",
          "Public order and safety",
          "Social protection",
          "Defence",
          "Education",
          "Environment protection",
          "General public services",
          "Health",
          "Housing and community amenities",
          "Public order and safety",
          "Social protection",
          "Defence",
          "Education",
          "Environment protection",
          "General public services",
          "Health",
          "Housing and community amenities",
          "Public order and safety",
          "Social protection",
          "Defence",
          "Education",
          "Environment protection",
          "General public services",
          "Health",
          "Housing and community amenities",
          "Public order and safety",
          "Social protection",
          "Defence",
          "Education",
          "Environment protection",
          "General public services",
          "Health",
          "Housing and community amenities",
          "Public order and safety",
          "Social protection",
          "Defence",
          "Education",
          "Environment protection",
          "General public services",
          "Health",
          "Housing and community amenities",
          "Public order and safety",
          "Social protection",
          "Defence",
          "Education",
          "Environment protection",
          "General public services",
          "Health",
          "Housing and community amenities",
          "Public order and safety",
          "Social protection",
          "Defence",
          "Education",
          "Environment protection",
          "General public services",
          "Health",
          "Housing and community amenities",
          "Public order and safety",
          "Social protection",
          "Defence",
          "Education",
          "Environment protection",
          "General public services",
          "Health",
          "Housing and community amenities",
          "Public order and safety",
          "Social protection",
          "Defence",
          "Education",
          "Environment protection",
          "General public services",
          "Health",
          "Housing and community amenities",
          "Public order and safety",
          "Social protection",
          "Defence",
          "Education",
          "Environment protection",
          "General public services",
          "Health",
          "Housing and community amenities",
          "Public order and safety",
          "Social protection",
          "",
          "",
          "",
          "",
          "",
          "",
          "",
          ""
         ],
         "type": "treemap",
         "values": [
          35494.135,
          87142.177,
          13887.005,
          52395.417,
          117574.668,
          9703.492,
          30687.81,
          168762.997,
          2682.893,
          22129.364,
          1801.734,
          26749.49,
          39691.258,
          1244.468,
          6209.892,
          99082.074,
          4726.293,
          34496.721,
          7594.005,
          38573.447,
          46319.936,
          2005.582,
          9478.4,
          118675.661,
          15897.218,
          71581.61,
          6832.935,
          107109.961,
          90948.737,
          17856.801,
          41124.859,
          301640.169,
          16090.636,
          82696.774,
          12396.053,
          97560.108,
          160176.395,
          8284.665,
          30218.782,
          294121.623,
          188189.219,
          531032.254,
          108872.531,
          459289.507,
          425225.179,
          327588.21,
          200889.256,
          1298786.012,
          12047.885,
          59391.913,
          12589.286,
          75405.503,
          97661.194,
          5883.452,
          26849.604,
          283292.048,
          50575.302,
          143177.709,
          27381.867,
          151907.514,
          235197.596,
          31489.205,
          46740.949,
          716871.975,
          43807.79,
          180188.289,
          26392.725,
          236509.979,
          325455.075,
          18634.93,
          66311.337,
          841656.9,
          73508.743,
          131101.495,
          562.27,
          130710.818,
          42594.014,
          64816.641,
          47179.534,
          62045.909,
          25791.93,
          80755.549,
          18582.388,
          151201.637,
          149262.188,
          9491.992,
          37935.759,
          475917.711,
          46282.551,
          181697.737,
          63854.148,
          194039.626,
          432408.154,
          34906.248,
          65225.261,
          898263.407,
          45963.628,
          85456.257,
          18295.285,
          77746.807,
          92016.558,
          19775.545,
          22385.381,
          152705.937,
          12242.058,
          47630.72,
          13521.318,
          37828.393,
          75856.67,
          4300.368,
          18333.39,
          156693.315,
          36419.104,
          133425.858,
          14426.673999999999,
          144265.675,
          174351.3,
          15615.367,
          36765.421,
          450013.221,
          101981.119,
          315701.461,
          33675.182,
          372585.416,
          314785.819,
          68665.465,
          129381.049,
          597542.103,
          10411.069,
          30669.721,
          3364.095,
          26351.099,
          32150.95,
          2902.649,
          13986.809,
          108341.13,
          29050.866,
          55128.286,
          3731.896,
          148023.21,
          32869.33,
          19100.087,
          34612.346,
          210573.737,
          6698.066,
          43293.605,
          4481.062,
          33817.586,
          19154.196,
          1617.345,
          12870.384,
          122827.092,
          58414.134,
          152051.365,
          19519.241,
          144678.284,
          267961.684,
          20692.319,
          55417.979,
          456711.786,
          745124.24,
          1263778.5,
          0,
          1216071.99,
          2221081.41,
          109364.1,
          433328.87,
          2568403.21,
          1561398.879,
          3732527.365,
          411761.7,
          3922821.467,
          5392742.311000001,
          793938.9310000001,
          1365933.072,
          10382928.017
         ]
        }
       ],
       "layout": {
        "legend": {
         "tracegroupgap": 0
        },
        "margin": {
         "b": 75,
         "l": 50,
         "r": 50,
         "t": 75
        },
        "template": {
         "data": {
          "bar": [
           {
            "error_x": {
             "color": "#2a3f5f"
            },
            "error_y": {
             "color": "#2a3f5f"
            },
            "marker": {
             "line": {
              "color": "#E5ECF6",
              "width": 0.5
             },
             "pattern": {
              "fillmode": "overlay",
              "size": 10,
              "solidity": 0.2
             }
            },
            "type": "bar"
           }
          ],
          "barpolar": [
           {
            "marker": {
             "line": {
              "color": "#E5ECF6",
              "width": 0.5
             },
             "pattern": {
              "fillmode": "overlay",
              "size": 10,
              "solidity": 0.2
             }
            },
            "type": "barpolar"
           }
          ],
          "carpet": [
           {
            "aaxis": {
             "endlinecolor": "#2a3f5f",
             "gridcolor": "white",
             "linecolor": "white",
             "minorgridcolor": "white",
             "startlinecolor": "#2a3f5f"
            },
            "baxis": {
             "endlinecolor": "#2a3f5f",
             "gridcolor": "white",
             "linecolor": "white",
             "minorgridcolor": "white",
             "startlinecolor": "#2a3f5f"
            },
            "type": "carpet"
           }
          ],
          "choropleth": [
           {
            "colorbar": {
             "outlinewidth": 0,
             "ticks": ""
            },
            "type": "choropleth"
           }
          ],
          "contour": [
           {
            "colorbar": {
             "outlinewidth": 0,
             "ticks": ""
            },
            "colorscale": [
             [
              0,
              "#0d0887"
             ],
             [
              0.1111111111111111,
              "#46039f"
             ],
             [
              0.2222222222222222,
              "#7201a8"
             ],
             [
              0.3333333333333333,
              "#9c179e"
             ],
             [
              0.4444444444444444,
              "#bd3786"
             ],
             [
              0.5555555555555556,
              "#d8576b"
             ],
             [
              0.6666666666666666,
              "#ed7953"
             ],
             [
              0.7777777777777778,
              "#fb9f3a"
             ],
             [
              0.8888888888888888,
              "#fdca26"
             ],
             [
              1,
              "#f0f921"
             ]
            ],
            "type": "contour"
           }
          ],
          "contourcarpet": [
           {
            "colorbar": {
             "outlinewidth": 0,
             "ticks": ""
            },
            "type": "contourcarpet"
           }
          ],
          "heatmap": [
           {
            "colorbar": {
             "outlinewidth": 0,
             "ticks": ""
            },
            "colorscale": [
             [
              0,
              "#0d0887"
             ],
             [
              0.1111111111111111,
              "#46039f"
             ],
             [
              0.2222222222222222,
              "#7201a8"
             ],
             [
              0.3333333333333333,
              "#9c179e"
             ],
             [
              0.4444444444444444,
              "#bd3786"
             ],
             [
              0.5555555555555556,
              "#d8576b"
             ],
             [
              0.6666666666666666,
              "#ed7953"
             ],
             [
              0.7777777777777778,
              "#fb9f3a"
             ],
             [
              0.8888888888888888,
              "#fdca26"
             ],
             [
              1,
              "#f0f921"
             ]
            ],
            "type": "heatmap"
           }
          ],
          "heatmapgl": [
           {
            "colorbar": {
             "outlinewidth": 0,
             "ticks": ""
            },
            "colorscale": [
             [
              0,
              "#0d0887"
             ],
             [
              0.1111111111111111,
              "#46039f"
             ],
             [
              0.2222222222222222,
              "#7201a8"
             ],
             [
              0.3333333333333333,
              "#9c179e"
             ],
             [
              0.4444444444444444,
              "#bd3786"
             ],
             [
              0.5555555555555556,
              "#d8576b"
             ],
             [
              0.6666666666666666,
              "#ed7953"
             ],
             [
              0.7777777777777778,
              "#fb9f3a"
             ],
             [
              0.8888888888888888,
              "#fdca26"
             ],
             [
              1,
              "#f0f921"
             ]
            ],
            "type": "heatmapgl"
           }
          ],
          "histogram": [
           {
            "marker": {
             "pattern": {
              "fillmode": "overlay",
              "size": 10,
              "solidity": 0.2
             }
            },
            "type": "histogram"
           }
          ],
          "histogram2d": [
           {
            "colorbar": {
             "outlinewidth": 0,
             "ticks": ""
            },
            "colorscale": [
             [
              0,
              "#0d0887"
             ],
             [
              0.1111111111111111,
              "#46039f"
             ],
             [
              0.2222222222222222,
              "#7201a8"
             ],
             [
              0.3333333333333333,
              "#9c179e"
             ],
             [
              0.4444444444444444,
              "#bd3786"
             ],
             [
              0.5555555555555556,
              "#d8576b"
             ],
             [
              0.6666666666666666,
              "#ed7953"
             ],
             [
              0.7777777777777778,
              "#fb9f3a"
             ],
             [
              0.8888888888888888,
              "#fdca26"
             ],
             [
              1,
              "#f0f921"
             ]
            ],
            "type": "histogram2d"
           }
          ],
          "histogram2dcontour": [
           {
            "colorbar": {
             "outlinewidth": 0,
             "ticks": ""
            },
            "colorscale": [
             [
              0,
              "#0d0887"
             ],
             [
              0.1111111111111111,
              "#46039f"
             ],
             [
              0.2222222222222222,
              "#7201a8"
             ],
             [
              0.3333333333333333,
              "#9c179e"
             ],
             [
              0.4444444444444444,
              "#bd3786"
             ],
             [
              0.5555555555555556,
              "#d8576b"
             ],
             [
              0.6666666666666666,
              "#ed7953"
             ],
             [
              0.7777777777777778,
              "#fb9f3a"
             ],
             [
              0.8888888888888888,
              "#fdca26"
             ],
             [
              1,
              "#f0f921"
             ]
            ],
            "type": "histogram2dcontour"
           }
          ],
          "mesh3d": [
           {
            "colorbar": {
             "outlinewidth": 0,
             "ticks": ""
            },
            "type": "mesh3d"
           }
          ],
          "parcoords": [
           {
            "line": {
             "colorbar": {
              "outlinewidth": 0,
              "ticks": ""
             }
            },
            "type": "parcoords"
           }
          ],
          "pie": [
           {
            "automargin": true,
            "type": "pie"
           }
          ],
          "scatter": [
           {
            "fillpattern": {
             "fillmode": "overlay",
             "size": 10,
             "solidity": 0.2
            },
            "type": "scatter"
           }
          ],
          "scatter3d": [
           {
            "line": {
             "colorbar": {
              "outlinewidth": 0,
              "ticks": ""
             }
            },
            "marker": {
             "colorbar": {
              "outlinewidth": 0,
              "ticks": ""
             }
            },
            "type": "scatter3d"
           }
          ],
          "scattercarpet": [
           {
            "marker": {
             "colorbar": {
              "outlinewidth": 0,
              "ticks": ""
             }
            },
            "type": "scattercarpet"
           }
          ],
          "scattergeo": [
           {
            "marker": {
             "colorbar": {
              "outlinewidth": 0,
              "ticks": ""
             }
            },
            "type": "scattergeo"
           }
          ],
          "scattergl": [
           {
            "marker": {
             "colorbar": {
              "outlinewidth": 0,
              "ticks": ""
             }
            },
            "type": "scattergl"
           }
          ],
          "scattermapbox": [
           {
            "marker": {
             "colorbar": {
              "outlinewidth": 0,
              "ticks": ""
             }
            },
            "type": "scattermapbox"
           }
          ],
          "scatterpolar": [
           {
            "marker": {
             "colorbar": {
              "outlinewidth": 0,
              "ticks": ""
             }
            },
            "type": "scatterpolar"
           }
          ],
          "scatterpolargl": [
           {
            "marker": {
             "colorbar": {
              "outlinewidth": 0,
              "ticks": ""
             }
            },
            "type": "scatterpolargl"
           }
          ],
          "scatterternary": [
           {
            "marker": {
             "colorbar": {
              "outlinewidth": 0,
              "ticks": ""
             }
            },
            "type": "scatterternary"
           }
          ],
          "surface": [
           {
            "colorbar": {
             "outlinewidth": 0,
             "ticks": ""
            },
            "colorscale": [
             [
              0,
              "#0d0887"
             ],
             [
              0.1111111111111111,
              "#46039f"
             ],
             [
              0.2222222222222222,
              "#7201a8"
             ],
             [
              0.3333333333333333,
              "#9c179e"
             ],
             [
              0.4444444444444444,
              "#bd3786"
             ],
             [
              0.5555555555555556,
              "#d8576b"
             ],
             [
              0.6666666666666666,
              "#ed7953"
             ],
             [
              0.7777777777777778,
              "#fb9f3a"
             ],
             [
              0.8888888888888888,
              "#fdca26"
             ],
             [
              1,
              "#f0f921"
             ]
            ],
            "type": "surface"
           }
          ],
          "table": [
           {
            "cells": {
             "fill": {
              "color": "#EBF0F8"
             },
             "line": {
              "color": "white"
             }
            },
            "header": {
             "fill": {
              "color": "#C8D4E3"
             },
             "line": {
              "color": "white"
             }
            },
            "type": "table"
           }
          ]
         },
         "layout": {
          "annotationdefaults": {
           "arrowcolor": "#2a3f5f",
           "arrowhead": 0,
           "arrowwidth": 1
          },
          "autotypenumbers": "strict",
          "coloraxis": {
           "colorbar": {
            "outlinewidth": 0,
            "ticks": ""
           }
          },
          "colorscale": {
           "diverging": [
            [
             0,
             "#8e0152"
            ],
            [
             0.1,
             "#c51b7d"
            ],
            [
             0.2,
             "#de77ae"
            ],
            [
             0.3,
             "#f1b6da"
            ],
            [
             0.4,
             "#fde0ef"
            ],
            [
             0.5,
             "#f7f7f7"
            ],
            [
             0.6,
             "#e6f5d0"
            ],
            [
             0.7,
             "#b8e186"
            ],
            [
             0.8,
             "#7fbc41"
            ],
            [
             0.9,
             "#4d9221"
            ],
            [
             1,
             "#276419"
            ]
           ],
           "sequential": [
            [
             0,
             "#0d0887"
            ],
            [
             0.1111111111111111,
             "#46039f"
            ],
            [
             0.2222222222222222,
             "#7201a8"
            ],
            [
             0.3333333333333333,
             "#9c179e"
            ],
            [
             0.4444444444444444,
             "#bd3786"
            ],
            [
             0.5555555555555556,
             "#d8576b"
            ],
            [
             0.6666666666666666,
             "#ed7953"
            ],
            [
             0.7777777777777778,
             "#fb9f3a"
            ],
            [
             0.8888888888888888,
             "#fdca26"
            ],
            [
             1,
             "#f0f921"
            ]
           ],
           "sequentialminus": [
            [
             0,
             "#0d0887"
            ],
            [
             0.1111111111111111,
             "#46039f"
            ],
            [
             0.2222222222222222,
             "#7201a8"
            ],
            [
             0.3333333333333333,
             "#9c179e"
            ],
            [
             0.4444444444444444,
             "#bd3786"
            ],
            [
             0.5555555555555556,
             "#d8576b"
            ],
            [
             0.6666666666666666,
             "#ed7953"
            ],
            [
             0.7777777777777778,
             "#fb9f3a"
            ],
            [
             0.8888888888888888,
             "#fdca26"
            ],
            [
             1,
             "#f0f921"
            ]
           ]
          },
          "colorway": [
           "#636efa",
           "#EF553B",
           "#00cc96",
           "#ab63fa",
           "#FFA15A",
           "#19d3f3",
           "#FF6692",
           "#B6E880",
           "#FF97FF",
           "#FECB52"
          ],
          "font": {
           "color": "#2a3f5f"
          },
          "geo": {
           "bgcolor": "white",
           "lakecolor": "white",
           "landcolor": "#E5ECF6",
           "showlakes": true,
           "showland": true,
           "subunitcolor": "white"
          },
          "hoverlabel": {
           "align": "left"
          },
          "hovermode": "closest",
          "mapbox": {
           "style": "light"
          },
          "paper_bgcolor": "white",
          "plot_bgcolor": "#E5ECF6",
          "polar": {
           "angularaxis": {
            "gridcolor": "white",
            "linecolor": "white",
            "ticks": ""
           },
           "bgcolor": "#E5ECF6",
           "radialaxis": {
            "gridcolor": "white",
            "linecolor": "white",
            "ticks": ""
           }
          },
          "scene": {
           "xaxis": {
            "backgroundcolor": "#E5ECF6",
            "gridcolor": "white",
            "gridwidth": 2,
            "linecolor": "white",
            "showbackground": true,
            "ticks": "",
            "zerolinecolor": "white"
           },
           "yaxis": {
            "backgroundcolor": "#E5ECF6",
            "gridcolor": "white",
            "gridwidth": 2,
            "linecolor": "white",
            "showbackground": true,
            "ticks": "",
            "zerolinecolor": "white"
           },
           "zaxis": {
            "backgroundcolor": "#E5ECF6",
            "gridcolor": "white",
            "gridwidth": 2,
            "linecolor": "white",
            "showbackground": true,
            "ticks": "",
            "zerolinecolor": "white"
           }
          },
          "shapedefaults": {
           "line": {
            "color": "#2a3f5f"
           }
          },
          "ternary": {
           "aaxis": {
            "gridcolor": "white",
            "linecolor": "white",
            "ticks": ""
           },
           "baxis": {
            "gridcolor": "white",
            "linecolor": "white",
            "ticks": ""
           },
           "bgcolor": "#E5ECF6",
           "caxis": {
            "gridcolor": "white",
            "linecolor": "white",
            "ticks": ""
           }
          },
          "title": {
           "x": 0.05
          },
          "xaxis": {
           "automargin": true,
           "gridcolor": "white",
           "linecolor": "white",
           "ticks": "",
           "title": {
            "standoff": 15
           },
           "zerolinecolor": "white",
           "zerolinewidth": 2
          },
          "yaxis": {
           "automargin": true,
           "gridcolor": "white",
           "linecolor": "white",
           "ticks": "",
           "title": {
            "standoff": 15
           },
           "zerolinecolor": "white",
           "zerolinewidth": 2
          }
         }
        }
       }
      }
     },
     "metadata": {},
     "output_type": "display_data"
    }
   ],
   "source": [
    "fig = px.treemap(sector_rows_df, path=['Sector','Country'], values=0)\n",
    "# make margins larger and save to svg\n",
    "fig.update_layout(margin=dict(l=50, r=50, t=75, b=75))\n",
    "\n",
    "fig.show()"
   ]
  },
  {
   "cell_type": "markdown",
   "metadata": {},
   "source": [
    "# 2020 Treemap (Of Different Industries & Spending)\n",
    "* Which country spents more in a specific industry"
   ]
  },
  {
   "cell_type": "code",
   "execution_count": 16,
   "metadata": {},
   "outputs": [
    {
     "data": {
      "text/html": [
       "<div>\n",
       "<style scoped>\n",
       "    .dataframe tbody tr th:only-of-type {\n",
       "        vertical-align: middle;\n",
       "    }\n",
       "\n",
       "    .dataframe tbody tr th {\n",
       "        vertical-align: top;\n",
       "    }\n",
       "\n",
       "    .dataframe thead th {\n",
       "        text-align: right;\n",
       "    }\n",
       "</style>\n",
       "<table border=\"1\" class=\"dataframe\">\n",
       "  <thead>\n",
       "    <tr style=\"text-align: right;\">\n",
       "      <th></th>\n",
       "      <th>Year</th>\n",
       "      <th>Country</th>\n",
       "      <th>Sector</th>\n",
       "      <th>Expenditure(million USD)</th>\n",
       "      <th>GDP(%)</th>\n",
       "    </tr>\n",
       "  </thead>\n",
       "  <tbody>\n",
       "    <tr>\n",
       "      <th>6001</th>\n",
       "      <td>2020</td>\n",
       "      <td>Australia</td>\n",
       "      <td>Agriculture, forestry, fishing and hunting</td>\n",
       "      <td>3896.537</td>\n",
       "      <td>0.27216</td>\n",
       "    </tr>\n",
       "  </tbody>\n",
       "</table>\n",
       "</div>"
      ],
      "text/plain": [
       "      Year    Country                                      Sector  \\\n",
       "6001  2020  Australia  Agriculture, forestry, fishing and hunting   \n",
       "\n",
       "      Expenditure(million USD)   GDP(%)  \n",
       "6001                  3896.537  0.27216  "
      ]
     },
     "execution_count": 16,
     "metadata": {},
     "output_type": "execute_result"
    }
   ],
   "source": [
    "current_world_df = world_df[world_df['Year'] == 2020]\n",
    "current_world_df = current_world_df[current_world_df['Sector'] != \"Total function\"]\n",
    "current_world_df.head(1)\n"
   ]
  },
  {
   "cell_type": "code",
   "execution_count": 17,
   "metadata": {},
   "outputs": [
    {
     "data": {
      "text/html": [
       "<div>\n",
       "<style scoped>\n",
       "    .dataframe tbody tr th:only-of-type {\n",
       "        vertical-align: middle;\n",
       "    }\n",
       "\n",
       "    .dataframe tbody tr th {\n",
       "        vertical-align: top;\n",
       "    }\n",
       "\n",
       "    .dataframe thead th {\n",
       "        text-align: right;\n",
       "    }\n",
       "</style>\n",
       "<table border=\"1\" class=\"dataframe\">\n",
       "  <thead>\n",
       "    <tr style=\"text-align: right;\">\n",
       "      <th>Country</th>\n",
       "      <th>Australia</th>\n",
       "      <th>Austria</th>\n",
       "      <th>Belgium</th>\n",
       "      <th>Brazil</th>\n",
       "      <th>Canada</th>\n",
       "      <th>China</th>\n",
       "      <th>France</th>\n",
       "      <th>Germany</th>\n",
       "      <th>India</th>\n",
       "      <th>Italy</th>\n",
       "      <th>...</th>\n",
       "      <th>Korea</th>\n",
       "      <th>Netherlands</th>\n",
       "      <th>Non-Major European</th>\n",
       "      <th>Other</th>\n",
       "      <th>Poland</th>\n",
       "      <th>Russian</th>\n",
       "      <th>Spain</th>\n",
       "      <th>Switzerland</th>\n",
       "      <th>United Kingdom</th>\n",
       "      <th>United States of America</th>\n",
       "    </tr>\n",
       "    <tr>\n",
       "      <th>Sector</th>\n",
       "      <th></th>\n",
       "      <th></th>\n",
       "      <th></th>\n",
       "      <th></th>\n",
       "      <th></th>\n",
       "      <th></th>\n",
       "      <th></th>\n",
       "      <th></th>\n",
       "      <th></th>\n",
       "      <th></th>\n",
       "      <th></th>\n",
       "      <th></th>\n",
       "      <th></th>\n",
       "      <th></th>\n",
       "      <th></th>\n",
       "      <th></th>\n",
       "      <th></th>\n",
       "      <th></th>\n",
       "      <th></th>\n",
       "      <th></th>\n",
       "      <th></th>\n",
       "    </tr>\n",
       "  </thead>\n",
       "  <tbody>\n",
       "    <tr>\n",
       "      <th>Environment protection</th>\n",
       "      <td>0.033726</td>\n",
       "      <td>0.004376</td>\n",
       "      <td>0.018443</td>\n",
       "      <td>0.016594</td>\n",
       "      <td>0.030105</td>\n",
       "      <td>0.264407</td>\n",
       "      <td>0.066499</td>\n",
       "      <td>0.064097</td>\n",
       "      <td>0.001366</td>\n",
       "      <td>0.045129</td>\n",
       "      <td>...</td>\n",
       "      <td>0.044432</td>\n",
       "      <td>0.032838</td>\n",
       "      <td>0.035036</td>\n",
       "      <td>0.081783</td>\n",
       "      <td>0.00817</td>\n",
       "      <td>0.009063</td>\n",
       "      <td>0.030574</td>\n",
       "      <td>0.010883</td>\n",
       "      <td>0.047404</td>\n",
       "      <td>0.0</td>\n",
       "    </tr>\n",
       "  </tbody>\n",
       "</table>\n",
       "<p>1 rows × 21 columns</p>\n",
       "</div>"
      ],
      "text/plain": [
       "Country                 Australia   Austria   Belgium    Brazil    Canada  \\\n",
       "Sector                                                                      \n",
       "Environment protection   0.033726  0.004376  0.018443  0.016594  0.030105   \n",
       "\n",
       "Country                    China    France   Germany     India     Italy  ...  \\\n",
       "Sector                                                                    ...   \n",
       "Environment protection  0.264407  0.066499  0.064097  0.001366  0.045129  ...   \n",
       "\n",
       "Country                    Korea  Netherlands  Non-Major European     Other  \\\n",
       "Sector                                                                        \n",
       "Environment protection  0.044432     0.032838            0.035036  0.081783   \n",
       "\n",
       "Country                  Poland   Russian     Spain  Switzerland  \\\n",
       "Sector                                                             \n",
       "Environment protection  0.00817  0.009063  0.030574     0.010883   \n",
       "\n",
       "Country                 United Kingdom  United States of America  \n",
       "Sector                                                            \n",
       "Environment protection        0.047404                       0.0  \n",
       "\n",
       "[1 rows x 21 columns]"
      ]
     },
     "execution_count": 17,
     "metadata": {},
     "output_type": "execute_result"
    }
   ],
   "source": [
    "sector_pivot_df = pd.pivot_table(current_world_df, index='Sector', columns='Country',values='Expenditure(million USD)')\n",
    "sector_pivot_df[\"Sector Sum\"] = sector_pivot_df.sum(axis=1)\n",
    "for country in sector_pivot_df.columns:\n",
    "    sector_pivot_df[country] = sector_pivot_df[country] / sector_pivot_df[\"Sector Sum\"]\n",
    "sector_pivot_df = sector_pivot_df.drop(columns=['Sector Sum'])\n",
    "sector_pivot_df = sector_pivot_df.loc[sectors]\n",
    "sector_rows_df = sector_pivot_df.unstack().reset_index()\n",
    "sector_rows_df[\"Country\"] = sector_rows_df[\"Country\"].map(abbreviations)\n",
    "sector_pivot_df.head(1)"
   ]
  },
  {
   "cell_type": "code",
   "execution_count": 18,
   "metadata": {},
   "outputs": [
    {
     "data": {
      "application/vnd.plotly.v1+json": {
       "config": {
        "plotlyServerURL": "https://plot.ly"
       },
       "data": [
        {
         "branchvalues": "total",
         "domain": {
          "x": [
           0,
           1
          ],
          "y": [
           0,
           1
          ]
         },
         "hovertemplate": "labels=%{label}<br>0=%{value}<br>parent=%{parent}<br>id=%{id}<extra></extra>",
         "ids": [
          "Defence/AUS",
          "Education/AUS",
          "Environment protection/AUS",
          "General public services/AUS",
          "Health/AUS",
          "Housing and community amenities/AUS",
          "Public order and safety/AUS",
          "Social protection/AUS",
          "Defence/AUT",
          "Education/AUT",
          "Environment protection/AUT",
          "General public services/AUT",
          "Health/AUT",
          "Housing and community amenities/AUT",
          "Public order and safety/AUT",
          "Social protection/AUT",
          "Defence/BEL",
          "Education/BEL",
          "Environment protection/BEL",
          "General public services/BEL",
          "Health/BEL",
          "Housing and community amenities/BEL",
          "Public order and safety/BEL",
          "Social protection/BEL",
          "Defence/BRA",
          "Education/BRA",
          "Environment protection/BRA",
          "General public services/BRA",
          "Health/BRA",
          "Housing and community amenities/BRA",
          "Public order and safety/BRA",
          "Social protection/BRA",
          "Defence/CAN",
          "Education/CAN",
          "Environment protection/CAN",
          "General public services/CAN",
          "Health/CAN",
          "Housing and community amenities/CAN",
          "Public order and safety/CAN",
          "Social protection/CAN",
          "Defence/CHN",
          "Education/CHN",
          "Environment protection/CHN",
          "General public services/CHN",
          "Health/CHN",
          "Housing and community amenities/CHN",
          "Public order and safety/CHN",
          "Social protection/CHN",
          "Defence/ESP",
          "Education/ESP",
          "Environment protection/ESP",
          "General public services/ESP",
          "Health/ESP",
          "Housing and community amenities/ESP",
          "Public order and safety/ESP",
          "Social protection/ESP",
          "Defence/FRA",
          "Education/FRA",
          "Environment protection/FRA",
          "General public services/FRA",
          "Health/FRA",
          "Housing and community amenities/FRA",
          "Public order and safety/FRA",
          "Social protection/FRA",
          "Defence/GER",
          "Education/GER",
          "Environment protection/GER",
          "General public services/GER",
          "Health/GER",
          "Housing and community amenities/GER",
          "Public order and safety/GER",
          "Social protection/GER",
          "Defence/IND",
          "Education/IND",
          "Environment protection/IND",
          "General public services/IND",
          "Health/IND",
          "Housing and community amenities/IND",
          "Public order and safety/IND",
          "Social protection/IND",
          "Defence/ITA",
          "Education/ITA",
          "Environment protection/ITA",
          "General public services/ITA",
          "Health/ITA",
          "Housing and community amenities/ITA",
          "Public order and safety/ITA",
          "Social protection/ITA",
          "Defence/JPN",
          "Education/JPN",
          "Environment protection/JPN",
          "General public services/JPN",
          "Health/JPN",
          "Housing and community amenities/JPN",
          "Public order and safety/JPN",
          "Social protection/JPN",
          "Defence/KOR",
          "Education/KOR",
          "Environment protection/KOR",
          "General public services/KOR",
          "Health/KOR",
          "Housing and community amenities/KOR",
          "Public order and safety/KOR",
          "Social protection/KOR",
          "Defence/NLD",
          "Education/NLD",
          "Environment protection/NLD",
          "General public services/NLD",
          "Health/NLD",
          "Housing and community amenities/NLD",
          "Public order and safety/NLD",
          "Social protection/NLD",
          "Defence/NME",
          "Education/NME",
          "Environment protection/NME",
          "General public services/NME",
          "Health/NME",
          "Housing and community amenities/NME",
          "Public order and safety/NME",
          "Social protection/NME",
          "Defence/OTH",
          "Education/OTH",
          "Environment protection/OTH",
          "General public services/OTH",
          "Health/OTH",
          "Housing and community amenities/OTH",
          "Public order and safety/OTH",
          "Social protection/OTH",
          "Defence/POL",
          "Education/POL",
          "Environment protection/POL",
          "General public services/POL",
          "Health/POL",
          "Housing and community amenities/POL",
          "Public order and safety/POL",
          "Social protection/POL",
          "Defence/RUS",
          "Education/RUS",
          "Environment protection/RUS",
          "General public services/RUS",
          "Health/RUS",
          "Housing and community amenities/RUS",
          "Public order and safety/RUS",
          "Social protection/RUS",
          "Defence/SUI",
          "Education/SUI",
          "Environment protection/SUI",
          "General public services/SUI",
          "Health/SUI",
          "Housing and community amenities/SUI",
          "Public order and safety/SUI",
          "Social protection/SUI",
          "Defence/UK",
          "Education/UK",
          "Environment protection/UK",
          "General public services/UK",
          "Health/UK",
          "Housing and community amenities/UK",
          "Public order and safety/UK",
          "Social protection/UK",
          "Defence/USA",
          "Education/USA",
          "Environment protection/USA",
          "General public services/USA",
          "Health/USA",
          "Housing and community amenities/USA",
          "Public order and safety/USA",
          "Social protection/USA",
          "Defence",
          "Education",
          "Environment protection",
          "General public services",
          "Health",
          "Housing and community amenities",
          "Public order and safety",
          "Social protection"
         ],
         "labels": [
          "AUS",
          "AUS",
          "AUS",
          "AUS",
          "AUS",
          "AUS",
          "AUS",
          "AUS",
          "AUT",
          "AUT",
          "AUT",
          "AUT",
          "AUT",
          "AUT",
          "AUT",
          "AUT",
          "BEL",
          "BEL",
          "BEL",
          "BEL",
          "BEL",
          "BEL",
          "BEL",
          "BEL",
          "BRA",
          "BRA",
          "BRA",
          "BRA",
          "BRA",
          "BRA",
          "BRA",
          "BRA",
          "CAN",
          "CAN",
          "CAN",
          "CAN",
          "CAN",
          "CAN",
          "CAN",
          "CAN",
          "CHN",
          "CHN",
          "CHN",
          "CHN",
          "CHN",
          "CHN",
          "CHN",
          "CHN",
          "ESP",
          "ESP",
          "ESP",
          "ESP",
          "ESP",
          "ESP",
          "ESP",
          "ESP",
          "FRA",
          "FRA",
          "FRA",
          "FRA",
          "FRA",
          "FRA",
          "FRA",
          "FRA",
          "GER",
          "GER",
          "GER",
          "GER",
          "GER",
          "GER",
          "GER",
          "GER",
          "IND",
          "IND",
          "IND",
          "IND",
          "IND",
          "IND",
          "IND",
          "IND",
          "ITA",
          "ITA",
          "ITA",
          "ITA",
          "ITA",
          "ITA",
          "ITA",
          "ITA",
          "JPN",
          "JPN",
          "JPN",
          "JPN",
          "JPN",
          "JPN",
          "JPN",
          "JPN",
          "KOR",
          "KOR",
          "KOR",
          "KOR",
          "KOR",
          "KOR",
          "KOR",
          "KOR",
          "NLD",
          "NLD",
          "NLD",
          "NLD",
          "NLD",
          "NLD",
          "NLD",
          "NLD",
          "NME",
          "NME",
          "NME",
          "NME",
          "NME",
          "NME",
          "NME",
          "NME",
          "OTH",
          "OTH",
          "OTH",
          "OTH",
          "OTH",
          "OTH",
          "OTH",
          "OTH",
          "POL",
          "POL",
          "POL",
          "POL",
          "POL",
          "POL",
          "POL",
          "POL",
          "RUS",
          "RUS",
          "RUS",
          "RUS",
          "RUS",
          "RUS",
          "RUS",
          "RUS",
          "SUI",
          "SUI",
          "SUI",
          "SUI",
          "SUI",
          "SUI",
          "SUI",
          "SUI",
          "UK",
          "UK",
          "UK",
          "UK",
          "UK",
          "UK",
          "UK",
          "UK",
          "USA",
          "USA",
          "USA",
          "USA",
          "USA",
          "USA",
          "USA",
          "USA",
          "Defence",
          "Education",
          "Environment protection",
          "General public services",
          "Health",
          "Housing and community amenities",
          "Public order and safety",
          "Social protection"
         ],
         "name": "",
         "parents": [
          "Defence",
          "Education",
          "Environment protection",
          "General public services",
          "Health",
          "Housing and community amenities",
          "Public order and safety",
          "Social protection",
          "Defence",
          "Education",
          "Environment protection",
          "General public services",
          "Health",
          "Housing and community amenities",
          "Public order and safety",
          "Social protection",
          "Defence",
          "Education",
          "Environment protection",
          "General public services",
          "Health",
          "Housing and community amenities",
          "Public order and safety",
          "Social protection",
          "Defence",
          "Education",
          "Environment protection",
          "General public services",
          "Health",
          "Housing and community amenities",
          "Public order and safety",
          "Social protection",
          "Defence",
          "Education",
          "Environment protection",
          "General public services",
          "Health",
          "Housing and community amenities",
          "Public order and safety",
          "Social protection",
          "Defence",
          "Education",
          "Environment protection",
          "General public services",
          "Health",
          "Housing and community amenities",
          "Public order and safety",
          "Social protection",
          "Defence",
          "Education",
          "Environment protection",
          "General public services",
          "Health",
          "Housing and community amenities",
          "Public order and safety",
          "Social protection",
          "Defence",
          "Education",
          "Environment protection",
          "General public services",
          "Health",
          "Housing and community amenities",
          "Public order and safety",
          "Social protection",
          "Defence",
          "Education",
          "Environment protection",
          "General public services",
          "Health",
          "Housing and community amenities",
          "Public order and safety",
          "Social protection",
          "Defence",
          "Education",
          "Environment protection",
          "General public services",
          "Health",
          "Housing and community amenities",
          "Public order and safety",
          "Social protection",
          "Defence",
          "Education",
          "Environment protection",
          "General public services",
          "Health",
          "Housing and community amenities",
          "Public order and safety",
          "Social protection",
          "Defence",
          "Education",
          "Environment protection",
          "General public services",
          "Health",
          "Housing and community amenities",
          "Public order and safety",
          "Social protection",
          "Defence",
          "Education",
          "Environment protection",
          "General public services",
          "Health",
          "Housing and community amenities",
          "Public order and safety",
          "Social protection",
          "Defence",
          "Education",
          "Environment protection",
          "General public services",
          "Health",
          "Housing and community amenities",
          "Public order and safety",
          "Social protection",
          "Defence",
          "Education",
          "Environment protection",
          "General public services",
          "Health",
          "Housing and community amenities",
          "Public order and safety",
          "Social protection",
          "Defence",
          "Education",
          "Environment protection",
          "General public services",
          "Health",
          "Housing and community amenities",
          "Public order and safety",
          "Social protection",
          "Defence",
          "Education",
          "Environment protection",
          "General public services",
          "Health",
          "Housing and community amenities",
          "Public order and safety",
          "Social protection",
          "Defence",
          "Education",
          "Environment protection",
          "General public services",
          "Health",
          "Housing and community amenities",
          "Public order and safety",
          "Social protection",
          "Defence",
          "Education",
          "Environment protection",
          "General public services",
          "Health",
          "Housing and community amenities",
          "Public order and safety",
          "Social protection",
          "Defence",
          "Education",
          "Environment protection",
          "General public services",
          "Health",
          "Housing and community amenities",
          "Public order and safety",
          "Social protection",
          "Defence",
          "Education",
          "Environment protection",
          "General public services",
          "Health",
          "Housing and community amenities",
          "Public order and safety",
          "Social protection",
          "",
          "",
          "",
          "",
          "",
          "",
          "",
          ""
         ],
         "type": "treemap",
         "values": [
          0.022732266224459098,
          0.02334669474017373,
          0.033725829769985886,
          0.013356564258854658,
          0.021802389437406217,
          0.012221962699042905,
          0.02246655464243712,
          0.016253892613305593,
          0.0017182624094864614,
          0.00592878814700934,
          0.004375671656688808,
          0.0068189414749116346,
          0.007360125092392904,
          0.0015674606086296076,
          0.004546263742562051,
          0.009542787336844924,
          0.003026960671975735,
          0.009242188369059687,
          0.018442718203271456,
          0.009833087568346378,
          0.008589310100265236,
          0.002526116205781575,
          0.006939139401699762,
          0.01142988382522656,
          0.010181394526286193,
          0.019177785719998335,
          0.016594391853346244,
          0.027304317033299233,
          0.016865025576038504,
          0.022491403687067712,
          0.03010752125635625,
          0.0290515515956697,
          0.01030526934302993,
          0.02215570467759987,
          0.030104919908772475,
          0.024869882257121844,
          0.029702215637723982,
          0.010434889481443,
          0.022123179106977503,
          0.028327425801126016,
          0.12052603696021995,
          0.14227149651453394,
          0.2644066483113898,
          0.11708141980553712,
          0.07885138107426991,
          0.4126113447886837,
          0.14707108285024376,
          0.12508860794117937,
          0.007716084059004886,
          0.015911983273564027,
          0.03057420347739967,
          0.019222262250355934,
          0.018109746093521433,
          0.007410459130136798,
          0.019656602911507802,
          0.027284408361125594,
          0.032391019796550014,
          0.03835945326016385,
          0.06649930530207156,
          0.03872404474123879,
          0.04361372793953995,
          0.03966199888993729,
          0.03421906238170357,
          0.06904333477283703,
          0.028056757686451494,
          0.04827514211674106,
          0.06409708576586894,
          0.0602907833021706,
          0.06035057049474508,
          0.023471490403586214,
          0.04854654913868283,
          0.08106161370106318,
          0.047078772752212276,
          0.03512405460957686,
          0.001365522825459483,
          0.03332061351748486,
          0.007898395944697309,
          0.08163932825206174,
          0.03454015058799308,
          0.005975762222218245,
          0.016518476058160408,
          0.02163562141760748,
          0.045128986013026465,
          0.03854410359277255,
          0.027678346079236565,
          0.011955569413940225,
          0.027772780217155468,
          0.04583656076790463,
          0.029641721678218262,
          0.048679545849759635,
          0.15507549147965924,
          0.049464302067356865,
          0.08018335182046119,
          0.04396591052164942,
          0.047751432582635346,
          0.08651349653289231,
          0.029437467016395873,
          0.022895011514537152,
          0.044431730780206125,
          0.019819104094853775,
          0.017063036335392218,
          0.02490814372220273,
          0.016388343952477343,
          0.014707405921525613,
          0.007840442416508228,
          0.012760983468369028,
          0.03283772628683046,
          0.00964315947545007,
          0.014066437004651452,
          0.005416497204115564,
          0.013421880160757977,
          0.015091438055184966,
          0.023324663857402447,
          0.03574678627975713,
          0.03503646405190186,
          0.03677599814664213,
          0.03233073081284858,
          0.019668221811886433,
          0.02691597542635676,
          0.043341648932092365,
          0.06531394403543696,
          0.0845811510882252,
          0.08178318187437054,
          0.09497893777076141,
          0.05837212328093382,
          0.08648708649859618,
          0.09471990367036079,
          0.05755044261326308,
          0.006667783063010639,
          0.008216877734799946,
          0.008170004641033879,
          0.006717384214824375,
          0.005961892511425806,
          0.003656010414231721,
          0.010239746944204597,
          0.010434545036102796,
          0.018605665977297015,
          0.014769693724670123,
          0.00906324216166778,
          0.03773386355846614,
          0.006095104884383933,
          0.02405737551620327,
          0.02533970859152021,
          0.020280766336357812,
          0.004289785326533463,
          0.011599005383313515,
          0.010882658586264821,
          0.008620730330065772,
          0.003551847074340949,
          0.00203711511912243,
          0.009422411876414395,
          0.011829716222523629,
          0.03741141023324636,
          0.04073683864337858,
          0.04740421705078447,
          0.03688117983881727,
          0.04968931733552658,
          0.026062859739019395,
          0.040571518572909984,
          0.043986800761040085,
          0.47721581590811424,
          0.3385851934671617,
          0,
          0.3099993207006685,
          0.41186492547019826,
          0.13774875589266197,
          0.3172401919850433,
          0.24736791065051644,
          1,
          1.0000000000000002,
          1,
          0.9999999999999999,
          0.9999999999999999,
          0.9999999999999999,
          0.9999999999999999,
          1
         ]
        }
       ],
       "layout": {
        "legend": {
         "tracegroupgap": 0
        },
        "margin": {
         "b": 10,
         "l": 50,
         "r": 50,
         "t": 35
        },
        "template": {
         "data": {
          "bar": [
           {
            "error_x": {
             "color": "#2a3f5f"
            },
            "error_y": {
             "color": "#2a3f5f"
            },
            "marker": {
             "line": {
              "color": "#E5ECF6",
              "width": 0.5
             },
             "pattern": {
              "fillmode": "overlay",
              "size": 10,
              "solidity": 0.2
             }
            },
            "type": "bar"
           }
          ],
          "barpolar": [
           {
            "marker": {
             "line": {
              "color": "#E5ECF6",
              "width": 0.5
             },
             "pattern": {
              "fillmode": "overlay",
              "size": 10,
              "solidity": 0.2
             }
            },
            "type": "barpolar"
           }
          ],
          "carpet": [
           {
            "aaxis": {
             "endlinecolor": "#2a3f5f",
             "gridcolor": "white",
             "linecolor": "white",
             "minorgridcolor": "white",
             "startlinecolor": "#2a3f5f"
            },
            "baxis": {
             "endlinecolor": "#2a3f5f",
             "gridcolor": "white",
             "linecolor": "white",
             "minorgridcolor": "white",
             "startlinecolor": "#2a3f5f"
            },
            "type": "carpet"
           }
          ],
          "choropleth": [
           {
            "colorbar": {
             "outlinewidth": 0,
             "ticks": ""
            },
            "type": "choropleth"
           }
          ],
          "contour": [
           {
            "colorbar": {
             "outlinewidth": 0,
             "ticks": ""
            },
            "colorscale": [
             [
              0,
              "#0d0887"
             ],
             [
              0.1111111111111111,
              "#46039f"
             ],
             [
              0.2222222222222222,
              "#7201a8"
             ],
             [
              0.3333333333333333,
              "#9c179e"
             ],
             [
              0.4444444444444444,
              "#bd3786"
             ],
             [
              0.5555555555555556,
              "#d8576b"
             ],
             [
              0.6666666666666666,
              "#ed7953"
             ],
             [
              0.7777777777777778,
              "#fb9f3a"
             ],
             [
              0.8888888888888888,
              "#fdca26"
             ],
             [
              1,
              "#f0f921"
             ]
            ],
            "type": "contour"
           }
          ],
          "contourcarpet": [
           {
            "colorbar": {
             "outlinewidth": 0,
             "ticks": ""
            },
            "type": "contourcarpet"
           }
          ],
          "heatmap": [
           {
            "colorbar": {
             "outlinewidth": 0,
             "ticks": ""
            },
            "colorscale": [
             [
              0,
              "#0d0887"
             ],
             [
              0.1111111111111111,
              "#46039f"
             ],
             [
              0.2222222222222222,
              "#7201a8"
             ],
             [
              0.3333333333333333,
              "#9c179e"
             ],
             [
              0.4444444444444444,
              "#bd3786"
             ],
             [
              0.5555555555555556,
              "#d8576b"
             ],
             [
              0.6666666666666666,
              "#ed7953"
             ],
             [
              0.7777777777777778,
              "#fb9f3a"
             ],
             [
              0.8888888888888888,
              "#fdca26"
             ],
             [
              1,
              "#f0f921"
             ]
            ],
            "type": "heatmap"
           }
          ],
          "heatmapgl": [
           {
            "colorbar": {
             "outlinewidth": 0,
             "ticks": ""
            },
            "colorscale": [
             [
              0,
              "#0d0887"
             ],
             [
              0.1111111111111111,
              "#46039f"
             ],
             [
              0.2222222222222222,
              "#7201a8"
             ],
             [
              0.3333333333333333,
              "#9c179e"
             ],
             [
              0.4444444444444444,
              "#bd3786"
             ],
             [
              0.5555555555555556,
              "#d8576b"
             ],
             [
              0.6666666666666666,
              "#ed7953"
             ],
             [
              0.7777777777777778,
              "#fb9f3a"
             ],
             [
              0.8888888888888888,
              "#fdca26"
             ],
             [
              1,
              "#f0f921"
             ]
            ],
            "type": "heatmapgl"
           }
          ],
          "histogram": [
           {
            "marker": {
             "pattern": {
              "fillmode": "overlay",
              "size": 10,
              "solidity": 0.2
             }
            },
            "type": "histogram"
           }
          ],
          "histogram2d": [
           {
            "colorbar": {
             "outlinewidth": 0,
             "ticks": ""
            },
            "colorscale": [
             [
              0,
              "#0d0887"
             ],
             [
              0.1111111111111111,
              "#46039f"
             ],
             [
              0.2222222222222222,
              "#7201a8"
             ],
             [
              0.3333333333333333,
              "#9c179e"
             ],
             [
              0.4444444444444444,
              "#bd3786"
             ],
             [
              0.5555555555555556,
              "#d8576b"
             ],
             [
              0.6666666666666666,
              "#ed7953"
             ],
             [
              0.7777777777777778,
              "#fb9f3a"
             ],
             [
              0.8888888888888888,
              "#fdca26"
             ],
             [
              1,
              "#f0f921"
             ]
            ],
            "type": "histogram2d"
           }
          ],
          "histogram2dcontour": [
           {
            "colorbar": {
             "outlinewidth": 0,
             "ticks": ""
            },
            "colorscale": [
             [
              0,
              "#0d0887"
             ],
             [
              0.1111111111111111,
              "#46039f"
             ],
             [
              0.2222222222222222,
              "#7201a8"
             ],
             [
              0.3333333333333333,
              "#9c179e"
             ],
             [
              0.4444444444444444,
              "#bd3786"
             ],
             [
              0.5555555555555556,
              "#d8576b"
             ],
             [
              0.6666666666666666,
              "#ed7953"
             ],
             [
              0.7777777777777778,
              "#fb9f3a"
             ],
             [
              0.8888888888888888,
              "#fdca26"
             ],
             [
              1,
              "#f0f921"
             ]
            ],
            "type": "histogram2dcontour"
           }
          ],
          "mesh3d": [
           {
            "colorbar": {
             "outlinewidth": 0,
             "ticks": ""
            },
            "type": "mesh3d"
           }
          ],
          "parcoords": [
           {
            "line": {
             "colorbar": {
              "outlinewidth": 0,
              "ticks": ""
             }
            },
            "type": "parcoords"
           }
          ],
          "pie": [
           {
            "automargin": true,
            "type": "pie"
           }
          ],
          "scatter": [
           {
            "fillpattern": {
             "fillmode": "overlay",
             "size": 10,
             "solidity": 0.2
            },
            "type": "scatter"
           }
          ],
          "scatter3d": [
           {
            "line": {
             "colorbar": {
              "outlinewidth": 0,
              "ticks": ""
             }
            },
            "marker": {
             "colorbar": {
              "outlinewidth": 0,
              "ticks": ""
             }
            },
            "type": "scatter3d"
           }
          ],
          "scattercarpet": [
           {
            "marker": {
             "colorbar": {
              "outlinewidth": 0,
              "ticks": ""
             }
            },
            "type": "scattercarpet"
           }
          ],
          "scattergeo": [
           {
            "marker": {
             "colorbar": {
              "outlinewidth": 0,
              "ticks": ""
             }
            },
            "type": "scattergeo"
           }
          ],
          "scattergl": [
           {
            "marker": {
             "colorbar": {
              "outlinewidth": 0,
              "ticks": ""
             }
            },
            "type": "scattergl"
           }
          ],
          "scattermapbox": [
           {
            "marker": {
             "colorbar": {
              "outlinewidth": 0,
              "ticks": ""
             }
            },
            "type": "scattermapbox"
           }
          ],
          "scatterpolar": [
           {
            "marker": {
             "colorbar": {
              "outlinewidth": 0,
              "ticks": ""
             }
            },
            "type": "scatterpolar"
           }
          ],
          "scatterpolargl": [
           {
            "marker": {
             "colorbar": {
              "outlinewidth": 0,
              "ticks": ""
             }
            },
            "type": "scatterpolargl"
           }
          ],
          "scatterternary": [
           {
            "marker": {
             "colorbar": {
              "outlinewidth": 0,
              "ticks": ""
             }
            },
            "type": "scatterternary"
           }
          ],
          "surface": [
           {
            "colorbar": {
             "outlinewidth": 0,
             "ticks": ""
            },
            "colorscale": [
             [
              0,
              "#0d0887"
             ],
             [
              0.1111111111111111,
              "#46039f"
             ],
             [
              0.2222222222222222,
              "#7201a8"
             ],
             [
              0.3333333333333333,
              "#9c179e"
             ],
             [
              0.4444444444444444,
              "#bd3786"
             ],
             [
              0.5555555555555556,
              "#d8576b"
             ],
             [
              0.6666666666666666,
              "#ed7953"
             ],
             [
              0.7777777777777778,
              "#fb9f3a"
             ],
             [
              0.8888888888888888,
              "#fdca26"
             ],
             [
              1,
              "#f0f921"
             ]
            ],
            "type": "surface"
           }
          ],
          "table": [
           {
            "cells": {
             "fill": {
              "color": "#EBF0F8"
             },
             "line": {
              "color": "white"
             }
            },
            "header": {
             "fill": {
              "color": "#C8D4E3"
             },
             "line": {
              "color": "white"
             }
            },
            "type": "table"
           }
          ]
         },
         "layout": {
          "annotationdefaults": {
           "arrowcolor": "#2a3f5f",
           "arrowhead": 0,
           "arrowwidth": 1
          },
          "autotypenumbers": "strict",
          "coloraxis": {
           "colorbar": {
            "outlinewidth": 0,
            "ticks": ""
           }
          },
          "colorscale": {
           "diverging": [
            [
             0,
             "#8e0152"
            ],
            [
             0.1,
             "#c51b7d"
            ],
            [
             0.2,
             "#de77ae"
            ],
            [
             0.3,
             "#f1b6da"
            ],
            [
             0.4,
             "#fde0ef"
            ],
            [
             0.5,
             "#f7f7f7"
            ],
            [
             0.6,
             "#e6f5d0"
            ],
            [
             0.7,
             "#b8e186"
            ],
            [
             0.8,
             "#7fbc41"
            ],
            [
             0.9,
             "#4d9221"
            ],
            [
             1,
             "#276419"
            ]
           ],
           "sequential": [
            [
             0,
             "#0d0887"
            ],
            [
             0.1111111111111111,
             "#46039f"
            ],
            [
             0.2222222222222222,
             "#7201a8"
            ],
            [
             0.3333333333333333,
             "#9c179e"
            ],
            [
             0.4444444444444444,
             "#bd3786"
            ],
            [
             0.5555555555555556,
             "#d8576b"
            ],
            [
             0.6666666666666666,
             "#ed7953"
            ],
            [
             0.7777777777777778,
             "#fb9f3a"
            ],
            [
             0.8888888888888888,
             "#fdca26"
            ],
            [
             1,
             "#f0f921"
            ]
           ],
           "sequentialminus": [
            [
             0,
             "#0d0887"
            ],
            [
             0.1111111111111111,
             "#46039f"
            ],
            [
             0.2222222222222222,
             "#7201a8"
            ],
            [
             0.3333333333333333,
             "#9c179e"
            ],
            [
             0.4444444444444444,
             "#bd3786"
            ],
            [
             0.5555555555555556,
             "#d8576b"
            ],
            [
             0.6666666666666666,
             "#ed7953"
            ],
            [
             0.7777777777777778,
             "#fb9f3a"
            ],
            [
             0.8888888888888888,
             "#fdca26"
            ],
            [
             1,
             "#f0f921"
            ]
           ]
          },
          "colorway": [
           "#636efa",
           "#EF553B",
           "#00cc96",
           "#ab63fa",
           "#FFA15A",
           "#19d3f3",
           "#FF6692",
           "#B6E880",
           "#FF97FF",
           "#FECB52"
          ],
          "font": {
           "color": "#2a3f5f"
          },
          "geo": {
           "bgcolor": "white",
           "lakecolor": "white",
           "landcolor": "#E5ECF6",
           "showlakes": true,
           "showland": true,
           "subunitcolor": "white"
          },
          "hoverlabel": {
           "align": "left"
          },
          "hovermode": "closest",
          "mapbox": {
           "style": "light"
          },
          "paper_bgcolor": "white",
          "plot_bgcolor": "#E5ECF6",
          "polar": {
           "angularaxis": {
            "gridcolor": "white",
            "linecolor": "white",
            "ticks": ""
           },
           "bgcolor": "#E5ECF6",
           "radialaxis": {
            "gridcolor": "white",
            "linecolor": "white",
            "ticks": ""
           }
          },
          "scene": {
           "xaxis": {
            "backgroundcolor": "#E5ECF6",
            "gridcolor": "white",
            "gridwidth": 2,
            "linecolor": "white",
            "showbackground": true,
            "ticks": "",
            "zerolinecolor": "white"
           },
           "yaxis": {
            "backgroundcolor": "#E5ECF6",
            "gridcolor": "white",
            "gridwidth": 2,
            "linecolor": "white",
            "showbackground": true,
            "ticks": "",
            "zerolinecolor": "white"
           },
           "zaxis": {
            "backgroundcolor": "#E5ECF6",
            "gridcolor": "white",
            "gridwidth": 2,
            "linecolor": "white",
            "showbackground": true,
            "ticks": "",
            "zerolinecolor": "white"
           }
          },
          "shapedefaults": {
           "line": {
            "color": "#2a3f5f"
           }
          },
          "ternary": {
           "aaxis": {
            "gridcolor": "white",
            "linecolor": "white",
            "ticks": ""
           },
           "baxis": {
            "gridcolor": "white",
            "linecolor": "white",
            "ticks": ""
           },
           "bgcolor": "#E5ECF6",
           "caxis": {
            "gridcolor": "white",
            "linecolor": "white",
            "ticks": ""
           }
          },
          "title": {
           "x": 0.05
          },
          "xaxis": {
           "automargin": true,
           "gridcolor": "white",
           "linecolor": "white",
           "ticks": "",
           "title": {
            "standoff": 15
           },
           "zerolinecolor": "white",
           "zerolinewidth": 2
          },
          "yaxis": {
           "automargin": true,
           "gridcolor": "white",
           "linecolor": "white",
           "ticks": "",
           "title": {
            "standoff": 15
           },
           "zerolinecolor": "white",
           "zerolinewidth": 2
          }
         }
        },
        "title": {
         "font": {
          "size": 15
         },
         "text": "% Expenditure by Sector and Country in 2020"
        }
       }
      }
     },
     "metadata": {},
     "output_type": "display_data"
    }
   ],
   "source": [
    "fig = px.treemap(sector_rows_df, path=['Sector','Country'], values=0)\n",
    "\n",
    "fig.update_layout(margin=dict(l=50, r=50, t=35, b=10))\n",
    "fig.update_layout(title=\"% Expenditure by Sector and Country in 2020\", title_font_size=15)\n",
    "\n",
    "fig.show()"
   ]
  },
  {
   "cell_type": "markdown",
   "metadata": {},
   "source": [
    "# Time Ridge Plot (% Percent Change in Spending)\n",
    "* How did percent gdp spent change in all countries"
   ]
  },
  {
   "cell_type": "code",
   "execution_count": 24,
   "metadata": {},
   "outputs": [
    {
     "name": "stderr",
     "output_type": "stream",
     "text": [
      "C:\\Users\\commo\\AppData\\Roaming\\Python\\Python311\\site-packages\\seaborn\\axisgrid.py:118: UserWarning:\n",
      "\n",
      "The figure layout has changed to tight\n",
      "\n"
     ]
    },
    {
     "data": {
      "text/plain": [
       "<seaborn.axisgrid.FacetGrid at 0x23aaa827a90>"
      ]
     },
     "execution_count": 24,
     "metadata": {},
     "output_type": "execute_result"
    },
    {
     "data": {
      "image/png": "[encoded data removed]",
      "text/plain": [
       "<Figure size 750x1050 with 21 Axes>"
      ]
     },
     "metadata": {},
     "output_type": "display_data"
    }
   ],
   "source": [
    "world_totals_df = world_df[world_df['Sector'] == \"Total function\"]\n",
    "world_totals_df = world_totals_df[world_totals_df['Country'] == \"Australia\"]\n",
    "# Initialize the FacetGrid object\n",
    "pal = sns.cubehelix_palette(10, rot=-.25, light=.7)\n",
    "g = sns.FacetGrid(world_df, row=\"Country\", aspect=15, height=.5, palette=pal)\n",
    "\n",
    "g.map(sns.lineplot, \"Year\",\"GDP(%)\")\n",
    "\n",
    "# Remove axes details that don't play well with overlap\n",
    "g.set_titles(\"\")\n",
    "g.set(yticks=[], ylabel=\"\")\n",
    "g.despine(bottom=True, left=True)"
   ]
  },
  {
   "cell_type": "markdown",
   "metadata": {},
   "source": [
    "# Time Multiple Country Line Plots (% Percent Change in Spending)\n",
    "* How did percent gdp spent change in all countries"
   ]
  },
  {
   "cell_type": "code",
   "execution_count": 31,
   "metadata": {},
   "outputs": [
    {
     "data": {
      "text/html": [
       "<div>\n",
       "<style scoped>\n",
       "    .dataframe tbody tr th:only-of-type {\n",
       "        vertical-align: middle;\n",
       "    }\n",
       "\n",
       "    .dataframe tbody tr th {\n",
       "        vertical-align: top;\n",
       "    }\n",
       "\n",
       "    .dataframe thead th {\n",
       "        text-align: right;\n",
       "    }\n",
       "</style>\n",
       "<table border=\"1\" class=\"dataframe\">\n",
       "  <thead>\n",
       "    <tr style=\"text-align: right;\">\n",
       "      <th></th>\n",
       "      <th>Year</th>\n",
       "      <th>Country</th>\n",
       "      <th>Sector</th>\n",
       "      <th>Expenditure(million USD)</th>\n",
       "      <th>GDP(%)</th>\n",
       "    </tr>\n",
       "  </thead>\n",
       "  <tbody>\n",
       "    <tr>\n",
       "      <th>0</th>\n",
       "      <td>2000</td>\n",
       "      <td>Australia</td>\n",
       "      <td>Total function</td>\n",
       "      <td>153122.633</td>\n",
       "      <td>37.36193</td>\n",
       "    </tr>\n",
       "    <tr>\n",
       "      <th>1</th>\n",
       "      <td>2000</td>\n",
       "      <td>Australia</td>\n",
       "      <td>Agriculture, forestry, fishing and hunting</td>\n",
       "      <td>2195.583</td>\n",
       "      <td>0.53572</td>\n",
       "    </tr>\n",
       "    <tr>\n",
       "      <th>2</th>\n",
       "      <td>2000</td>\n",
       "      <td>Australia</td>\n",
       "      <td>Mining, manufacturing and construction</td>\n",
       "      <td>905.018</td>\n",
       "      <td>0.22082</td>\n",
       "    </tr>\n",
       "    <tr>\n",
       "      <th>3</th>\n",
       "      <td>2000</td>\n",
       "      <td>Australia</td>\n",
       "      <td>Transport</td>\n",
       "      <td>11417.379</td>\n",
       "      <td>2.78584</td>\n",
       "    </tr>\n",
       "    <tr>\n",
       "      <th>4</th>\n",
       "      <td>2000</td>\n",
       "      <td>Australia</td>\n",
       "      <td>Fuel and energy</td>\n",
       "      <td>2251.241</td>\n",
       "      <td>0.54930</td>\n",
       "    </tr>\n",
       "    <tr>\n",
       "      <th>...</th>\n",
       "      <td>...</td>\n",
       "      <td>...</td>\n",
       "      <td>...</td>\n",
       "      <td>...</td>\n",
       "      <td>...</td>\n",
       "    </tr>\n",
       "    <tr>\n",
       "      <th>6340</th>\n",
       "      <td>2021</td>\n",
       "      <td>Australia</td>\n",
       "      <td>Recreation, culture and religion</td>\n",
       "      <td>15996.553</td>\n",
       "      <td>0.92224</td>\n",
       "    </tr>\n",
       "    <tr>\n",
       "      <th>6341</th>\n",
       "      <td>2021</td>\n",
       "      <td>Australia</td>\n",
       "      <td>General economic, commercial and labour affairs</td>\n",
       "      <td>20410.535</td>\n",
       "      <td>1.17672</td>\n",
       "    </tr>\n",
       "    <tr>\n",
       "      <th>6342</th>\n",
       "      <td>2021</td>\n",
       "      <td>Australia</td>\n",
       "      <td>Other industries</td>\n",
       "      <td>1634.586</td>\n",
       "      <td>0.09424</td>\n",
       "    </tr>\n",
       "    <tr>\n",
       "      <th>6343</th>\n",
       "      <td>2021</td>\n",
       "      <td>Australia</td>\n",
       "      <td>RandD Economic affairs</td>\n",
       "      <td>509.306</td>\n",
       "      <td>0.02936</td>\n",
       "    </tr>\n",
       "    <tr>\n",
       "      <th>6344</th>\n",
       "      <td>2021</td>\n",
       "      <td>Australia</td>\n",
       "      <td>Economic affairs n.e.c.</td>\n",
       "      <td>4388.442</td>\n",
       "      <td>0.25300</td>\n",
       "    </tr>\n",
       "  </tbody>\n",
       "</table>\n",
       "<p>414 rows × 5 columns</p>\n",
       "</div>"
      ],
      "text/plain": [
       "      Year    Country                                           Sector  \\\n",
       "0     2000  Australia                                   Total function   \n",
       "1     2000  Australia       Agriculture, forestry, fishing and hunting   \n",
       "2     2000  Australia           Mining, manufacturing and construction   \n",
       "3     2000  Australia                                        Transport   \n",
       "4     2000  Australia                                  Fuel and energy   \n",
       "...    ...        ...                                              ...   \n",
       "6340  2021  Australia                 Recreation, culture and religion   \n",
       "6341  2021  Australia  General economic, commercial and labour affairs   \n",
       "6342  2021  Australia                                 Other industries   \n",
       "6343  2021  Australia                           RandD Economic affairs   \n",
       "6344  2021  Australia                          Economic affairs n.e.c.   \n",
       "\n",
       "      Expenditure(million USD)    GDP(%)  \n",
       "0                   153122.633  37.36193  \n",
       "1                     2195.583   0.53572  \n",
       "2                      905.018   0.22082  \n",
       "3                    11417.379   2.78584  \n",
       "4                     2251.241   0.54930  \n",
       "...                        ...       ...  \n",
       "6340                 15996.553   0.92224  \n",
       "6341                 20410.535   1.17672  \n",
       "6342                  1634.586   0.09424  \n",
       "6343                   509.306   0.02936  \n",
       "6344                  4388.442   0.25300  \n",
       "\n",
       "[414 rows x 5 columns]"
      ]
     },
     "execution_count": 31,
     "metadata": {},
     "output_type": "execute_result"
    }
   ],
   "source": [
    "world_df[world_df[\"Country\"] == \"Australia\"]"
   ]
  },
  {
   "cell_type": "code",
   "execution_count": 34,
   "metadata": {},
   "outputs": [
    {
     "data": {
      "text/plain": [
       "21"
      ]
     },
     "execution_count": 34,
     "metadata": {},
     "output_type": "execute_result"
    }
   ],
   "source": [
    "len(world_df[\"Country\"].unique())"
   ]
  },
  {
   "cell_type": "code",
   "execution_count": 50,
   "metadata": {},
   "outputs": [
    {
     "data": {
      "image/png": "[encoded data removed]",
      "text/plain": [
       "<Figure size 640x480 with 20 Axes>"
      ]
     },
     "metadata": {},
     "output_type": "display_data"
    }
   ],
   "source": [
    "fig,ax = plt.subplots(4,5)\n",
    "\n",
    "row = 0\n",
    "col = 0\n",
    "for i,country in enumerate(world_df[\"Country\"].unique()):\n",
    "    country_df = world_df[world_df[\"Country\"] == country]\n",
    "    country_df = country_df[country_df[\"Sector\"] == \"Total function\"]\n",
    "    country_df[\"% Change\"] = country_df[\"GDP(%)\"] - country_df[\"GDP(%)\"].shift(1)\n",
    "    country_df[\"% Change\"] = country_df[\"% Change\"].fillna(0)\n",
    "    try: \n",
    "        sns.lineplot(data=country_df, x=\"Year\", y=\"% Change\", ax=ax[row][col])\n",
    "        ax[row][col].set_yticks([])\n",
    "        ax[row][col].set_ylabel(\"\")\n",
    "        ax[row][col].set_xlabel(\"\")\n",
    "        ax[row][col].set_xticks([])\n",
    "    except:\n",
    "        continue\n",
    "        \n",
    "    col += 1\n",
    "    if col == 5:\n",
    "        col = 0\n",
    "        row += 1"
   ]
  },
  {
   "cell_type": "markdown",
   "metadata": {},
   "source": [
    "# Time Multiple Country + Sector Stacked Plots (% Spent relative to GDP)\n",
    "* How did sector spending change in all countries relative to GDP"
   ]
  },
  {
   "cell_type": "markdown",
   "metadata": {},
   "source": [
    "# Time Stacked Plot (% Spent Sector relative  to within-sector Spending)\n",
    "* How did global sector spending change throughout all the countries"
   ]
  },
  {
   "cell_type": "markdown",
   "metadata": {},
   "source": [
    "# Time Multiple Sector Stacked Plot (% Spent Country + Sector relative to sector Spending)\n",
    "* How did sector spending change for the each sector by country"
   ]
  }
 ],
 "metadata": {
  "kernelspec": {
   "display_name": "Python 3",
   "language": "python",
   "name": "python3"
  },
  "language_info": {
   "codemirror_mode": {
    "name": "ipython",
    "version": 3
   },
   "file_extension": ".py",
   "mimetype": "text/x-python",
   "name": "python",
   "nbconvert_exporter": "python",
   "pygments_lexer": "ipython3",
   "version": "3.11.3"
  }
 },
 "nbformat": 4,
 "nbformat_minor": 2
}
