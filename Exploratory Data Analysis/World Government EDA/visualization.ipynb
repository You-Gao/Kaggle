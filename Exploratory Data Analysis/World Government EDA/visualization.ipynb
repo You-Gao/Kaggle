{
 "cells": [
  {
   "cell_type": "code",
   "execution_count": 414,
   "metadata": {},
   "outputs": [],
   "source": [
    "import pandas as pd\n",
    "import matplotlib.pyplot as plt\n",
    "import seaborn as sns\n",
    "import circlify as circlify\n",
    "import plotly.express as px\n",
    "import numpy as np\n",
    "\n",
    "import kaleido"
   ]
  },
  {
   "cell_type": "markdown",
   "metadata": {},
   "source": [
    "# Dimensions:\n",
    "* Country\n",
    "* Country (Location)\n",
    "* Sector\n",
    "* Sector (Spending)\n",
    "* Total Spending\n",
    "* Time"
   ]
  },
  {
   "cell_type": "code",
   "execution_count": 415,
   "metadata": {},
   "outputs": [],
   "source": [
    "# Non-Major European Countries\n",
    "non_major_european_countries = [\n",
    "    \"Latvia\", \"Lithuania\", \"Estonia\",\n",
    "    \"Albania\", \"Bosnia and Herzegovina\", \"Croatia\", \"Montenegro\", \"North Macedonia\", \"Serbia\",\n",
    "    \"Czech Republic\", \"Hungary\", \"Slovakia\", \"Slovenia\",\n",
    "    \"Denmark\", \"Finland\", \"Norway\", \"Sweden\",\n",
    "    \"Bulgaria\", \"Romania\"\n",
    "]\n",
    "\n",
    "# Non-Major South American Countries\n",
    "non_major_south_american_countries = [\n",
    "    \"Bolivia\", \"Ecuador\", \"Peru\",\n",
    "    \"Guyana\", \"Suriname\",\n",
    "    \"Paraguay\", \"Uruguay\"\n",
    "]\n",
    "\n",
    "# African Countries\n",
    "african_countries = [\n",
    "    \"Algeria\", \"Egypt\", \"Libya\", \"Morocco\", \"Tunisia\",\n",
    "    \"Ethiopia\", \"Kenya\", \"Tanzania\", \"Uganda\",\n",
    "    \"Ghana\", \"Nigeria\", \"Senegal\",\n",
    "    \"Angola\", \"Mozambique\", \"Zambia\", \"Zimbabwe\"\n",
    "]\n",
    "\n",
    "# South Asian Countries\n",
    "south_asian_countries = [\n",
    "    \"Bangladesh\", \"Nepal\", \"Sri Lanka\",\n",
    "    \"Bhutan\", \"Maldives\"\n",
    "]\n",
    "\n"
   ]
  },
  {
   "cell_type": "code",
   "execution_count": 416,
   "metadata": {},
   "outputs": [
    {
     "name": "stderr",
     "output_type": "stream",
     "text": [
      "C:\\Users\\commo\\AppData\\Local\\Temp\\ipykernel_10836\\2175733668.py:2: FutureWarning:\n",
      "\n",
      "The default value of numeric_only in DataFrameGroupBy.sum is deprecated. In a future version, numeric_only will default to False. Either specify numeric_only or select only columns which should be valid for the function.\n",
      "\n",
      "C:\\Users\\commo\\AppData\\Local\\Temp\\ipykernel_10836\\2175733668.py:19: FutureWarning:\n",
      "\n",
      "The default value of numeric_only in DataFrameGroupBy.sum is deprecated. In a future version, numeric_only will default to False. Either specify numeric_only or select only columns which should be valid for the function.\n",
      "\n",
      "C:\\Users\\commo\\AppData\\Local\\Temp\\ipykernel_10836\\2175733668.py:20: FutureWarning:\n",
      "\n",
      "The default value of numeric_only in DataFrameGroupBy.sum is deprecated. In a future version, numeric_only will default to False. Either specify numeric_only or select only columns which should be valid for the function.\n",
      "\n",
      "C:\\Users\\commo\\AppData\\Local\\Temp\\ipykernel_10836\\2175733668.py:21: FutureWarning:\n",
      "\n",
      "The default value of numeric_only in DataFrameGroupBy.sum is deprecated. In a future version, numeric_only will default to False. Either specify numeric_only or select only columns which should be valid for the function.\n",
      "\n",
      "C:\\Users\\commo\\AppData\\Local\\Temp\\ipykernel_10836\\2175733668.py:22: FutureWarning:\n",
      "\n",
      "The default value of numeric_only in DataFrameGroupBy.sum is deprecated. In a future version, numeric_only will default to False. Either specify numeric_only or select only columns which should be valid for the function.\n",
      "\n",
      "C:\\Users\\commo\\AppData\\Local\\Temp\\ipykernel_10836\\2175733668.py:23: FutureWarning:\n",
      "\n",
      "The default value of numeric_only in DataFrameGroupBy.sum is deprecated. In a future version, numeric_only will default to False. Either specify numeric_only or select only columns which should be valid for the function.\n",
      "\n"
     ]
    },
    {
     "data": {
      "text/html": [
       "<div>\n",
       "<style scoped>\n",
       "    .dataframe tbody tr th:only-of-type {\n",
       "        vertical-align: middle;\n",
       "    }\n",
       "\n",
       "    .dataframe tbody tr th {\n",
       "        vertical-align: top;\n",
       "    }\n",
       "\n",
       "    .dataframe thead th {\n",
       "        text-align: right;\n",
       "    }\n",
       "</style>\n",
       "<table border=\"1\" class=\"dataframe\">\n",
       "  <thead>\n",
       "    <tr style=\"text-align: right;\">\n",
       "      <th></th>\n",
       "      <th>Year</th>\n",
       "      <th>Country</th>\n",
       "      <th>Sector</th>\n",
       "      <th>Expenditure(million USD)</th>\n",
       "      <th>GDP(%)</th>\n",
       "    </tr>\n",
       "  </thead>\n",
       "  <tbody>\n",
       "    <tr>\n",
       "      <th>0</th>\n",
       "      <td>2000</td>\n",
       "      <td>Australia</td>\n",
       "      <td>Total function</td>\n",
       "      <td>153122.633</td>\n",
       "      <td>37.36193</td>\n",
       "    </tr>\n",
       "  </tbody>\n",
       "</table>\n",
       "</div>"
      ],
      "text/plain": [
       "   Year    Country          Sector  Expenditure(million USD)    GDP(%)\n",
       "0  2000  Australia  Total function                153122.633  37.36193"
      ]
     },
     "execution_count": 416,
     "metadata": {},
     "output_type": "execute_result"
    }
   ],
   "source": [
    "world_df = pd.read_csv(\"WorldExpenditures.csv\", index_col=0)\n",
    "non_top_20 = world_df.groupby(\"Country\").sum().sort_values(\"Expenditure(million USD)\", ascending=False).iloc[20:].index.tolist()\n",
    "non_top_20 = [country for country in non_top_20 if country not in non_major_european_countries + non_major_south_american_countries + african_countries + south_asian_countries]\n",
    "\n",
    "non_major_european_df = world_df[world_df[\"Country\"].isin(non_major_european_countries)]\n",
    "non_major_south_american_df = world_df[world_df[\"Country\"].isin(non_major_south_american_countries)]\n",
    "non_major_african_df = world_df[world_df[\"Country\"].isin(african_countries)]\n",
    "non_major_south_asian_df = world_df[world_df[\"Country\"].isin(south_asian_countries)]\n",
    "non_top_20_df = world_df[world_df[\"Country\"].isin(non_top_20)]\n",
    "world_df = world_df[~world_df[\"Country\"].isin(non_major_european_countries + non_major_south_american_countries + african_countries + south_asian_countries + non_top_20)]\n",
    "\n",
    "\n",
    "# non_major_european_df = non_major_european_df[non_major_european_df[\"Sector\"] == \"Total function\"]\n",
    "# non_major_south_american_df = non_major_south_american_df[non_major_south_american_df[\"Sector\"] == \"Total function\"]\n",
    "# non_major_african_df = non_major_african_df[non_major_african_df[\"Sector\"] == \"Total function\"]\n",
    "# non_major_south_asian_df = non_major_south_asian_df[non_major_south_asian_df[\"Sector\"] == \"Total function\"]\n",
    "# non_top_20_df = non_top_20_df[non_top_20_df[\"Sector\"] == \"Total function\"]\n",
    "\n",
    "non_major_european_df = non_major_european_df.groupby([\"Year\",\"Sector\"]).sum().reset_index()\n",
    "non_major_south_american_df = non_major_south_american_df.groupby([\"Year\",\"Sector\"]).sum().reset_index()\n",
    "non_major_african_df = non_major_african_df.groupby([\"Year\",\"Sector\"]).sum().reset_index()\n",
    "non_major_south_asian_df = non_major_south_asian_df.groupby([\"Year\",\"Sector\"]).sum().reset_index()\n",
    "non_top_20_df = non_top_20_df.groupby([\"Year\",\"Sector\"]).sum().reset_index()\n",
    "\n",
    "non_major_european_df[\"Country\"] = \"Non-Major European\"\n",
    "non_major_south_american_df[\"Country\"] = \"Non-Major South American\"\n",
    "non_major_african_df[\"Country\"] = \"African\"\n",
    "non_major_south_asian_df[\"Country\"] = \"South Asian\"\n",
    "non_top_20_df[\"Country\"] = \"Other\"\n",
    "\n",
    "world_df = pd.concat([world_df, non_major_european_df, non_top_20_df], ignore_index=True)\n",
    "\n",
    "\n",
    "\n",
    "\n",
    "world_df.head(1)"
   ]
  },
  {
   "cell_type": "code",
   "execution_count": 417,
   "metadata": {},
   "outputs": [
    {
     "name": "stderr",
     "output_type": "stream",
     "text": [
      "C:\\Users\\commo\\AppData\\Local\\Temp\\ipykernel_10836\\481683935.py:2: SettingWithCopyWarning:\n",
      "\n",
      "\n",
      "A value is trying to be set on a copy of a slice from a DataFrame\n",
      "\n",
      "See the caveats in the documentation: https://pandas.pydata.org/pandas-docs/stable/user_guide/indexing.html#returning-a-view-versus-a-copy\n",
      "\n",
      "C:\\Users\\commo\\AppData\\Local\\Temp\\ipykernel_10836\\481683935.py:3: SettingWithCopyWarning:\n",
      "\n",
      "\n",
      "A value is trying to be set on a copy of a slice from a DataFrame\n",
      "\n",
      "See the caveats in the documentation: https://pandas.pydata.org/pandas-docs/stable/user_guide/indexing.html#returning-a-view-versus-a-copy\n",
      "\n"
     ]
    }
   ],
   "source": [
    "sectors = world_df[(world_df[\"Country\"] == \"United States of America\") & (world_df[\"Year\"] == 2020)][\"Sector\"]\n",
    "sectors.drop(sectors.index[0], inplace=True)\n",
    "sectors.drop(sectors.index[8], inplace=True)"
   ]
  },
  {
   "cell_type": "markdown",
   "metadata": {},
   "source": [
    "# 2020 Circular Packing Plot (Top 3 Largest Industries)"
   ]
  },
  {
   "cell_type": "code",
   "execution_count": 418,
   "metadata": {},
   "outputs": [
    {
     "data": {
      "text/html": [
       "<div>\n",
       "<style scoped>\n",
       "    .dataframe tbody tr th:only-of-type {\n",
       "        vertical-align: middle;\n",
       "    }\n",
       "\n",
       "    .dataframe tbody tr th {\n",
       "        vertical-align: top;\n",
       "    }\n",
       "\n",
       "    .dataframe thead th {\n",
       "        text-align: right;\n",
       "    }\n",
       "</style>\n",
       "<table border=\"1\" class=\"dataframe\">\n",
       "  <thead>\n",
       "    <tr style=\"text-align: right;\">\n",
       "      <th></th>\n",
       "      <th>Year</th>\n",
       "      <th>Country</th>\n",
       "      <th>Sector</th>\n",
       "      <th>Expenditure(million USD)</th>\n",
       "      <th>GDP(%)</th>\n",
       "    </tr>\n",
       "  </thead>\n",
       "  <tbody>\n",
       "    <tr>\n",
       "      <th>6006</th>\n",
       "      <td>2020</td>\n",
       "      <td>Australia</td>\n",
       "      <td>Environment protection</td>\n",
       "      <td>13887.005</td>\n",
       "      <td>0.96995</td>\n",
       "    </tr>\n",
       "  </tbody>\n",
       "</table>\n",
       "</div>"
      ],
      "text/plain": [
       "      Year    Country                  Sector  Expenditure(million USD)  \\\n",
       "6006  2020  Australia  Environment protection                 13887.005   \n",
       "\n",
       "       GDP(%)  \n",
       "6006  0.96995  "
      ]
     },
     "execution_count": 418,
     "metadata": {},
     "output_type": "execute_result"
    }
   ],
   "source": [
    "current_world_df = world_df[world_df['Year'] == 2020]\n",
    "current_world_df = current_world_df[current_world_df['Sector'].isin(sectors)]\n",
    "current_world_df.head(1)"
   ]
  },
  {
   "cell_type": "code",
   "execution_count": 419,
   "metadata": {},
   "outputs": [
    {
     "data": {
      "text/html": [
       "<div>\n",
       "<style scoped>\n",
       "    .dataframe tbody tr th:only-of-type {\n",
       "        vertical-align: middle;\n",
       "    }\n",
       "\n",
       "    .dataframe tbody tr th {\n",
       "        vertical-align: top;\n",
       "    }\n",
       "\n",
       "    .dataframe thead th {\n",
       "        text-align: right;\n",
       "    }\n",
       "</style>\n",
       "<table border=\"1\" class=\"dataframe\">\n",
       "  <thead>\n",
       "    <tr style=\"text-align: right;\">\n",
       "      <th>Sector</th>\n",
       "      <th>Defence</th>\n",
       "      <th>Education</th>\n",
       "      <th>Environment protection</th>\n",
       "      <th>General public services</th>\n",
       "      <th>Health</th>\n",
       "      <th>Housing and community amenities</th>\n",
       "      <th>Public order and safety</th>\n",
       "      <th>Social protection</th>\n",
       "    </tr>\n",
       "    <tr>\n",
       "      <th>Country</th>\n",
       "      <th></th>\n",
       "      <th></th>\n",
       "      <th></th>\n",
       "      <th></th>\n",
       "      <th></th>\n",
       "      <th></th>\n",
       "      <th></th>\n",
       "      <th></th>\n",
       "    </tr>\n",
       "  </thead>\n",
       "  <tbody>\n",
       "    <tr>\n",
       "      <th>Australia</th>\n",
       "      <td>35494.135</td>\n",
       "      <td>87142.177</td>\n",
       "      <td>13887.005</td>\n",
       "      <td>52395.417</td>\n",
       "      <td>117574.668</td>\n",
       "      <td>9703.492</td>\n",
       "      <td>30687.810</td>\n",
       "      <td>168762.997</td>\n",
       "    </tr>\n",
       "    <tr>\n",
       "      <th>Austria</th>\n",
       "      <td>2682.893</td>\n",
       "      <td>22129.364</td>\n",
       "      <td>1801.734</td>\n",
       "      <td>26749.490</td>\n",
       "      <td>39691.258</td>\n",
       "      <td>1244.468</td>\n",
       "      <td>6209.892</td>\n",
       "      <td>99082.074</td>\n",
       "    </tr>\n",
       "    <tr>\n",
       "      <th>Belgium</th>\n",
       "      <td>4726.293</td>\n",
       "      <td>34496.721</td>\n",
       "      <td>7594.005</td>\n",
       "      <td>38573.447</td>\n",
       "      <td>46319.936</td>\n",
       "      <td>2005.582</td>\n",
       "      <td>9478.400</td>\n",
       "      <td>118675.661</td>\n",
       "    </tr>\n",
       "    <tr>\n",
       "      <th>Brazil</th>\n",
       "      <td>15897.218</td>\n",
       "      <td>71581.610</td>\n",
       "      <td>6832.935</td>\n",
       "      <td>107109.961</td>\n",
       "      <td>90948.737</td>\n",
       "      <td>17856.801</td>\n",
       "      <td>41124.859</td>\n",
       "      <td>301640.169</td>\n",
       "    </tr>\n",
       "    <tr>\n",
       "      <th>Canada</th>\n",
       "      <td>16090.636</td>\n",
       "      <td>82696.774</td>\n",
       "      <td>12396.053</td>\n",
       "      <td>97560.108</td>\n",
       "      <td>160176.395</td>\n",
       "      <td>8284.665</td>\n",
       "      <td>30218.782</td>\n",
       "      <td>294121.623</td>\n",
       "    </tr>\n",
       "  </tbody>\n",
       "</table>\n",
       "</div>"
      ],
      "text/plain": [
       "Sector       Defence  Education  Environment protection  \\\n",
       "Country                                                   \n",
       "Australia  35494.135  87142.177               13887.005   \n",
       "Austria     2682.893  22129.364                1801.734   \n",
       "Belgium     4726.293  34496.721                7594.005   \n",
       "Brazil     15897.218  71581.610                6832.935   \n",
       "Canada     16090.636  82696.774               12396.053   \n",
       "\n",
       "Sector     General public services      Health  \\\n",
       "Country                                          \n",
       "Australia                52395.417  117574.668   \n",
       "Austria                  26749.490   39691.258   \n",
       "Belgium                  38573.447   46319.936   \n",
       "Brazil                  107109.961   90948.737   \n",
       "Canada                   97560.108  160176.395   \n",
       "\n",
       "Sector     Housing and community amenities  Public order and safety  \\\n",
       "Country                                                               \n",
       "Australia                         9703.492                30687.810   \n",
       "Austria                           1244.468                 6209.892   \n",
       "Belgium                           2005.582                 9478.400   \n",
       "Brazil                           17856.801                41124.859   \n",
       "Canada                            8284.665                30218.782   \n",
       "\n",
       "Sector     Social protection  \n",
       "Country                       \n",
       "Australia         168762.997  \n",
       "Austria            99082.074  \n",
       "Belgium           118675.661  \n",
       "Brazil            301640.169  \n",
       "Canada            294121.623  "
      ]
     },
     "execution_count": 419,
     "metadata": {},
     "output_type": "execute_result"
    }
   ],
   "source": [
    "current_world_pivot_df = current_world_df.pivot(index='Country', columns='Sector', values='Expenditure(million USD)')\n",
    "totals = current_world_pivot_df.sum(axis=1)\n",
    "current_world_pivot_df.fillna(1, inplace=True)\n",
    "current_world_pivot_df.head()"
   ]
  },
  {
   "cell_type": "code",
   "execution_count": 420,
   "metadata": {},
   "outputs": [
    {
     "name": "stdout",
     "output_type": "stream",
     "text": [
      "min to max ratio is too low at 0.000000 and it could cause algorithm stability issues. Try to remove insignificant data\n"
     ]
    }
   ],
   "source": [
    "\n",
    "circlify_dict = {}\n",
    "circlify_dict[\"id\"] = \"World\"\n",
    "circlify_dict[\"datum\"] = totals.sum()\n",
    "circlify_dict[\"children\"] = []\n",
    "\n",
    "for country in current_world_pivot_df.index:\n",
    "    country_dict = {}\n",
    "    country_dict[\"id\"] = country\n",
    "    country_dict[\"datum\"] = totals[country]\n",
    "    country_dict[\"children\"] = []\n",
    "    for sector in current_world_pivot_df.columns:\n",
    "        sector_dict = {}\n",
    "        sector_dict[\"id\"] = sector\n",
    "        sector_dict[\"datum\"] = current_world_pivot_df[sector][country]\n",
    "        country_dict[\"children\"].append(sector_dict)\n",
    "    circlify_dict[\"children\"].append(country_dict)\n",
    "    \n",
    "data = [circlify_dict]\n",
    "\n",
    "\n",
    "circles = circlify.circlify(\n",
    "    data, \n",
    "    show_enclosure=False, \n",
    "    target_enclosure=circlify.Circle(x=0, y=0, r=1)\n",
    ")"
   ]
  },
  {
   "cell_type": "code",
   "execution_count": 434,
   "metadata": {},
   "outputs": [
    {
     "name": "stdout",
     "output_type": "stream",
     "text": [
      "['Environment protection' 'Housing and community amenities' 'Health'\n",
      " 'Education' 'Social protection' 'General public services' 'Defence'\n",
      " 'Public order and safety']\n"
     ]
    }
   ],
   "source": [
    "print(sectors.values)"
   ]
  },
  {
   "cell_type": "code",
   "execution_count": 435,
   "metadata": {},
   "outputs": [
    {
     "data": {
      "text/plain": [
       "' \\n'"
      ]
     },
     "execution_count": 435,
     "metadata": {},
     "output_type": "execute_result"
    },
    {
     "data": {
      "image/png": "[encoded data removed]",
      "text/plain": [
       "<Figure size 1400x1400 with 1 Axes>"
      ]
     },
     "metadata": {},
     "output_type": "display_data"
    }
   ],
   "source": [
    "# Create just a figure and only one subplot\n",
    "fig, ax = plt.subplots(figsize=(14,14))\n",
    "\n",
    "# Title\n",
    "#ax.set_title('Repartition of the world population')\n",
    "\n",
    "# Remove axes\n",
    "ax.axis('off')\n",
    "\n",
    "# Find axis boundaries\n",
    "lim = max(\n",
    "    max(\n",
    "        abs(circle.x) + circle.r,\n",
    "        abs(circle.y) + circle.r,\n",
    "    )\n",
    "    for circle in circles\n",
    ")\n",
    "plt.xlim(-lim, lim)\n",
    "plt.ylim(-lim, lim)\n",
    "\n",
    "# Print circle the highest level (continents):\n",
    "for circle in circles:\n",
    "    if circle.level != 2:\n",
    "      continue\n",
    "    x, y, r = circle\n",
    "    ax.add_patch( plt.Circle((x, y), r, alpha=0.5, linewidth=2, color=\"lightblue\"))\n",
    "    \n",
    "# create a color dict based on\n",
    "# change color based on label ['Environment protection' 'Housing and community amenities' 'Health' 'Education' 'Social protection' 'General public services' 'Defence' 'Public order and safety']\n",
    "color_dict = {'Environment protection':'green', 'Housing and community amenities':'blue', 'Health':'red', 'Education':'yellow', 'Social protection':'orange', 'General public services':'purple', 'Defence':'black', 'Public order and safety':'brown'}\n",
    "\n",
    "# Print circle and labels for the highest level:\n",
    "for circle in circles:\n",
    "    if circle.level != 3:\n",
    "      continue\n",
    "    x, y, r = circle\n",
    "    label = circle.ex[\"id\"]\n",
    "    color = color_dict[label]\n",
    "    ax.add_patch( plt.Circle((x, y), r, alpha=0.5, linewidth=2, color=color))\n",
    "    #plt.annotate(label, (x,y ), ha='center', color=\"white\")\n",
    " \n",
    "# Print labels for the continents\n",
    "for circle in circles:\n",
    "    if circle.level != 2:\n",
    "      continue\n",
    "    x, y, r = circle\n",
    "    label = circle.ex[\"id\"]\n",
    "    plt.annotate(label, (x,y ) ,va='center', ha='center', bbox=dict(facecolor='white', edgecolor='black', boxstyle='round', pad=.5))\n",
    "    \n",
    "\"\"\" \n",
    "\"\"\""
   ]
  },
  {
   "cell_type": "code",
   "execution_count": null,
   "metadata": {},
   "outputs": [],
   "source": []
  },
  {
   "cell_type": "markdown",
   "metadata": {},
   "source": [
    "# 2020 Treemap (Largest Economies & Happiness)"
   ]
  },
  {
   "cell_type": "code",
   "execution_count": 422,
   "metadata": {},
   "outputs": [
    {
     "data": {
      "text/html": [
       "<div>\n",
       "<style scoped>\n",
       "    .dataframe tbody tr th:only-of-type {\n",
       "        vertical-align: middle;\n",
       "    }\n",
       "\n",
       "    .dataframe tbody tr th {\n",
       "        vertical-align: top;\n",
       "    }\n",
       "\n",
       "    .dataframe thead th {\n",
       "        text-align: right;\n",
       "    }\n",
       "</style>\n",
       "<table border=\"1\" class=\"dataframe\">\n",
       "  <thead>\n",
       "    <tr style=\"text-align: right;\">\n",
       "      <th></th>\n",
       "      <th>Year</th>\n",
       "      <th>Country</th>\n",
       "      <th>Sector</th>\n",
       "      <th>Expenditure(million USD)</th>\n",
       "      <th>GDP(%)</th>\n",
       "    </tr>\n",
       "  </thead>\n",
       "  <tbody>\n",
       "    <tr>\n",
       "      <th>6006</th>\n",
       "      <td>2020</td>\n",
       "      <td>Australia</td>\n",
       "      <td>Environment protection</td>\n",
       "      <td>13887.005</td>\n",
       "      <td>0.96995</td>\n",
       "    </tr>\n",
       "  </tbody>\n",
       "</table>\n",
       "</div>"
      ],
      "text/plain": [
       "      Year    Country                  Sector  Expenditure(million USD)  \\\n",
       "6006  2020  Australia  Environment protection                 13887.005   \n",
       "\n",
       "       GDP(%)  \n",
       "6006  0.96995  "
      ]
     },
     "execution_count": 422,
     "metadata": {},
     "output_type": "execute_result"
    }
   ],
   "source": [
    "current_world_df = world_df[world_df['Year'] == 2020]\n",
    "current_world_df = current_world_df[current_world_df['Sector'] != \"Total function\"]\n",
    "current_world_df = current_world_df[current_world_df['Sector'].isin(sectors)]\n",
    "current_world_df.head(1)\n"
   ]
  },
  {
   "cell_type": "code",
   "execution_count": 423,
   "metadata": {},
   "outputs": [
    {
     "data": {
      "application/vnd.plotly.v1+json": {
       "config": {
        "plotlyServerURL": "https://plot.ly"
       },
       "data": [
        {
         "branchvalues": "total",
         "domain": {
          "x": [
           0,
           1
          ],
          "y": [
           0,
           1
          ]
         },
         "hovertemplate": "labels=%{label}<br>Expenditure(million USD)=%{value}<br>parent=%{parent}<br>id=%{id}<extra></extra>",
         "ids": [
          "Australia/Defence",
          "Austria/Defence",
          "Belgium/Defence",
          "Brazil/Defence",
          "Canada/Defence",
          "China/Defence",
          "France/Defence",
          "Germany/Defence",
          "India/Defence",
          "Italy/Defence",
          "Japan/Defence",
          "Korea/Defence",
          "Netherlands/Defence",
          "Non-Major European/Defence",
          "Other/Defence",
          "Poland/Defence",
          "Russian Federation/Defence",
          "Spain/Defence",
          "Switzerland/Defence",
          "United Kingdom/Defence",
          "United States of America/Defence",
          "Australia/Education",
          "Austria/Education",
          "Belgium/Education",
          "Brazil/Education",
          "Canada/Education",
          "China/Education",
          "France/Education",
          "Germany/Education",
          "India/Education",
          "Italy/Education",
          "Japan/Education",
          "Korea/Education",
          "Netherlands/Education",
          "Non-Major European/Education",
          "Other/Education",
          "Poland/Education",
          "Russian Federation/Education",
          "Spain/Education",
          "Switzerland/Education",
          "United Kingdom/Education",
          "United States of America/Education",
          "Australia/Environment protection",
          "Austria/Environment protection",
          "Belgium/Environment protection",
          "Brazil/Environment protection",
          "Canada/Environment protection",
          "China/Environment protection",
          "France/Environment protection",
          "Germany/Environment protection",
          "India/Environment protection",
          "Italy/Environment protection",
          "Japan/Environment protection",
          "Korea/Environment protection",
          "Netherlands/Environment protection",
          "Non-Major European/Environment protection",
          "Other/Environment protection",
          "Poland/Environment protection",
          "Russian Federation/Environment protection",
          "Spain/Environment protection",
          "Switzerland/Environment protection",
          "United Kingdom/Environment protection",
          "United States of America/Environment protection",
          "Australia/General public services",
          "Austria/General public services",
          "Belgium/General public services",
          "Brazil/General public services",
          "Canada/General public services",
          "China/General public services",
          "France/General public services",
          "Germany/General public services",
          "India/General public services",
          "Italy/General public services",
          "Japan/General public services",
          "Korea/General public services",
          "Netherlands/General public services",
          "Non-Major European/General public services",
          "Other/General public services",
          "Poland/General public services",
          "Russian Federation/General public services",
          "Spain/General public services",
          "Switzerland/General public services",
          "United Kingdom/General public services",
          "United States of America/General public services",
          "Australia/Health",
          "Austria/Health",
          "Belgium/Health",
          "Brazil/Health",
          "Canada/Health",
          "China/Health",
          "France/Health",
          "Germany/Health",
          "India/Health",
          "Italy/Health",
          "Japan/Health",
          "Korea/Health",
          "Netherlands/Health",
          "Non-Major European/Health",
          "Other/Health",
          "Poland/Health",
          "Russian Federation/Health",
          "Spain/Health",
          "Switzerland/Health",
          "United Kingdom/Health",
          "United States of America/Health",
          "Australia/Housing and community amenities",
          "Austria/Housing and community amenities",
          "Belgium/Housing and community amenities",
          "Brazil/Housing and community amenities",
          "Canada/Housing and community amenities",
          "China/Housing and community amenities",
          "France/Housing and community amenities",
          "Germany/Housing and community amenities",
          "India/Housing and community amenities",
          "Italy/Housing and community amenities",
          "Japan/Housing and community amenities",
          "Korea/Housing and community amenities",
          "Netherlands/Housing and community amenities",
          "Non-Major European/Housing and community amenities",
          "Other/Housing and community amenities",
          "Poland/Housing and community amenities",
          "Russian Federation/Housing and community amenities",
          "Spain/Housing and community amenities",
          "Switzerland/Housing and community amenities",
          "United Kingdom/Housing and community amenities",
          "United States of America/Housing and community amenities",
          "Australia/Public order and safety",
          "Austria/Public order and safety",
          "Belgium/Public order and safety",
          "Brazil/Public order and safety",
          "Canada/Public order and safety",
          "China/Public order and safety",
          "France/Public order and safety",
          "Germany/Public order and safety",
          "India/Public order and safety",
          "Italy/Public order and safety",
          "Japan/Public order and safety",
          "Korea/Public order and safety",
          "Netherlands/Public order and safety",
          "Non-Major European/Public order and safety",
          "Other/Public order and safety",
          "Poland/Public order and safety",
          "Russian Federation/Public order and safety",
          "Spain/Public order and safety",
          "Switzerland/Public order and safety",
          "United Kingdom/Public order and safety",
          "United States of America/Public order and safety",
          "Australia/Social protection",
          "Austria/Social protection",
          "Belgium/Social protection",
          "Brazil/Social protection",
          "Canada/Social protection",
          "China/Social protection",
          "France/Social protection",
          "Germany/Social protection",
          "India/Social protection",
          "Italy/Social protection",
          "Japan/Social protection",
          "Korea/Social protection",
          "Netherlands/Social protection",
          "Non-Major European/Social protection",
          "Other/Social protection",
          "Poland/Social protection",
          "Russian Federation/Social protection",
          "Spain/Social protection",
          "Switzerland/Social protection",
          "United Kingdom/Social protection",
          "United States of America/Social protection",
          "Australia",
          "Austria",
          "Belgium",
          "Brazil",
          "Canada",
          "China",
          "France",
          "Germany",
          "India",
          "Italy",
          "Japan",
          "Korea",
          "Netherlands",
          "Non-Major European",
          "Other",
          "Poland",
          "Russian Federation",
          "Spain",
          "Switzerland",
          "United Kingdom",
          "United States of America"
         ],
         "labels": [
          "Defence",
          "Defence",
          "Defence",
          "Defence",
          "Defence",
          "Defence",
          "Defence",
          "Defence",
          "Defence",
          "Defence",
          "Defence",
          "Defence",
          "Defence",
          "Defence",
          "Defence",
          "Defence",
          "Defence",
          "Defence",
          "Defence",
          "Defence",
          "Defence",
          "Education",
          "Education",
          "Education",
          "Education",
          "Education",
          "Education",
          "Education",
          "Education",
          "Education",
          "Education",
          "Education",
          "Education",
          "Education",
          "Education",
          "Education",
          "Education",
          "Education",
          "Education",
          "Education",
          "Education",
          "Education",
          "Environment protection",
          "Environment protection",
          "Environment protection",
          "Environment protection",
          "Environment protection",
          "Environment protection",
          "Environment protection",
          "Environment protection",
          "Environment protection",
          "Environment protection",
          "Environment protection",
          "Environment protection",
          "Environment protection",
          "Environment protection",
          "Environment protection",
          "Environment protection",
          "Environment protection",
          "Environment protection",
          "Environment protection",
          "Environment protection",
          "Environment protection",
          "General public services",
          "General public services",
          "General public services",
          "General public services",
          "General public services",
          "General public services",
          "General public services",
          "General public services",
          "General public services",
          "General public services",
          "General public services",
          "General public services",
          "General public services",
          "General public services",
          "General public services",
          "General public services",
          "General public services",
          "General public services",
          "General public services",
          "General public services",
          "General public services",
          "Health",
          "Health",
          "Health",
          "Health",
          "Health",
          "Health",
          "Health",
          "Health",
          "Health",
          "Health",
          "Health",
          "Health",
          "Health",
          "Health",
          "Health",
          "Health",
          "Health",
          "Health",
          "Health",
          "Health",
          "Health",
          "Housing and community amenities",
          "Housing and community amenities",
          "Housing and community amenities",
          "Housing and community amenities",
          "Housing and community amenities",
          "Housing and community amenities",
          "Housing and community amenities",
          "Housing and community amenities",
          "Housing and community amenities",
          "Housing and community amenities",
          "Housing and community amenities",
          "Housing and community amenities",
          "Housing and community amenities",
          "Housing and community amenities",
          "Housing and community amenities",
          "Housing and community amenities",
          "Housing and community amenities",
          "Housing and community amenities",
          "Housing and community amenities",
          "Housing and community amenities",
          "Housing and community amenities",
          "Public order and safety",
          "Public order and safety",
          "Public order and safety",
          "Public order and safety",
          "Public order and safety",
          "Public order and safety",
          "Public order and safety",
          "Public order and safety",
          "Public order and safety",
          "Public order and safety",
          "Public order and safety",
          "Public order and safety",
          "Public order and safety",
          "Public order and safety",
          "Public order and safety",
          "Public order and safety",
          "Public order and safety",
          "Public order and safety",
          "Public order and safety",
          "Public order and safety",
          "Public order and safety",
          "Social protection",
          "Social protection",
          "Social protection",
          "Social protection",
          "Social protection",
          "Social protection",
          "Social protection",
          "Social protection",
          "Social protection",
          "Social protection",
          "Social protection",
          "Social protection",
          "Social protection",
          "Social protection",
          "Social protection",
          "Social protection",
          "Social protection",
          "Social protection",
          "Social protection",
          "Social protection",
          "Social protection",
          "Australia",
          "Austria",
          "Belgium",
          "Brazil",
          "Canada",
          "China",
          "France",
          "Germany",
          "India",
          "Italy",
          "Japan",
          "Korea",
          "Netherlands",
          "Non-Major European",
          "Other",
          "Poland",
          "Russian Federation",
          "Spain",
          "Switzerland",
          "United Kingdom",
          "United States of America"
         ],
         "name": "",
         "parents": [
          "Australia",
          "Austria",
          "Belgium",
          "Brazil",
          "Canada",
          "China",
          "France",
          "Germany",
          "India",
          "Italy",
          "Japan",
          "Korea",
          "Netherlands",
          "Non-Major European",
          "Other",
          "Poland",
          "Russian Federation",
          "Spain",
          "Switzerland",
          "United Kingdom",
          "United States of America",
          "Australia",
          "Austria",
          "Belgium",
          "Brazil",
          "Canada",
          "China",
          "France",
          "Germany",
          "India",
          "Italy",
          "Japan",
          "Korea",
          "Netherlands",
          "Non-Major European",
          "Other",
          "Poland",
          "Russian Federation",
          "Spain",
          "Switzerland",
          "United Kingdom",
          "United States of America",
          "Australia",
          "Austria",
          "Belgium",
          "Brazil",
          "Canada",
          "China",
          "France",
          "Germany",
          "India",
          "Italy",
          "Japan",
          "Korea",
          "Netherlands",
          "Non-Major European",
          "Other",
          "Poland",
          "Russian Federation",
          "Spain",
          "Switzerland",
          "United Kingdom",
          "United States of America",
          "Australia",
          "Austria",
          "Belgium",
          "Brazil",
          "Canada",
          "China",
          "France",
          "Germany",
          "India",
          "Italy",
          "Japan",
          "Korea",
          "Netherlands",
          "Non-Major European",
          "Other",
          "Poland",
          "Russian Federation",
          "Spain",
          "Switzerland",
          "United Kingdom",
          "United States of America",
          "Australia",
          "Austria",
          "Belgium",
          "Brazil",
          "Canada",
          "China",
          "France",
          "Germany",
          "India",
          "Italy",
          "Japan",
          "Korea",
          "Netherlands",
          "Non-Major European",
          "Other",
          "Poland",
          "Russian Federation",
          "Spain",
          "Switzerland",
          "United Kingdom",
          "United States of America",
          "Australia",
          "Austria",
          "Belgium",
          "Brazil",
          "Canada",
          "China",
          "France",
          "Germany",
          "India",
          "Italy",
          "Japan",
          "Korea",
          "Netherlands",
          "Non-Major European",
          "Other",
          "Poland",
          "Russian Federation",
          "Spain",
          "Switzerland",
          "United Kingdom",
          "United States of America",
          "Australia",
          "Austria",
          "Belgium",
          "Brazil",
          "Canada",
          "China",
          "France",
          "Germany",
          "India",
          "Italy",
          "Japan",
          "Korea",
          "Netherlands",
          "Non-Major European",
          "Other",
          "Poland",
          "Russian Federation",
          "Spain",
          "Switzerland",
          "United Kingdom",
          "United States of America",
          "Australia",
          "Austria",
          "Belgium",
          "Brazil",
          "Canada",
          "China",
          "France",
          "Germany",
          "India",
          "Italy",
          "Japan",
          "Korea",
          "Netherlands",
          "Non-Major European",
          "Other",
          "Poland",
          "Russian Federation",
          "Spain",
          "Switzerland",
          "United Kingdom",
          "United States of America",
          "",
          "",
          "",
          "",
          "",
          "",
          "",
          "",
          "",
          "",
          "",
          "",
          "",
          "",
          "",
          "",
          "",
          "",
          "",
          "",
          ""
         ],
         "type": "treemap",
         "values": [
          35494.135,
          2682.893,
          4726.293,
          15897.218,
          16090.636,
          188189.219,
          50575.302,
          43807.79,
          73508.743,
          25791.93,
          46282.551,
          45963.628,
          12242.058,
          36419.104,
          101981.119,
          10411.069,
          29050.866,
          12047.885,
          6698.066,
          58414.134,
          745124.24,
          87142.177,
          22129.364,
          34496.721,
          71581.61,
          82696.774,
          531032.254,
          143177.709,
          180188.289,
          131101.495,
          80755.549,
          181697.737,
          85456.257,
          47630.72,
          133425.858,
          315701.461,
          30669.721,
          55128.286,
          59391.913,
          43293.605,
          152051.365,
          1263778.5,
          13887.005,
          1801.734,
          7594.005,
          6832.935,
          12396.053,
          108872.531,
          27381.867,
          26392.725,
          562.27,
          18582.388,
          63854.148,
          18295.285,
          13521.318,
          14426.673999999999,
          33675.182,
          3364.095,
          3731.896,
          12589.286,
          4481.062,
          19519.241,
          0,
          52395.417,
          26749.49,
          38573.447,
          107109.961,
          97560.108,
          459289.507,
          151907.514,
          236509.979,
          130710.818,
          151201.637,
          194039.626,
          77746.807,
          37828.393,
          144265.675,
          372585.416,
          26351.099,
          148023.21,
          75405.503,
          33817.586,
          144678.284,
          1216071.99,
          117574.668,
          39691.258,
          46319.936,
          90948.737,
          160176.395,
          425225.179,
          235197.596,
          325455.075,
          42594.014,
          149262.188,
          432408.154,
          92016.558,
          75856.67,
          174351.3,
          314785.819,
          32150.95,
          32869.33,
          97661.194,
          19154.196,
          267961.684,
          2221081.41,
          9703.492,
          1244.468,
          2005.582,
          17856.801,
          8284.665,
          327588.21,
          31489.205,
          18634.93,
          64816.641,
          9491.992,
          34906.248,
          19775.545,
          4300.368,
          15615.367,
          68665.465,
          2902.649,
          19100.087,
          5883.452,
          1617.345,
          20692.319,
          109364.1,
          30687.81,
          6209.892,
          9478.4,
          41124.859,
          30218.782,
          200889.256,
          46740.949,
          66311.337,
          47179.534,
          37935.759,
          65225.261,
          22385.381,
          18333.39,
          36765.421,
          129381.049,
          13986.809,
          34612.346,
          26849.604,
          12870.384,
          55417.979,
          433328.87,
          168762.997,
          99082.074,
          118675.661,
          301640.169,
          294121.623,
          1298786.012,
          716871.975,
          841656.9,
          62045.909,
          475917.711,
          898263.407,
          152705.937,
          156693.315,
          450013.221,
          597542.103,
          108341.13,
          210573.737,
          283292.048,
          122827.092,
          456711.786,
          2568403.21,
          515647.701,
          199591.17299999998,
          261870.04499999998,
          652992.2899999999,
          701545.036,
          3539872.168,
          1403342.1169999999,
          1738957.025,
          552519.424,
          948939.154,
          1916677.132,
          514345.398,
          366406.232,
          1005282.62,
          1934317.614,
          228177.522,
          533089.7579999999,
          573120.885,
          244759.336,
          1175446.7920000001,
          8557152.32
         ]
        }
       ],
       "layout": {
        "legend": {
         "tracegroupgap": 0
        },
        "margin": {
         "t": 60
        },
        "template": {
         "data": {
          "bar": [
           {
            "error_x": {
             "color": "#2a3f5f"
            },
            "error_y": {
             "color": "#2a3f5f"
            },
            "marker": {
             "line": {
              "color": "#E5ECF6",
              "width": 0.5
             },
             "pattern": {
              "fillmode": "overlay",
              "size": 10,
              "solidity": 0.2
             }
            },
            "type": "bar"
           }
          ],
          "barpolar": [
           {
            "marker": {
             "line": {
              "color": "#E5ECF6",
              "width": 0.5
             },
             "pattern": {
              "fillmode": "overlay",
              "size": 10,
              "solidity": 0.2
             }
            },
            "type": "barpolar"
           }
          ],
          "carpet": [
           {
            "aaxis": {
             "endlinecolor": "#2a3f5f",
             "gridcolor": "white",
             "linecolor": "white",
             "minorgridcolor": "white",
             "startlinecolor": "#2a3f5f"
            },
            "baxis": {
             "endlinecolor": "#2a3f5f",
             "gridcolor": "white",
             "linecolor": "white",
             "minorgridcolor": "white",
             "startlinecolor": "#2a3f5f"
            },
            "type": "carpet"
           }
          ],
          "choropleth": [
           {
            "colorbar": {
             "outlinewidth": 0,
             "ticks": ""
            },
            "type": "choropleth"
           }
          ],
          "contour": [
           {
            "colorbar": {
             "outlinewidth": 0,
             "ticks": ""
            },
            "colorscale": [
             [
              0,
              "#0d0887"
             ],
             [
              0.1111111111111111,
              "#46039f"
             ],
             [
              0.2222222222222222,
              "#7201a8"
             ],
             [
              0.3333333333333333,
              "#9c179e"
             ],
             [
              0.4444444444444444,
              "#bd3786"
             ],
             [
              0.5555555555555556,
              "#d8576b"
             ],
             [
              0.6666666666666666,
              "#ed7953"
             ],
             [
              0.7777777777777778,
              "#fb9f3a"
             ],
             [
              0.8888888888888888,
              "#fdca26"
             ],
             [
              1,
              "#f0f921"
             ]
            ],
            "type": "contour"
           }
          ],
          "contourcarpet": [
           {
            "colorbar": {
             "outlinewidth": 0,
             "ticks": ""
            },
            "type": "contourcarpet"
           }
          ],
          "heatmap": [
           {
            "colorbar": {
             "outlinewidth": 0,
             "ticks": ""
            },
            "colorscale": [
             [
              0,
              "#0d0887"
             ],
             [
              0.1111111111111111,
              "#46039f"
             ],
             [
              0.2222222222222222,
              "#7201a8"
             ],
             [
              0.3333333333333333,
              "#9c179e"
             ],
             [
              0.4444444444444444,
              "#bd3786"
             ],
             [
              0.5555555555555556,
              "#d8576b"
             ],
             [
              0.6666666666666666,
              "#ed7953"
             ],
             [
              0.7777777777777778,
              "#fb9f3a"
             ],
             [
              0.8888888888888888,
              "#fdca26"
             ],
             [
              1,
              "#f0f921"
             ]
            ],
            "type": "heatmap"
           }
          ],
          "heatmapgl": [
           {
            "colorbar": {
             "outlinewidth": 0,
             "ticks": ""
            },
            "colorscale": [
             [
              0,
              "#0d0887"
             ],
             [
              0.1111111111111111,
              "#46039f"
             ],
             [
              0.2222222222222222,
              "#7201a8"
             ],
             [
              0.3333333333333333,
              "#9c179e"
             ],
             [
              0.4444444444444444,
              "#bd3786"
             ],
             [
              0.5555555555555556,
              "#d8576b"
             ],
             [
              0.6666666666666666,
              "#ed7953"
             ],
             [
              0.7777777777777778,
              "#fb9f3a"
             ],
             [
              0.8888888888888888,
              "#fdca26"
             ],
             [
              1,
              "#f0f921"
             ]
            ],
            "type": "heatmapgl"
           }
          ],
          "histogram": [
           {
            "marker": {
             "pattern": {
              "fillmode": "overlay",
              "size": 10,
              "solidity": 0.2
             }
            },
            "type": "histogram"
           }
          ],
          "histogram2d": [
           {
            "colorbar": {
             "outlinewidth": 0,
             "ticks": ""
            },
            "colorscale": [
             [
              0,
              "#0d0887"
             ],
             [
              0.1111111111111111,
              "#46039f"
             ],
             [
              0.2222222222222222,
              "#7201a8"
             ],
             [
              0.3333333333333333,
              "#9c179e"
             ],
             [
              0.4444444444444444,
              "#bd3786"
             ],
             [
              0.5555555555555556,
              "#d8576b"
             ],
             [
              0.6666666666666666,
              "#ed7953"
             ],
             [
              0.7777777777777778,
              "#fb9f3a"
             ],
             [
              0.8888888888888888,
              "#fdca26"
             ],
             [
              1,
              "#f0f921"
             ]
            ],
            "type": "histogram2d"
           }
          ],
          "histogram2dcontour": [
           {
            "colorbar": {
             "outlinewidth": 0,
             "ticks": ""
            },
            "colorscale": [
             [
              0,
              "#0d0887"
             ],
             [
              0.1111111111111111,
              "#46039f"
             ],
             [
              0.2222222222222222,
              "#7201a8"
             ],
             [
              0.3333333333333333,
              "#9c179e"
             ],
             [
              0.4444444444444444,
              "#bd3786"
             ],
             [
              0.5555555555555556,
              "#d8576b"
             ],
             [
              0.6666666666666666,
              "#ed7953"
             ],
             [
              0.7777777777777778,
              "#fb9f3a"
             ],
             [
              0.8888888888888888,
              "#fdca26"
             ],
             [
              1,
              "#f0f921"
             ]
            ],
            "type": "histogram2dcontour"
           }
          ],
          "mesh3d": [
           {
            "colorbar": {
             "outlinewidth": 0,
             "ticks": ""
            },
            "type": "mesh3d"
           }
          ],
          "parcoords": [
           {
            "line": {
             "colorbar": {
              "outlinewidth": 0,
              "ticks": ""
             }
            },
            "type": "parcoords"
           }
          ],
          "pie": [
           {
            "automargin": true,
            "type": "pie"
           }
          ],
          "scatter": [
           {
            "fillpattern": {
             "fillmode": "overlay",
             "size": 10,
             "solidity": 0.2
            },
            "type": "scatter"
           }
          ],
          "scatter3d": [
           {
            "line": {
             "colorbar": {
              "outlinewidth": 0,
              "ticks": ""
             }
            },
            "marker": {
             "colorbar": {
              "outlinewidth": 0,
              "ticks": ""
             }
            },
            "type": "scatter3d"
           }
          ],
          "scattercarpet": [
           {
            "marker": {
             "colorbar": {
              "outlinewidth": 0,
              "ticks": ""
             }
            },
            "type": "scattercarpet"
           }
          ],
          "scattergeo": [
           {
            "marker": {
             "colorbar": {
              "outlinewidth": 0,
              "ticks": ""
             }
            },
            "type": "scattergeo"
           }
          ],
          "scattergl": [
           {
            "marker": {
             "colorbar": {
              "outlinewidth": 0,
              "ticks": ""
             }
            },
            "type": "scattergl"
           }
          ],
          "scattermapbox": [
           {
            "marker": {
             "colorbar": {
              "outlinewidth": 0,
              "ticks": ""
             }
            },
            "type": "scattermapbox"
           }
          ],
          "scatterpolar": [
           {
            "marker": {
             "colorbar": {
              "outlinewidth": 0,
              "ticks": ""
             }
            },
            "type": "scatterpolar"
           }
          ],
          "scatterpolargl": [
           {
            "marker": {
             "colorbar": {
              "outlinewidth": 0,
              "ticks": ""
             }
            },
            "type": "scatterpolargl"
           }
          ],
          "scatterternary": [
           {
            "marker": {
             "colorbar": {
              "outlinewidth": 0,
              "ticks": ""
             }
            },
            "type": "scatterternary"
           }
          ],
          "surface": [
           {
            "colorbar": {
             "outlinewidth": 0,
             "ticks": ""
            },
            "colorscale": [
             [
              0,
              "#0d0887"
             ],
             [
              0.1111111111111111,
              "#46039f"
             ],
             [
              0.2222222222222222,
              "#7201a8"
             ],
             [
              0.3333333333333333,
              "#9c179e"
             ],
             [
              0.4444444444444444,
              "#bd3786"
             ],
             [
              0.5555555555555556,
              "#d8576b"
             ],
             [
              0.6666666666666666,
              "#ed7953"
             ],
             [
              0.7777777777777778,
              "#fb9f3a"
             ],
             [
              0.8888888888888888,
              "#fdca26"
             ],
             [
              1,
              "#f0f921"
             ]
            ],
            "type": "surface"
           }
          ],
          "table": [
           {
            "cells": {
             "fill": {
              "color": "#EBF0F8"
             },
             "line": {
              "color": "white"
             }
            },
            "header": {
             "fill": {
              "color": "#C8D4E3"
             },
             "line": {
              "color": "white"
             }
            },
            "type": "table"
           }
          ]
         },
         "layout": {
          "annotationdefaults": {
           "arrowcolor": "#2a3f5f",
           "arrowhead": 0,
           "arrowwidth": 1
          },
          "autotypenumbers": "strict",
          "coloraxis": {
           "colorbar": {
            "outlinewidth": 0,
            "ticks": ""
           }
          },
          "colorscale": {
           "diverging": [
            [
             0,
             "#8e0152"
            ],
            [
             0.1,
             "#c51b7d"
            ],
            [
             0.2,
             "#de77ae"
            ],
            [
             0.3,
             "#f1b6da"
            ],
            [
             0.4,
             "#fde0ef"
            ],
            [
             0.5,
             "#f7f7f7"
            ],
            [
             0.6,
             "#e6f5d0"
            ],
            [
             0.7,
             "#b8e186"
            ],
            [
             0.8,
             "#7fbc41"
            ],
            [
             0.9,
             "#4d9221"
            ],
            [
             1,
             "#276419"
            ]
           ],
           "sequential": [
            [
             0,
             "#0d0887"
            ],
            [
             0.1111111111111111,
             "#46039f"
            ],
            [
             0.2222222222222222,
             "#7201a8"
            ],
            [
             0.3333333333333333,
             "#9c179e"
            ],
            [
             0.4444444444444444,
             "#bd3786"
            ],
            [
             0.5555555555555556,
             "#d8576b"
            ],
            [
             0.6666666666666666,
             "#ed7953"
            ],
            [
             0.7777777777777778,
             "#fb9f3a"
            ],
            [
             0.8888888888888888,
             "#fdca26"
            ],
            [
             1,
             "#f0f921"
            ]
           ],
           "sequentialminus": [
            [
             0,
             "#0d0887"
            ],
            [
             0.1111111111111111,
             "#46039f"
            ],
            [
             0.2222222222222222,
             "#7201a8"
            ],
            [
             0.3333333333333333,
             "#9c179e"
            ],
            [
             0.4444444444444444,
             "#bd3786"
            ],
            [
             0.5555555555555556,
             "#d8576b"
            ],
            [
             0.6666666666666666,
             "#ed7953"
            ],
            [
             0.7777777777777778,
             "#fb9f3a"
            ],
            [
             0.8888888888888888,
             "#fdca26"
            ],
            [
             1,
             "#f0f921"
            ]
           ]
          },
          "colorway": [
           "#636efa",
           "#EF553B",
           "#00cc96",
           "#ab63fa",
           "#FFA15A",
           "#19d3f3",
           "#FF6692",
           "#B6E880",
           "#FF97FF",
           "#FECB52"
          ],
          "font": {
           "color": "#2a3f5f"
          },
          "geo": {
           "bgcolor": "white",
           "lakecolor": "white",
           "landcolor": "#E5ECF6",
           "showlakes": true,
           "showland": true,
           "subunitcolor": "white"
          },
          "hoverlabel": {
           "align": "left"
          },
          "hovermode": "closest",
          "mapbox": {
           "style": "light"
          },
          "paper_bgcolor": "white",
          "plot_bgcolor": "#E5ECF6",
          "polar": {
           "angularaxis": {
            "gridcolor": "white",
            "linecolor": "white",
            "ticks": ""
           },
           "bgcolor": "#E5ECF6",
           "radialaxis": {
            "gridcolor": "white",
            "linecolor": "white",
            "ticks": ""
           }
          },
          "scene": {
           "xaxis": {
            "backgroundcolor": "#E5ECF6",
            "gridcolor": "white",
            "gridwidth": 2,
            "linecolor": "white",
            "showbackground": true,
            "ticks": "",
            "zerolinecolor": "white"
           },
           "yaxis": {
            "backgroundcolor": "#E5ECF6",
            "gridcolor": "white",
            "gridwidth": 2,
            "linecolor": "white",
            "showbackground": true,
            "ticks": "",
            "zerolinecolor": "white"
           },
           "zaxis": {
            "backgroundcolor": "#E5ECF6",
            "gridcolor": "white",
            "gridwidth": 2,
            "linecolor": "white",
            "showbackground": true,
            "ticks": "",
            "zerolinecolor": "white"
           }
          },
          "shapedefaults": {
           "line": {
            "color": "#2a3f5f"
           }
          },
          "ternary": {
           "aaxis": {
            "gridcolor": "white",
            "linecolor": "white",
            "ticks": ""
           },
           "baxis": {
            "gridcolor": "white",
            "linecolor": "white",
            "ticks": ""
           },
           "bgcolor": "#E5ECF6",
           "caxis": {
            "gridcolor": "white",
            "linecolor": "white",
            "ticks": ""
           }
          },
          "title": {
           "x": 0.05
          },
          "xaxis": {
           "automargin": true,
           "gridcolor": "white",
           "linecolor": "white",
           "ticks": "",
           "title": {
            "standoff": 15
           },
           "zerolinecolor": "white",
           "zerolinewidth": 2
          },
          "yaxis": {
           "automargin": true,
           "gridcolor": "white",
           "linecolor": "white",
           "ticks": "",
           "title": {
            "standoff": 15
           },
           "zerolinecolor": "white",
           "zerolinewidth": 2
          }
         }
        }
       }
      }
     },
     "metadata": {},
     "output_type": "display_data"
    }
   ],
   "source": [
    "fig = px.treemap(current_world_df, path=['Country', 'Sector'], values='Expenditure(million USD)')\n",
    "fig.show()"
   ]
  },
  {
   "cell_type": "markdown",
   "metadata": {},
   "source": [
    "# 2020 Treemap (Of Different Industries & Spending)"
   ]
  },
  {
   "cell_type": "code",
   "execution_count": 424,
   "metadata": {},
   "outputs": [
    {
     "data": {
      "text/html": [
       "<div>\n",
       "<style scoped>\n",
       "    .dataframe tbody tr th:only-of-type {\n",
       "        vertical-align: middle;\n",
       "    }\n",
       "\n",
       "    .dataframe tbody tr th {\n",
       "        vertical-align: top;\n",
       "    }\n",
       "\n",
       "    .dataframe thead th {\n",
       "        text-align: right;\n",
       "    }\n",
       "</style>\n",
       "<table border=\"1\" class=\"dataframe\">\n",
       "  <thead>\n",
       "    <tr style=\"text-align: right;\">\n",
       "      <th></th>\n",
       "      <th>Year</th>\n",
       "      <th>Country</th>\n",
       "      <th>Sector</th>\n",
       "      <th>Expenditure(million USD)</th>\n",
       "      <th>GDP(%)</th>\n",
       "    </tr>\n",
       "  </thead>\n",
       "  <tbody>\n",
       "    <tr>\n",
       "      <th>6001</th>\n",
       "      <td>2020</td>\n",
       "      <td>Australia</td>\n",
       "      <td>Agriculture, forestry, fishing and hunting</td>\n",
       "      <td>3896.537</td>\n",
       "      <td>0.27216</td>\n",
       "    </tr>\n",
       "  </tbody>\n",
       "</table>\n",
       "</div>"
      ],
      "text/plain": [
       "      Year    Country                                      Sector  \\\n",
       "6001  2020  Australia  Agriculture, forestry, fishing and hunting   \n",
       "\n",
       "      Expenditure(million USD)   GDP(%)  \n",
       "6001                  3896.537  0.27216  "
      ]
     },
     "execution_count": 424,
     "metadata": {},
     "output_type": "execute_result"
    }
   ],
   "source": [
    "current_world_df = world_df[world_df['Year'] == 2020]\n",
    "current_world_df = current_world_df[current_world_df['Sector'] != \"Total function\"]\n",
    "current_world_df.head(1)\n"
   ]
  },
  {
   "cell_type": "code",
   "execution_count": 425,
   "metadata": {},
   "outputs": [
    {
     "data": {
      "text/html": [
       "<div>\n",
       "<style scoped>\n",
       "    .dataframe tbody tr th:only-of-type {\n",
       "        vertical-align: middle;\n",
       "    }\n",
       "\n",
       "    .dataframe tbody tr th {\n",
       "        vertical-align: top;\n",
       "    }\n",
       "\n",
       "    .dataframe thead th {\n",
       "        text-align: right;\n",
       "    }\n",
       "</style>\n",
       "<table border=\"1\" class=\"dataframe\">\n",
       "  <thead>\n",
       "    <tr style=\"text-align: right;\">\n",
       "      <th></th>\n",
       "      <th>Year</th>\n",
       "      <th>Country</th>\n",
       "      <th>Sector</th>\n",
       "      <th>Expenditure(million USD)</th>\n",
       "      <th>GDP(%)</th>\n",
       "    </tr>\n",
       "  </thead>\n",
       "  <tbody>\n",
       "    <tr>\n",
       "      <th>6318</th>\n",
       "      <td>2020</td>\n",
       "      <td>United States of America</td>\n",
       "      <td>Environment protection</td>\n",
       "      <td>0.00</td>\n",
       "      <td>0.00000</td>\n",
       "    </tr>\n",
       "    <tr>\n",
       "      <th>6319</th>\n",
       "      <td>2020</td>\n",
       "      <td>United States of America</td>\n",
       "      <td>Housing and community amenities</td>\n",
       "      <td>109364.10</td>\n",
       "      <td>0.51676</td>\n",
       "    </tr>\n",
       "    <tr>\n",
       "      <th>6320</th>\n",
       "      <td>2020</td>\n",
       "      <td>United States of America</td>\n",
       "      <td>Health</td>\n",
       "      <td>2221081.41</td>\n",
       "      <td>10.49487</td>\n",
       "    </tr>\n",
       "    <tr>\n",
       "      <th>6321</th>\n",
       "      <td>2020</td>\n",
       "      <td>United States of America</td>\n",
       "      <td>Education</td>\n",
       "      <td>1263778.50</td>\n",
       "      <td>5.97150</td>\n",
       "    </tr>\n",
       "    <tr>\n",
       "      <th>6322</th>\n",
       "      <td>2020</td>\n",
       "      <td>United States of America</td>\n",
       "      <td>Social protection</td>\n",
       "      <td>2568403.21</td>\n",
       "      <td>12.13601</td>\n",
       "    </tr>\n",
       "    <tr>\n",
       "      <th>6323</th>\n",
       "      <td>2020</td>\n",
       "      <td>United States of America</td>\n",
       "      <td>General public services</td>\n",
       "      <td>1216071.99</td>\n",
       "      <td>5.74608</td>\n",
       "    </tr>\n",
       "    <tr>\n",
       "      <th>6324</th>\n",
       "      <td>2020</td>\n",
       "      <td>United States of America</td>\n",
       "      <td>Defence</td>\n",
       "      <td>745124.24</td>\n",
       "      <td>3.52080</td>\n",
       "    </tr>\n",
       "    <tr>\n",
       "      <th>6325</th>\n",
       "      <td>2020</td>\n",
       "      <td>United States of America</td>\n",
       "      <td>Public order and safety</td>\n",
       "      <td>433328.87</td>\n",
       "      <td>2.04753</td>\n",
       "    </tr>\n",
       "    <tr>\n",
       "      <th>6326</th>\n",
       "      <td>2020</td>\n",
       "      <td>United States of America</td>\n",
       "      <td>Recreation, culture and religion</td>\n",
       "      <td>59250.07</td>\n",
       "      <td>0.27996</td>\n",
       "    </tr>\n",
       "  </tbody>\n",
       "</table>\n",
       "</div>"
      ],
      "text/plain": [
       "      Year                   Country                            Sector  \\\n",
       "6318  2020  United States of America            Environment protection   \n",
       "6319  2020  United States of America   Housing and community amenities   \n",
       "6320  2020  United States of America                            Health   \n",
       "6321  2020  United States of America                         Education   \n",
       "6322  2020  United States of America                 Social protection   \n",
       "6323  2020  United States of America           General public services   \n",
       "6324  2020  United States of America                           Defence   \n",
       "6325  2020  United States of America           Public order and safety   \n",
       "6326  2020  United States of America  Recreation, culture and religion   \n",
       "\n",
       "      Expenditure(million USD)    GDP(%)  \n",
       "6318                      0.00   0.00000  \n",
       "6319                 109364.10   0.51676  \n",
       "6320                2221081.41  10.49487  \n",
       "6321                1263778.50   5.97150  \n",
       "6322                2568403.21  12.13601  \n",
       "6323                1216071.99   5.74608  \n",
       "6324                 745124.24   3.52080  \n",
       "6325                 433328.87   2.04753  \n",
       "6326                  59250.07   0.27996  "
      ]
     },
     "execution_count": 425,
     "metadata": {},
     "output_type": "execute_result"
    }
   ],
   "source": [
    "current_world_df[current_world_df['Country'] == 'United States of America']"
   ]
  },
  {
   "cell_type": "code",
   "execution_count": 426,
   "metadata": {},
   "outputs": [
    {
     "data": {
      "text/html": [
       "<div>\n",
       "<style scoped>\n",
       "    .dataframe tbody tr th:only-of-type {\n",
       "        vertical-align: middle;\n",
       "    }\n",
       "\n",
       "    .dataframe tbody tr th {\n",
       "        vertical-align: top;\n",
       "    }\n",
       "\n",
       "    .dataframe thead th {\n",
       "        text-align: right;\n",
       "    }\n",
       "</style>\n",
       "<table border=\"1\" class=\"dataframe\">\n",
       "  <thead>\n",
       "    <tr style=\"text-align: right;\">\n",
       "      <th>Country</th>\n",
       "      <th>Australia</th>\n",
       "      <th>Austria</th>\n",
       "      <th>Belgium</th>\n",
       "      <th>Brazil</th>\n",
       "      <th>Canada</th>\n",
       "      <th>China</th>\n",
       "      <th>France</th>\n",
       "      <th>Germany</th>\n",
       "      <th>India</th>\n",
       "      <th>Italy</th>\n",
       "      <th>...</th>\n",
       "      <th>Korea</th>\n",
       "      <th>Netherlands</th>\n",
       "      <th>Non-Major European</th>\n",
       "      <th>Other</th>\n",
       "      <th>Poland</th>\n",
       "      <th>Russian Federation</th>\n",
       "      <th>Spain</th>\n",
       "      <th>Switzerland</th>\n",
       "      <th>United Kingdom</th>\n",
       "      <th>United States of America</th>\n",
       "    </tr>\n",
       "    <tr>\n",
       "      <th>Sector</th>\n",
       "      <th></th>\n",
       "      <th></th>\n",
       "      <th></th>\n",
       "      <th></th>\n",
       "      <th></th>\n",
       "      <th></th>\n",
       "      <th></th>\n",
       "      <th></th>\n",
       "      <th></th>\n",
       "      <th></th>\n",
       "      <th></th>\n",
       "      <th></th>\n",
       "      <th></th>\n",
       "      <th></th>\n",
       "      <th></th>\n",
       "      <th></th>\n",
       "      <th></th>\n",
       "      <th></th>\n",
       "      <th></th>\n",
       "      <th></th>\n",
       "      <th></th>\n",
       "    </tr>\n",
       "  </thead>\n",
       "  <tbody>\n",
       "    <tr>\n",
       "      <th>Environment protection</th>\n",
       "      <td>0.033726</td>\n",
       "      <td>0.004376</td>\n",
       "      <td>0.018443</td>\n",
       "      <td>0.016594</td>\n",
       "      <td>0.030105</td>\n",
       "      <td>0.264407</td>\n",
       "      <td>0.066499</td>\n",
       "      <td>0.064097</td>\n",
       "      <td>0.001366</td>\n",
       "      <td>0.045129</td>\n",
       "      <td>...</td>\n",
       "      <td>0.044432</td>\n",
       "      <td>0.032838</td>\n",
       "      <td>0.035036</td>\n",
       "      <td>0.081783</td>\n",
       "      <td>0.00817</td>\n",
       "      <td>0.009063</td>\n",
       "      <td>0.030574</td>\n",
       "      <td>0.010883</td>\n",
       "      <td>0.047404</td>\n",
       "      <td>0.0</td>\n",
       "    </tr>\n",
       "  </tbody>\n",
       "</table>\n",
       "<p>1 rows × 21 columns</p>\n",
       "</div>"
      ],
      "text/plain": [
       "Country                 Australia   Austria   Belgium    Brazil    Canada  \\\n",
       "Sector                                                                      \n",
       "Environment protection   0.033726  0.004376  0.018443  0.016594  0.030105   \n",
       "\n",
       "Country                    China    France   Germany     India     Italy  ...  \\\n",
       "Sector                                                                    ...   \n",
       "Environment protection  0.264407  0.066499  0.064097  0.001366  0.045129  ...   \n",
       "\n",
       "Country                    Korea  Netherlands  Non-Major European     Other  \\\n",
       "Sector                                                                        \n",
       "Environment protection  0.044432     0.032838            0.035036  0.081783   \n",
       "\n",
       "Country                  Poland  Russian Federation     Spain  Switzerland  \\\n",
       "Sector                                                                       \n",
       "Environment protection  0.00817            0.009063  0.030574     0.010883   \n",
       "\n",
       "Country                 United Kingdom  United States of America  \n",
       "Sector                                                            \n",
       "Environment protection        0.047404                       0.0  \n",
       "\n",
       "[1 rows x 21 columns]"
      ]
     },
     "execution_count": 426,
     "metadata": {},
     "output_type": "execute_result"
    }
   ],
   "source": [
    "sector_pivot_df = pd.pivot_table(current_world_df, index='Sector', columns='Country',values='Expenditure(million USD)')\n",
    "sector_pivot_df[\"Sector Sum\"] = sector_pivot_df.sum(axis=1)\n",
    "for country in sector_pivot_df.columns:\n",
    "    sector_pivot_df[country] = sector_pivot_df[country] / sector_pivot_df[\"Sector Sum\"]\n",
    "sector_pivot_df = sector_pivot_df.drop(columns=['Sector Sum'])\n",
    "sector_pivot_df = sector_pivot_df.loc[sectors]\n",
    "sector_pivot_df.head(1)"
   ]
  },
  {
   "cell_type": "code",
   "execution_count": 427,
   "metadata": {},
   "outputs": [
    {
     "data": {
      "text/html": [
       "<div>\n",
       "<style scoped>\n",
       "    .dataframe tbody tr th:only-of-type {\n",
       "        vertical-align: middle;\n",
       "    }\n",
       "\n",
       "    .dataframe tbody tr th {\n",
       "        vertical-align: top;\n",
       "    }\n",
       "\n",
       "    .dataframe thead th {\n",
       "        text-align: right;\n",
       "    }\n",
       "</style>\n",
       "<table border=\"1\" class=\"dataframe\">\n",
       "  <thead>\n",
       "    <tr style=\"text-align: right;\">\n",
       "      <th></th>\n",
       "      <th>Country</th>\n",
       "      <th>Sector</th>\n",
       "      <th>0</th>\n",
       "    </tr>\n",
       "  </thead>\n",
       "  <tbody>\n",
       "    <tr>\n",
       "      <th>0</th>\n",
       "      <td>Australia</td>\n",
       "      <td>Environment protection</td>\n",
       "      <td>0.033726</td>\n",
       "    </tr>\n",
       "    <tr>\n",
       "      <th>1</th>\n",
       "      <td>Australia</td>\n",
       "      <td>Housing and community amenities</td>\n",
       "      <td>0.012222</td>\n",
       "    </tr>\n",
       "    <tr>\n",
       "      <th>2</th>\n",
       "      <td>Australia</td>\n",
       "      <td>Health</td>\n",
       "      <td>0.021802</td>\n",
       "    </tr>\n",
       "    <tr>\n",
       "      <th>3</th>\n",
       "      <td>Australia</td>\n",
       "      <td>Education</td>\n",
       "      <td>0.023347</td>\n",
       "    </tr>\n",
       "    <tr>\n",
       "      <th>4</th>\n",
       "      <td>Australia</td>\n",
       "      <td>Social protection</td>\n",
       "      <td>0.016254</td>\n",
       "    </tr>\n",
       "    <tr>\n",
       "      <th>...</th>\n",
       "      <td>...</td>\n",
       "      <td>...</td>\n",
       "      <td>...</td>\n",
       "    </tr>\n",
       "    <tr>\n",
       "      <th>163</th>\n",
       "      <td>United States of America</td>\n",
       "      <td>Education</td>\n",
       "      <td>0.338585</td>\n",
       "    </tr>\n",
       "    <tr>\n",
       "      <th>164</th>\n",
       "      <td>United States of America</td>\n",
       "      <td>Social protection</td>\n",
       "      <td>0.247368</td>\n",
       "    </tr>\n",
       "    <tr>\n",
       "      <th>165</th>\n",
       "      <td>United States of America</td>\n",
       "      <td>General public services</td>\n",
       "      <td>0.309999</td>\n",
       "    </tr>\n",
       "    <tr>\n",
       "      <th>166</th>\n",
       "      <td>United States of America</td>\n",
       "      <td>Defence</td>\n",
       "      <td>0.477216</td>\n",
       "    </tr>\n",
       "    <tr>\n",
       "      <th>167</th>\n",
       "      <td>United States of America</td>\n",
       "      <td>Public order and safety</td>\n",
       "      <td>0.317240</td>\n",
       "    </tr>\n",
       "  </tbody>\n",
       "</table>\n",
       "<p>168 rows × 3 columns</p>\n",
       "</div>"
      ],
      "text/plain": [
       "                      Country                           Sector         0\n",
       "0                   Australia           Environment protection  0.033726\n",
       "1                   Australia  Housing and community amenities  0.012222\n",
       "2                   Australia                           Health  0.021802\n",
       "3                   Australia                        Education  0.023347\n",
       "4                   Australia                Social protection  0.016254\n",
       "..                        ...                              ...       ...\n",
       "163  United States of America                        Education  0.338585\n",
       "164  United States of America                Social protection  0.247368\n",
       "165  United States of America          General public services  0.309999\n",
       "166  United States of America                          Defence  0.477216\n",
       "167  United States of America          Public order and safety  0.317240\n",
       "\n",
       "[168 rows x 3 columns]"
      ]
     },
     "execution_count": 427,
     "metadata": {},
     "output_type": "execute_result"
    }
   ],
   "source": [
    "sector_rows_df = sector_pivot_df.unstack().reset_index()\n",
    "sector_rows_df"
   ]
  },
  {
   "cell_type": "code",
   "execution_count": 428,
   "metadata": {},
   "outputs": [
    {
     "data": {
      "application/vnd.plotly.v1+json": {
       "config": {
        "plotlyServerURL": "https://plot.ly"
       },
       "data": [
        {
         "branchvalues": "total",
         "domain": {
          "x": [
           0,
           1
          ],
          "y": [
           0,
           1
          ]
         },
         "hovertemplate": "labels=%{label}<br>0=%{value}<br>parent=%{parent}<br>id=%{id}<extra></extra>",
         "ids": [
          "Defence/Australia",
          "Education/Australia",
          "Environment protection/Australia",
          "General public services/Australia",
          "Health/Australia",
          "Housing and community amenities/Australia",
          "Public order and safety/Australia",
          "Social protection/Australia",
          "Defence/Austria",
          "Education/Austria",
          "Environment protection/Austria",
          "General public services/Austria",
          "Health/Austria",
          "Housing and community amenities/Austria",
          "Public order and safety/Austria",
          "Social protection/Austria",
          "Defence/Belgium",
          "Education/Belgium",
          "Environment protection/Belgium",
          "General public services/Belgium",
          "Health/Belgium",
          "Housing and community amenities/Belgium",
          "Public order and safety/Belgium",
          "Social protection/Belgium",
          "Defence/Brazil",
          "Education/Brazil",
          "Environment protection/Brazil",
          "General public services/Brazil",
          "Health/Brazil",
          "Housing and community amenities/Brazil",
          "Public order and safety/Brazil",
          "Social protection/Brazil",
          "Defence/Canada",
          "Education/Canada",
          "Environment protection/Canada",
          "General public services/Canada",
          "Health/Canada",
          "Housing and community amenities/Canada",
          "Public order and safety/Canada",
          "Social protection/Canada",
          "Defence/China",
          "Education/China",
          "Environment protection/China",
          "General public services/China",
          "Health/China",
          "Housing and community amenities/China",
          "Public order and safety/China",
          "Social protection/China",
          "Defence/France",
          "Education/France",
          "Environment protection/France",
          "General public services/France",
          "Health/France",
          "Housing and community amenities/France",
          "Public order and safety/France",
          "Social protection/France",
          "Defence/Germany",
          "Education/Germany",
          "Environment protection/Germany",
          "General public services/Germany",
          "Health/Germany",
          "Housing and community amenities/Germany",
          "Public order and safety/Germany",
          "Social protection/Germany",
          "Defence/India",
          "Education/India",
          "Environment protection/India",
          "General public services/India",
          "Health/India",
          "Housing and community amenities/India",
          "Public order and safety/India",
          "Social protection/India",
          "Defence/Italy",
          "Education/Italy",
          "Environment protection/Italy",
          "General public services/Italy",
          "Health/Italy",
          "Housing and community amenities/Italy",
          "Public order and safety/Italy",
          "Social protection/Italy",
          "Defence/Japan",
          "Education/Japan",
          "Environment protection/Japan",
          "General public services/Japan",
          "Health/Japan",
          "Housing and community amenities/Japan",
          "Public order and safety/Japan",
          "Social protection/Japan",
          "Defence/Korea",
          "Education/Korea",
          "Environment protection/Korea",
          "General public services/Korea",
          "Health/Korea",
          "Housing and community amenities/Korea",
          "Public order and safety/Korea",
          "Social protection/Korea",
          "Defence/Netherlands",
          "Education/Netherlands",
          "Environment protection/Netherlands",
          "General public services/Netherlands",
          "Health/Netherlands",
          "Housing and community amenities/Netherlands",
          "Public order and safety/Netherlands",
          "Social protection/Netherlands",
          "Defence/Non-Major European",
          "Education/Non-Major European",
          "Environment protection/Non-Major European",
          "General public services/Non-Major European",
          "Health/Non-Major European",
          "Housing and community amenities/Non-Major European",
          "Public order and safety/Non-Major European",
          "Social protection/Non-Major European",
          "Defence/Other",
          "Education/Other",
          "Environment protection/Other",
          "General public services/Other",
          "Health/Other",
          "Housing and community amenities/Other",
          "Public order and safety/Other",
          "Social protection/Other",
          "Defence/Poland",
          "Education/Poland",
          "Environment protection/Poland",
          "General public services/Poland",
          "Health/Poland",
          "Housing and community amenities/Poland",
          "Public order and safety/Poland",
          "Social protection/Poland",
          "Defence/Russian Federation",
          "Education/Russian Federation",
          "Environment protection/Russian Federation",
          "General public services/Russian Federation",
          "Health/Russian Federation",
          "Housing and community amenities/Russian Federation",
          "Public order and safety/Russian Federation",
          "Social protection/Russian Federation",
          "Defence/Spain",
          "Education/Spain",
          "Environment protection/Spain",
          "General public services/Spain",
          "Health/Spain",
          "Housing and community amenities/Spain",
          "Public order and safety/Spain",
          "Social protection/Spain",
          "Defence/Switzerland",
          "Education/Switzerland",
          "Environment protection/Switzerland",
          "General public services/Switzerland",
          "Health/Switzerland",
          "Housing and community amenities/Switzerland",
          "Public order and safety/Switzerland",
          "Social protection/Switzerland",
          "Defence/United Kingdom",
          "Education/United Kingdom",
          "Environment protection/United Kingdom",
          "General public services/United Kingdom",
          "Health/United Kingdom",
          "Housing and community amenities/United Kingdom",
          "Public order and safety/United Kingdom",
          "Social protection/United Kingdom",
          "Defence/United States of America",
          "Education/United States of America",
          "Environment protection/United States of America",
          "General public services/United States of America",
          "Health/United States of America",
          "Housing and community amenities/United States of America",
          "Public order and safety/United States of America",
          "Social protection/United States of America",
          "Defence",
          "Education",
          "Environment protection",
          "General public services",
          "Health",
          "Housing and community amenities",
          "Public order and safety",
          "Social protection"
         ],
         "labels": [
          "Australia",
          "Australia",
          "Australia",
          "Australia",
          "Australia",
          "Australia",
          "Australia",
          "Australia",
          "Austria",
          "Austria",
          "Austria",
          "Austria",
          "Austria",
          "Austria",
          "Austria",
          "Austria",
          "Belgium",
          "Belgium",
          "Belgium",
          "Belgium",
          "Belgium",
          "Belgium",
          "Belgium",
          "Belgium",
          "Brazil",
          "Brazil",
          "Brazil",
          "Brazil",
          "Brazil",
          "Brazil",
          "Brazil",
          "Brazil",
          "Canada",
          "Canada",
          "Canada",
          "Canada",
          "Canada",
          "Canada",
          "Canada",
          "Canada",
          "China",
          "China",
          "China",
          "China",
          "China",
          "China",
          "China",
          "China",
          "France",
          "France",
          "France",
          "France",
          "France",
          "France",
          "France",
          "France",
          "Germany",
          "Germany",
          "Germany",
          "Germany",
          "Germany",
          "Germany",
          "Germany",
          "Germany",
          "India",
          "India",
          "India",
          "India",
          "India",
          "India",
          "India",
          "India",
          "Italy",
          "Italy",
          "Italy",
          "Italy",
          "Italy",
          "Italy",
          "Italy",
          "Italy",
          "Japan",
          "Japan",
          "Japan",
          "Japan",
          "Japan",
          "Japan",
          "Japan",
          "Japan",
          "Korea",
          "Korea",
          "Korea",
          "Korea",
          "Korea",
          "Korea",
          "Korea",
          "Korea",
          "Netherlands",
          "Netherlands",
          "Netherlands",
          "Netherlands",
          "Netherlands",
          "Netherlands",
          "Netherlands",
          "Netherlands",
          "Non-Major European",
          "Non-Major European",
          "Non-Major European",
          "Non-Major European",
          "Non-Major European",
          "Non-Major European",
          "Non-Major European",
          "Non-Major European",
          "Other",
          "Other",
          "Other",
          "Other",
          "Other",
          "Other",
          "Other",
          "Other",
          "Poland",
          "Poland",
          "Poland",
          "Poland",
          "Poland",
          "Poland",
          "Poland",
          "Poland",
          "Russian Federation",
          "Russian Federation",
          "Russian Federation",
          "Russian Federation",
          "Russian Federation",
          "Russian Federation",
          "Russian Federation",
          "Russian Federation",
          "Spain",
          "Spain",
          "Spain",
          "Spain",
          "Spain",
          "Spain",
          "Spain",
          "Spain",
          "Switzerland",
          "Switzerland",
          "Switzerland",
          "Switzerland",
          "Switzerland",
          "Switzerland",
          "Switzerland",
          "Switzerland",
          "United Kingdom",
          "United Kingdom",
          "United Kingdom",
          "United Kingdom",
          "United Kingdom",
          "United Kingdom",
          "United Kingdom",
          "United Kingdom",
          "United States of America",
          "United States of America",
          "United States of America",
          "United States of America",
          "United States of America",
          "United States of America",
          "United States of America",
          "United States of America",
          "Defence",
          "Education",
          "Environment protection",
          "General public services",
          "Health",
          "Housing and community amenities",
          "Public order and safety",
          "Social protection"
         ],
         "name": "",
         "parents": [
          "Defence",
          "Education",
          "Environment protection",
          "General public services",
          "Health",
          "Housing and community amenities",
          "Public order and safety",
          "Social protection",
          "Defence",
          "Education",
          "Environment protection",
          "General public services",
          "Health",
          "Housing and community amenities",
          "Public order and safety",
          "Social protection",
          "Defence",
          "Education",
          "Environment protection",
          "General public services",
          "Health",
          "Housing and community amenities",
          "Public order and safety",
          "Social protection",
          "Defence",
          "Education",
          "Environment protection",
          "General public services",
          "Health",
          "Housing and community amenities",
          "Public order and safety",
          "Social protection",
          "Defence",
          "Education",
          "Environment protection",
          "General public services",
          "Health",
          "Housing and community amenities",
          "Public order and safety",
          "Social protection",
          "Defence",
          "Education",
          "Environment protection",
          "General public services",
          "Health",
          "Housing and community amenities",
          "Public order and safety",
          "Social protection",
          "Defence",
          "Education",
          "Environment protection",
          "General public services",
          "Health",
          "Housing and community amenities",
          "Public order and safety",
          "Social protection",
          "Defence",
          "Education",
          "Environment protection",
          "General public services",
          "Health",
          "Housing and community amenities",
          "Public order and safety",
          "Social protection",
          "Defence",
          "Education",
          "Environment protection",
          "General public services",
          "Health",
          "Housing and community amenities",
          "Public order and safety",
          "Social protection",
          "Defence",
          "Education",
          "Environment protection",
          "General public services",
          "Health",
          "Housing and community amenities",
          "Public order and safety",
          "Social protection",
          "Defence",
          "Education",
          "Environment protection",
          "General public services",
          "Health",
          "Housing and community amenities",
          "Public order and safety",
          "Social protection",
          "Defence",
          "Education",
          "Environment protection",
          "General public services",
          "Health",
          "Housing and community amenities",
          "Public order and safety",
          "Social protection",
          "Defence",
          "Education",
          "Environment protection",
          "General public services",
          "Health",
          "Housing and community amenities",
          "Public order and safety",
          "Social protection",
          "Defence",
          "Education",
          "Environment protection",
          "General public services",
          "Health",
          "Housing and community amenities",
          "Public order and safety",
          "Social protection",
          "Defence",
          "Education",
          "Environment protection",
          "General public services",
          "Health",
          "Housing and community amenities",
          "Public order and safety",
          "Social protection",
          "Defence",
          "Education",
          "Environment protection",
          "General public services",
          "Health",
          "Housing and community amenities",
          "Public order and safety",
          "Social protection",
          "Defence",
          "Education",
          "Environment protection",
          "General public services",
          "Health",
          "Housing and community amenities",
          "Public order and safety",
          "Social protection",
          "Defence",
          "Education",
          "Environment protection",
          "General public services",
          "Health",
          "Housing and community amenities",
          "Public order and safety",
          "Social protection",
          "Defence",
          "Education",
          "Environment protection",
          "General public services",
          "Health",
          "Housing and community amenities",
          "Public order and safety",
          "Social protection",
          "Defence",
          "Education",
          "Environment protection",
          "General public services",
          "Health",
          "Housing and community amenities",
          "Public order and safety",
          "Social protection",
          "Defence",
          "Education",
          "Environment protection",
          "General public services",
          "Health",
          "Housing and community amenities",
          "Public order and safety",
          "Social protection",
          "",
          "",
          "",
          "",
          "",
          "",
          "",
          ""
         ],
         "type": "treemap",
         "values": [
          0.022732266224459098,
          0.02334669474017373,
          0.033725829769985886,
          0.013356564258854658,
          0.021802389437406217,
          0.012221962699042905,
          0.02246655464243712,
          0.016253892613305593,
          0.0017182624094864614,
          0.00592878814700934,
          0.004375671656688808,
          0.0068189414749116346,
          0.007360125092392904,
          0.0015674606086296076,
          0.004546263742562051,
          0.009542787336844924,
          0.003026960671975735,
          0.009242188369059687,
          0.018442718203271456,
          0.009833087568346378,
          0.008589310100265236,
          0.002526116205781575,
          0.006939139401699762,
          0.01142988382522656,
          0.010181394526286193,
          0.019177785719998335,
          0.016594391853346244,
          0.027304317033299233,
          0.016865025576038504,
          0.022491403687067712,
          0.03010752125635625,
          0.0290515515956697,
          0.01030526934302993,
          0.02215570467759987,
          0.030104919908772475,
          0.024869882257121844,
          0.029702215637723982,
          0.010434889481443,
          0.022123179106977503,
          0.028327425801126016,
          0.12052603696021995,
          0.14227149651453394,
          0.2644066483113898,
          0.11708141980553712,
          0.07885138107426991,
          0.4126113447886837,
          0.14707108285024376,
          0.12508860794117937,
          0.032391019796550014,
          0.03835945326016385,
          0.06649930530207156,
          0.03872404474123879,
          0.04361372793953995,
          0.03966199888993729,
          0.03421906238170357,
          0.06904333477283703,
          0.028056757686451494,
          0.04827514211674106,
          0.06409708576586894,
          0.0602907833021706,
          0.06035057049474508,
          0.023471490403586214,
          0.04854654913868283,
          0.08106161370106318,
          0.047078772752212276,
          0.03512405460957686,
          0.001365522825459483,
          0.03332061351748486,
          0.007898395944697309,
          0.08163932825206174,
          0.03454015058799308,
          0.005975762222218245,
          0.016518476058160408,
          0.02163562141760748,
          0.045128986013026465,
          0.03854410359277255,
          0.027678346079236565,
          0.011955569413940225,
          0.027772780217155468,
          0.04583656076790463,
          0.029641721678218262,
          0.048679545849759635,
          0.15507549147965924,
          0.049464302067356865,
          0.08018335182046119,
          0.04396591052164942,
          0.047751432582635346,
          0.08651349653289231,
          0.029437467016395873,
          0.022895011514537152,
          0.044431730780206125,
          0.019819104094853775,
          0.017063036335392218,
          0.02490814372220273,
          0.016388343952477343,
          0.014707405921525613,
          0.007840442416508228,
          0.012760983468369028,
          0.03283772628683046,
          0.00964315947545007,
          0.014066437004651452,
          0.005416497204115564,
          0.013421880160757977,
          0.015091438055184966,
          0.023324663857402447,
          0.03574678627975713,
          0.03503646405190186,
          0.03677599814664213,
          0.03233073081284858,
          0.019668221811886433,
          0.02691597542635676,
          0.043341648932092365,
          0.06531394403543696,
          0.0845811510882252,
          0.08178318187437054,
          0.09497893777076141,
          0.05837212328093382,
          0.08648708649859618,
          0.09471990367036079,
          0.05755044261326308,
          0.006667783063010639,
          0.008216877734799946,
          0.008170004641033879,
          0.006717384214824375,
          0.005961892511425806,
          0.003656010414231721,
          0.010239746944204597,
          0.010434545036102796,
          0.018605665977297015,
          0.014769693724670123,
          0.00906324216166778,
          0.03773386355846614,
          0.006095104884383933,
          0.02405737551620327,
          0.02533970859152021,
          0.020280766336357812,
          0.007716084059004886,
          0.015911983273564027,
          0.03057420347739967,
          0.019222262250355934,
          0.018109746093521433,
          0.007410459130136798,
          0.019656602911507802,
          0.027284408361125594,
          0.004289785326533463,
          0.011599005383313515,
          0.010882658586264821,
          0.008620730330065772,
          0.003551847074340949,
          0.00203711511912243,
          0.009422411876414395,
          0.011829716222523629,
          0.03741141023324636,
          0.04073683864337858,
          0.04740421705078447,
          0.03688117983881727,
          0.04968931733552658,
          0.026062859739019395,
          0.040571518572909984,
          0.043986800761040085,
          0.47721581590811424,
          0.3385851934671617,
          0,
          0.3099993207006685,
          0.41186492547019826,
          0.13774875589266197,
          0.3172401919850433,
          0.24736791065051644,
          1,
          1.0000000000000002,
          1,
          0.9999999999999999,
          0.9999999999999999,
          0.9999999999999999,
          0.9999999999999999,
          1
         ]
        }
       ],
       "layout": {
        "legend": {
         "tracegroupgap": 0
        },
        "margin": {
         "b": 75,
         "l": 50,
         "r": 50,
         "t": 75
        },
        "template": {
         "data": {
          "bar": [
           {
            "error_x": {
             "color": "#2a3f5f"
            },
            "error_y": {
             "color": "#2a3f5f"
            },
            "marker": {
             "line": {
              "color": "#E5ECF6",
              "width": 0.5
             },
             "pattern": {
              "fillmode": "overlay",
              "size": 10,
              "solidity": 0.2
             }
            },
            "type": "bar"
           }
          ],
          "barpolar": [
           {
            "marker": {
             "line": {
              "color": "#E5ECF6",
              "width": 0.5
             },
             "pattern": {
              "fillmode": "overlay",
              "size": 10,
              "solidity": 0.2
             }
            },
            "type": "barpolar"
           }
          ],
          "carpet": [
           {
            "aaxis": {
             "endlinecolor": "#2a3f5f",
             "gridcolor": "white",
             "linecolor": "white",
             "minorgridcolor": "white",
             "startlinecolor": "#2a3f5f"
            },
            "baxis": {
             "endlinecolor": "#2a3f5f",
             "gridcolor": "white",
             "linecolor": "white",
             "minorgridcolor": "white",
             "startlinecolor": "#2a3f5f"
            },
            "type": "carpet"
           }
          ],
          "choropleth": [
           {
            "colorbar": {
             "outlinewidth": 0,
             "ticks": ""
            },
            "type": "choropleth"
           }
          ],
          "contour": [
           {
            "colorbar": {
             "outlinewidth": 0,
             "ticks": ""
            },
            "colorscale": [
             [
              0,
              "#0d0887"
             ],
             [
              0.1111111111111111,
              "#46039f"
             ],
             [
              0.2222222222222222,
              "#7201a8"
             ],
             [
              0.3333333333333333,
              "#9c179e"
             ],
             [
              0.4444444444444444,
              "#bd3786"
             ],
             [
              0.5555555555555556,
              "#d8576b"
             ],
             [
              0.6666666666666666,
              "#ed7953"
             ],
             [
              0.7777777777777778,
              "#fb9f3a"
             ],
             [
              0.8888888888888888,
              "#fdca26"
             ],
             [
              1,
              "#f0f921"
             ]
            ],
            "type": "contour"
           }
          ],
          "contourcarpet": [
           {
            "colorbar": {
             "outlinewidth": 0,
             "ticks": ""
            },
            "type": "contourcarpet"
           }
          ],
          "heatmap": [
           {
            "colorbar": {
             "outlinewidth": 0,
             "ticks": ""
            },
            "colorscale": [
             [
              0,
              "#0d0887"
             ],
             [
              0.1111111111111111,
              "#46039f"
             ],
             [
              0.2222222222222222,
              "#7201a8"
             ],
             [
              0.3333333333333333,
              "#9c179e"
             ],
             [
              0.4444444444444444,
              "#bd3786"
             ],
             [
              0.5555555555555556,
              "#d8576b"
             ],
             [
              0.6666666666666666,
              "#ed7953"
             ],
             [
              0.7777777777777778,
              "#fb9f3a"
             ],
             [
              0.8888888888888888,
              "#fdca26"
             ],
             [
              1,
              "#f0f921"
             ]
            ],
            "type": "heatmap"
           }
          ],
          "heatmapgl": [
           {
            "colorbar": {
             "outlinewidth": 0,
             "ticks": ""
            },
            "colorscale": [
             [
              0,
              "#0d0887"
             ],
             [
              0.1111111111111111,
              "#46039f"
             ],
             [
              0.2222222222222222,
              "#7201a8"
             ],
             [
              0.3333333333333333,
              "#9c179e"
             ],
             [
              0.4444444444444444,
              "#bd3786"
             ],
             [
              0.5555555555555556,
              "#d8576b"
             ],
             [
              0.6666666666666666,
              "#ed7953"
             ],
             [
              0.7777777777777778,
              "#fb9f3a"
             ],
             [
              0.8888888888888888,
              "#fdca26"
             ],
             [
              1,
              "#f0f921"
             ]
            ],
            "type": "heatmapgl"
           }
          ],
          "histogram": [
           {
            "marker": {
             "pattern": {
              "fillmode": "overlay",
              "size": 10,
              "solidity": 0.2
             }
            },
            "type": "histogram"
           }
          ],
          "histogram2d": [
           {
            "colorbar": {
             "outlinewidth": 0,
             "ticks": ""
            },
            "colorscale": [
             [
              0,
              "#0d0887"
             ],
             [
              0.1111111111111111,
              "#46039f"
             ],
             [
              0.2222222222222222,
              "#7201a8"
             ],
             [
              0.3333333333333333,
              "#9c179e"
             ],
             [
              0.4444444444444444,
              "#bd3786"
             ],
             [
              0.5555555555555556,
              "#d8576b"
             ],
             [
              0.6666666666666666,
              "#ed7953"
             ],
             [
              0.7777777777777778,
              "#fb9f3a"
             ],
             [
              0.8888888888888888,
              "#fdca26"
             ],
             [
              1,
              "#f0f921"
             ]
            ],
            "type": "histogram2d"
           }
          ],
          "histogram2dcontour": [
           {
            "colorbar": {
             "outlinewidth": 0,
             "ticks": ""
            },
            "colorscale": [
             [
              0,
              "#0d0887"
             ],
             [
              0.1111111111111111,
              "#46039f"
             ],
             [
              0.2222222222222222,
              "#7201a8"
             ],
             [
              0.3333333333333333,
              "#9c179e"
             ],
             [
              0.4444444444444444,
              "#bd3786"
             ],
             [
              0.5555555555555556,
              "#d8576b"
             ],
             [
              0.6666666666666666,
              "#ed7953"
             ],
             [
              0.7777777777777778,
              "#fb9f3a"
             ],
             [
              0.8888888888888888,
              "#fdca26"
             ],
             [
              1,
              "#f0f921"
             ]
            ],
            "type": "histogram2dcontour"
           }
          ],
          "mesh3d": [
           {
            "colorbar": {
             "outlinewidth": 0,
             "ticks": ""
            },
            "type": "mesh3d"
           }
          ],
          "parcoords": [
           {
            "line": {
             "colorbar": {
              "outlinewidth": 0,
              "ticks": ""
             }
            },
            "type": "parcoords"
           }
          ],
          "pie": [
           {
            "automargin": true,
            "type": "pie"
           }
          ],
          "scatter": [
           {
            "fillpattern": {
             "fillmode": "overlay",
             "size": 10,
             "solidity": 0.2
            },
            "type": "scatter"
           }
          ],
          "scatter3d": [
           {
            "line": {
             "colorbar": {
              "outlinewidth": 0,
              "ticks": ""
             }
            },
            "marker": {
             "colorbar": {
              "outlinewidth": 0,
              "ticks": ""
             }
            },
            "type": "scatter3d"
           }
          ],
          "scattercarpet": [
           {
            "marker": {
             "colorbar": {
              "outlinewidth": 0,
              "ticks": ""
             }
            },
            "type": "scattercarpet"
           }
          ],
          "scattergeo": [
           {
            "marker": {
             "colorbar": {
              "outlinewidth": 0,
              "ticks": ""
             }
            },
            "type": "scattergeo"
           }
          ],
          "scattergl": [
           {
            "marker": {
             "colorbar": {
              "outlinewidth": 0,
              "ticks": ""
             }
            },
            "type": "scattergl"
           }
          ],
          "scattermapbox": [
           {
            "marker": {
             "colorbar": {
              "outlinewidth": 0,
              "ticks": ""
             }
            },
            "type": "scattermapbox"
           }
          ],
          "scatterpolar": [
           {
            "marker": {
             "colorbar": {
              "outlinewidth": 0,
              "ticks": ""
             }
            },
            "type": "scatterpolar"
           }
          ],
          "scatterpolargl": [
           {
            "marker": {
             "colorbar": {
              "outlinewidth": 0,
              "ticks": ""
             }
            },
            "type": "scatterpolargl"
           }
          ],
          "scatterternary": [
           {
            "marker": {
             "colorbar": {
              "outlinewidth": 0,
              "ticks": ""
             }
            },
            "type": "scatterternary"
           }
          ],
          "surface": [
           {
            "colorbar": {
             "outlinewidth": 0,
             "ticks": ""
            },
            "colorscale": [
             [
              0,
              "#0d0887"
             ],
             [
              0.1111111111111111,
              "#46039f"
             ],
             [
              0.2222222222222222,
              "#7201a8"
             ],
             [
              0.3333333333333333,
              "#9c179e"
             ],
             [
              0.4444444444444444,
              "#bd3786"
             ],
             [
              0.5555555555555556,
              "#d8576b"
             ],
             [
              0.6666666666666666,
              "#ed7953"
             ],
             [
              0.7777777777777778,
              "#fb9f3a"
             ],
             [
              0.8888888888888888,
              "#fdca26"
             ],
             [
              1,
              "#f0f921"
             ]
            ],
            "type": "surface"
           }
          ],
          "table": [
           {
            "cells": {
             "fill": {
              "color": "#EBF0F8"
             },
             "line": {
              "color": "white"
             }
            },
            "header": {
             "fill": {
              "color": "#C8D4E3"
             },
             "line": {
              "color": "white"
             }
            },
            "type": "table"
           }
          ]
         },
         "layout": {
          "annotationdefaults": {
           "arrowcolor": "#2a3f5f",
           "arrowhead": 0,
           "arrowwidth": 1
          },
          "autotypenumbers": "strict",
          "coloraxis": {
           "colorbar": {
            "outlinewidth": 0,
            "ticks": ""
           }
          },
          "colorscale": {
           "diverging": [
            [
             0,
             "#8e0152"
            ],
            [
             0.1,
             "#c51b7d"
            ],
            [
             0.2,
             "#de77ae"
            ],
            [
             0.3,
             "#f1b6da"
            ],
            [
             0.4,
             "#fde0ef"
            ],
            [
             0.5,
             "#f7f7f7"
            ],
            [
             0.6,
             "#e6f5d0"
            ],
            [
             0.7,
             "#b8e186"
            ],
            [
             0.8,
             "#7fbc41"
            ],
            [
             0.9,
             "#4d9221"
            ],
            [
             1,
             "#276419"
            ]
           ],
           "sequential": [
            [
             0,
             "#0d0887"
            ],
            [
             0.1111111111111111,
             "#46039f"
            ],
            [
             0.2222222222222222,
             "#7201a8"
            ],
            [
             0.3333333333333333,
             "#9c179e"
            ],
            [
             0.4444444444444444,
             "#bd3786"
            ],
            [
             0.5555555555555556,
             "#d8576b"
            ],
            [
             0.6666666666666666,
             "#ed7953"
            ],
            [
             0.7777777777777778,
             "#fb9f3a"
            ],
            [
             0.8888888888888888,
             "#fdca26"
            ],
            [
             1,
             "#f0f921"
            ]
           ],
           "sequentialminus": [
            [
             0,
             "#0d0887"
            ],
            [
             0.1111111111111111,
             "#46039f"
            ],
            [
             0.2222222222222222,
             "#7201a8"
            ],
            [
             0.3333333333333333,
             "#9c179e"
            ],
            [
             0.4444444444444444,
             "#bd3786"
            ],
            [
             0.5555555555555556,
             "#d8576b"
            ],
            [
             0.6666666666666666,
             "#ed7953"
            ],
            [
             0.7777777777777778,
             "#fb9f3a"
            ],
            [
             0.8888888888888888,
             "#fdca26"
            ],
            [
             1,
             "#f0f921"
            ]
           ]
          },
          "colorway": [
           "#636efa",
           "#EF553B",
           "#00cc96",
           "#ab63fa",
           "#FFA15A",
           "#19d3f3",
           "#FF6692",
           "#B6E880",
           "#FF97FF",
           "#FECB52"
          ],
          "font": {
           "color": "#2a3f5f"
          },
          "geo": {
           "bgcolor": "white",
           "lakecolor": "white",
           "landcolor": "#E5ECF6",
           "showlakes": true,
           "showland": true,
           "subunitcolor": "white"
          },
          "hoverlabel": {
           "align": "left"
          },
          "hovermode": "closest",
          "mapbox": {
           "style": "light"
          },
          "paper_bgcolor": "white",
          "plot_bgcolor": "#E5ECF6",
          "polar": {
           "angularaxis": {
            "gridcolor": "white",
            "linecolor": "white",
            "ticks": ""
           },
           "bgcolor": "#E5ECF6",
           "radialaxis": {
            "gridcolor": "white",
            "linecolor": "white",
            "ticks": ""
           }
          },
          "scene": {
           "xaxis": {
            "backgroundcolor": "#E5ECF6",
            "gridcolor": "white",
            "gridwidth": 2,
            "linecolor": "white",
            "showbackground": true,
            "ticks": "",
            "zerolinecolor": "white"
           },
           "yaxis": {
            "backgroundcolor": "#E5ECF6",
            "gridcolor": "white",
            "gridwidth": 2,
            "linecolor": "white",
            "showbackground": true,
            "ticks": "",
            "zerolinecolor": "white"
           },
           "zaxis": {
            "backgroundcolor": "#E5ECF6",
            "gridcolor": "white",
            "gridwidth": 2,
            "linecolor": "white",
            "showbackground": true,
            "ticks": "",
            "zerolinecolor": "white"
           }
          },
          "shapedefaults": {
           "line": {
            "color": "#2a3f5f"
           }
          },
          "ternary": {
           "aaxis": {
            "gridcolor": "white",
            "linecolor": "white",
            "ticks": ""
           },
           "baxis": {
            "gridcolor": "white",
            "linecolor": "white",
            "ticks": ""
           },
           "bgcolor": "#E5ECF6",
           "caxis": {
            "gridcolor": "white",
            "linecolor": "white",
            "ticks": ""
           }
          },
          "title": {
           "x": 0.05
          },
          "xaxis": {
           "automargin": true,
           "gridcolor": "white",
           "linecolor": "white",
           "ticks": "",
           "title": {
            "standoff": 15
           },
           "zerolinecolor": "white",
           "zerolinewidth": 2
          },
          "yaxis": {
           "automargin": true,
           "gridcolor": "white",
           "linecolor": "white",
           "ticks": "",
           "title": {
            "standoff": 15
           },
           "zerolinecolor": "white",
           "zerolinewidth": 2
          }
         }
        }
       }
      }
     },
     "metadata": {},
     "output_type": "display_data"
    }
   ],
   "source": [
    "fig = px.treemap(sector_rows_df, path=['Sector','Country'], values=0)\n",
    "# make margins larger and save to svg\n",
    "fig.update_layout(margin=dict(l=50, r=50, t=75, b=75))\n",
    "\n",
    "fig.show()"
   ]
  },
  {
   "cell_type": "markdown",
   "metadata": {},
   "source": [
    "# 2020 Treemap (East vs. Western Spending Industries)"
   ]
  },
  {
   "cell_type": "markdown",
   "metadata": {},
   "source": [
    "# Time Ridge Plot (% Percent Change in Spending)"
   ]
  },
  {
   "cell_type": "code",
   "execution_count": 429,
   "metadata": {},
   "outputs": [],
   "source": [
    "# Create the data\n",
    "rs = np.random.RandomState(1979)\n",
    "x = rs.randn(500)\n",
    "g = np.tile(list(\"ABCDEFGHIJ\"), 50)\n",
    "df = pd.DataFrame(dict(x=x, g=g))\n",
    "m = df.g.map(ord)\n",
    "df[\"x\"] += m"
   ]
  },
  {
   "cell_type": "code",
   "execution_count": 430,
   "metadata": {},
   "outputs": [
    {
     "data": {
      "text/plain": [
       "A    50\n",
       "B    50\n",
       "C    50\n",
       "D    50\n",
       "E    50\n",
       "F    50\n",
       "G    50\n",
       "H    50\n",
       "I    50\n",
       "J    50\n",
       "Name: g, dtype: int64"
      ]
     },
     "execution_count": 430,
     "metadata": {},
     "output_type": "execute_result"
    }
   ],
   "source": [
    "df[\"g\"].value_counts()"
   ]
  },
  {
   "cell_type": "code",
   "execution_count": 431,
   "metadata": {},
   "outputs": [
    {
     "data": {
      "text/plain": [
       "<Axes: xlabel='Year', ylabel='GDP(%)'>"
      ]
     },
     "execution_count": 431,
     "metadata": {},
     "output_type": "execute_result"
    },
    {
     "data": {
      "image/png": "[encoded data removed]",
      "text/plain": [
       "<Figure size 640x480 with 1 Axes>"
      ]
     },
     "metadata": {},
     "output_type": "display_data"
    }
   ],
   "source": [
    "# line plot of year and gdp\n",
    "sns.lineplot(data=world_totals_df, x=\"Year\", y=\"GDP(%)\", hue=\"Country\")"
   ]
  },
  {
   "cell_type": "code",
   "execution_count": 432,
   "metadata": {},
   "outputs": [
    {
     "name": "stderr",
     "output_type": "stream",
     "text": [
      "C:\\Users\\commo\\AppData\\Roaming\\Python\\Python311\\site-packages\\seaborn\\axisgrid.py:118: UserWarning:\n",
      "\n",
      "Tight layout not applied. The bottom and top margins cannot be made large enough to accommodate all axes decorations.\n",
      "\n",
      "C:\\Users\\commo\\AppData\\Roaming\\Python\\Python311\\site-packages\\seaborn\\axisgrid.py:118: UserWarning:\n",
      "\n",
      "Tight layout not applied. The bottom and top margins cannot be made large enough to accommodate all axes decorations.\n",
      "\n",
      "C:\\Users\\commo\\AppData\\Roaming\\Python\\Python311\\site-packages\\seaborn\\axisgrid.py:118: UserWarning:\n",
      "\n",
      "The figure layout has changed to tight\n",
      "\n"
     ]
    },
    {
     "data": {
      "text/plain": [
       "<seaborn.axisgrid.FacetGrid at 0x275127b8610>"
      ]
     },
     "execution_count": 432,
     "metadata": {},
     "output_type": "execute_result"
    },
    {
     "data": {
      "image/png": "[encoded data removed]",
      "text/plain": [
       "<Figure size 750x50 with 1 Axes>"
      ]
     },
     "metadata": {},
     "output_type": "display_data"
    }
   ],
   "source": [
    "world_totals_df = world_df[world_df['Sector'] == \"Total function\"]\n",
    "world_totals_df = world_totals_df[world_totals_df['Country'] == \"Australia\"]\n",
    "# Initialize the FacetGrid object\n",
    "pal = sns.cubehelix_palette(10, rot=-.25, light=.7)\n",
    "g = sns.FacetGrid(world_totals_df, row=\"Country\", aspect=15, height=.5, palette=pal)\n",
    "\n",
    "g.map(sns.lineplot, \"Year\",\"GDP(%)\")\n",
    "\n",
    "# Remove axes details that don't play well with overlap\n",
    "g.set_titles(\"\")\n",
    "g.set(yticks=[], ylabel=\"\")\n",
    "g.despine(bottom=True, left=True)"
   ]
  },
  {
   "cell_type": "markdown",
   "metadata": {},
   "source": [
    "# Time Multiple Country Line Plots (% Percent Change in Spending)"
   ]
  },
  {
   "cell_type": "markdown",
   "metadata": {},
   "source": [
    "# Time Multiple Country + Sector Stacked Plots (% Spent relative to GDP)"
   ]
  },
  {
   "cell_type": "markdown",
   "metadata": {},
   "source": [
    "# Time Stacked Plot (% Spent Sector relative  to within-sector Spending)"
   ]
  },
  {
   "cell_type": "markdown",
   "metadata": {},
   "source": [
    "# Time Multiple Sector Stacked Plot (% Spent Country + Sector relative to sector Spending)"
   ]
  }
 ],
 "metadata": {
  "kernelspec": {
   "display_name": "Python 3",
   "language": "python",
   "name": "python3"
  },
  "language_info": {
   "codemirror_mode": {
    "name": "ipython",
    "version": 3
   },
   "file_extension": ".py",
   "mimetype": "text/x-python",
   "name": "python",
   "nbconvert_exporter": "python",
   "pygments_lexer": "ipython3",
   "version": "3.11.3"
  }
 },
 "nbformat": 4,
 "nbformat_minor": 2
}
